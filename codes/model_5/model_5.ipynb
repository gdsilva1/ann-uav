{
  "cells": [
    {
      "cell_type": "markdown",
      "metadata": {
        "id": "Fzf7tV6lb7Qt"
      },
      "source": [
        "# Model 5"
      ]
    },
    {
      "cell_type": "markdown",
      "metadata": {
        "id": "vkzlvxPkb7Qy"
      },
      "source": [
        "## Data preprocessing"
      ]
    },
    {
      "cell_type": "code",
      "execution_count": 1,
      "metadata": {
        "id": "TMAG7ceYb7Qz"
      },
      "outputs": [
        {
          "name": "stderr",
          "output_type": "stream",
          "text": [
            "2023-08-22 03:17:43.502786: I tensorflow/stream_executor/platform/default/dso_loader.cc:49] Successfully opened dynamic library libcudart.so.10.1\n"
          ]
        }
      ],
      "source": [
        "# Setup\n",
        "import random\n",
        "import numpy as np\n",
        "import pandas as pd\n",
        "import tensorflow as tf\n",
        "import seaborn as sns\n",
        "import matplotlib.pyplot as plt\n",
        "from scipy.io import loadmat\n",
        "from sklearn.model_selection import train_test_split\n",
        "from sklearn.preprocessing import normalize"
      ]
    },
    {
      "cell_type": "code",
      "execution_count": 2,
      "metadata": {
        "colab": {
          "base_uri": "https://localhost:8080/"
        },
        "id": "Sg88OWncb_Xr",
        "outputId": "3890c62b-4ea3-41e8-ba30-afc091bd6cb3"
      },
      "outputs": [],
      "source": [
        "# Loading the MATLAB files.\n",
        "xs = loadmat('xs_all.mat')\n",
        "tau = loadmat('tau_all.mat')"
      ]
    },
    {
      "cell_type": "code",
      "execution_count": 3,
      "metadata": {},
      "outputs": [],
      "source": [
        "def pre_processing(xs, tau, n_samples=1000, xs_name='xs_all', tau_name='tau_all'):\n",
        "\n",
        "    tau_all = tau['tau_all'].squeeze()\n",
        "    xs_all = xs['xs_all'].squeeze()\n",
        "\n",
        "    # Normalized\n",
        "    tau_all = np.array([normalize(i.T, axis=0) for i in tau_all])\n",
        "    xs_all = np.array([normalize(i.T, axis=0) for i in xs_all])\n",
        "\n",
        "    # tau_all = np.array([i.T for i in tau_all])\n",
        "    # xs_all = np.array([i.T for i in xs_all])\n",
        "\n",
        "    return xs_all, tau_all"
      ]
    },
    {
      "cell_type": "code",
      "execution_count": 4,
      "metadata": {
        "id": "6q8mBtrPTnjp"
      },
      "outputs": [],
      "source": [
        "xs_all, tau_all = pre_processing(xs,tau)"
      ]
    },
    {
      "cell_type": "markdown",
      "metadata": {
        "id": "KhZqsiMAb7Q7"
      },
      "source": [
        "## Creating the Model"
      ]
    },
    {
      "cell_type": "code",
      "execution_count": 5,
      "metadata": {
        "id": "l1LtX75Qb7Q8"
      },
      "outputs": [
        {
          "name": "stderr",
          "output_type": "stream",
          "text": [
            "2023-08-22 03:18:04.387290: I tensorflow/compiler/jit/xla_cpu_device.cc:41] Not creating XLA devices, tf_xla_enable_xla_devices not set\n",
            "2023-08-22 03:18:04.392987: I tensorflow/stream_executor/platform/default/dso_loader.cc:49] Successfully opened dynamic library libcuda.so.1\n",
            "2023-08-22 03:18:04.418738: I tensorflow/stream_executor/cuda/cuda_gpu_executor.cc:941] successful NUMA node read from SysFS had negative value (-1), but there must be at least one NUMA node, so returning NUMA node zero\n",
            "2023-08-22 03:18:04.419037: I tensorflow/core/common_runtime/gpu/gpu_device.cc:1720] Found device 0 with properties: \n",
            "pciBusID: 0000:01:00.0 name: NVIDIA GeForce GTX 1650 computeCapability: 7.5\n",
            "coreClock: 1.515GHz coreCount: 14 deviceMemorySize: 3.81GiB deviceMemoryBandwidth: 178.84GiB/s\n",
            "2023-08-22 03:18:04.419083: I tensorflow/stream_executor/platform/default/dso_loader.cc:49] Successfully opened dynamic library libcudart.so.10.1\n",
            "2023-08-22 03:18:04.449687: I tensorflow/stream_executor/platform/default/dso_loader.cc:49] Successfully opened dynamic library libcublas.so.10\n",
            "2023-08-22 03:18:04.449882: I tensorflow/stream_executor/platform/default/dso_loader.cc:49] Successfully opened dynamic library libcublasLt.so.10\n",
            "2023-08-22 03:18:04.467550: I tensorflow/stream_executor/platform/default/dso_loader.cc:49] Successfully opened dynamic library libcufft.so.10\n",
            "2023-08-22 03:18:04.471857: I tensorflow/stream_executor/platform/default/dso_loader.cc:49] Successfully opened dynamic library libcurand.so.10\n",
            "2023-08-22 03:18:04.502693: I tensorflow/stream_executor/platform/default/dso_loader.cc:49] Successfully opened dynamic library libcusolver.so.10\n",
            "2023-08-22 03:18:04.507021: I tensorflow/stream_executor/platform/default/dso_loader.cc:49] Successfully opened dynamic library libcusparse.so.10\n",
            "2023-08-22 03:18:04.562997: I tensorflow/stream_executor/platform/default/dso_loader.cc:49] Successfully opened dynamic library libcudnn.so.7\n",
            "2023-08-22 03:18:04.563258: I tensorflow/stream_executor/cuda/cuda_gpu_executor.cc:941] successful NUMA node read from SysFS had negative value (-1), but there must be at least one NUMA node, so returning NUMA node zero\n",
            "2023-08-22 03:18:04.563506: I tensorflow/stream_executor/cuda/cuda_gpu_executor.cc:941] successful NUMA node read from SysFS had negative value (-1), but there must be at least one NUMA node, so returning NUMA node zero\n",
            "2023-08-22 03:18:04.563594: I tensorflow/core/common_runtime/gpu/gpu_device.cc:1862] Adding visible gpu devices: 0\n",
            "2023-08-22 03:18:04.564809: I tensorflow/core/platform/cpu_feature_guard.cc:142] This TensorFlow binary is optimized with oneAPI Deep Neural Network Library (oneDNN) to use the following CPU instructions in performance-critical operations:  SSE4.1 SSE4.2 AVX AVX2 AVX512F FMA\n",
            "To enable them in other operations, rebuild TensorFlow with the appropriate compiler flags.\n",
            "2023-08-22 03:18:04.566026: I tensorflow/compiler/jit/xla_gpu_device.cc:99] Not creating XLA devices, tf_xla_enable_xla_devices not set\n",
            "2023-08-22 03:18:04.566354: I tensorflow/stream_executor/cuda/cuda_gpu_executor.cc:941] successful NUMA node read from SysFS had negative value (-1), but there must be at least one NUMA node, so returning NUMA node zero\n",
            "2023-08-22 03:18:04.566541: I tensorflow/core/common_runtime/gpu/gpu_device.cc:1720] Found device 0 with properties: \n",
            "pciBusID: 0000:01:00.0 name: NVIDIA GeForce GTX 1650 computeCapability: 7.5\n",
            "coreClock: 1.515GHz coreCount: 14 deviceMemorySize: 3.81GiB deviceMemoryBandwidth: 178.84GiB/s\n",
            "2023-08-22 03:18:04.566592: I tensorflow/stream_executor/platform/default/dso_loader.cc:49] Successfully opened dynamic library libcudart.so.10.1\n",
            "2023-08-22 03:18:04.566638: I tensorflow/stream_executor/platform/default/dso_loader.cc:49] Successfully opened dynamic library libcublas.so.10\n",
            "2023-08-22 03:18:04.566652: I tensorflow/stream_executor/platform/default/dso_loader.cc:49] Successfully opened dynamic library libcublasLt.so.10\n",
            "2023-08-22 03:18:04.566663: I tensorflow/stream_executor/platform/default/dso_loader.cc:49] Successfully opened dynamic library libcufft.so.10\n",
            "2023-08-22 03:18:04.566673: I tensorflow/stream_executor/platform/default/dso_loader.cc:49] Successfully opened dynamic library libcurand.so.10\n",
            "2023-08-22 03:18:04.566686: I tensorflow/stream_executor/platform/default/dso_loader.cc:49] Successfully opened dynamic library libcusolver.so.10\n",
            "2023-08-22 03:18:04.566697: I tensorflow/stream_executor/platform/default/dso_loader.cc:49] Successfully opened dynamic library libcusparse.so.10\n",
            "2023-08-22 03:18:04.566707: I tensorflow/stream_executor/platform/default/dso_loader.cc:49] Successfully opened dynamic library libcudnn.so.7\n",
            "2023-08-22 03:18:04.566807: I tensorflow/stream_executor/cuda/cuda_gpu_executor.cc:941] successful NUMA node read from SysFS had negative value (-1), but there must be at least one NUMA node, so returning NUMA node zero\n",
            "2023-08-22 03:18:04.566951: I tensorflow/stream_executor/cuda/cuda_gpu_executor.cc:941] successful NUMA node read from SysFS had negative value (-1), but there must be at least one NUMA node, so returning NUMA node zero\n",
            "2023-08-22 03:18:04.567035: I tensorflow/core/common_runtime/gpu/gpu_device.cc:1862] Adding visible gpu devices: 0\n",
            "2023-08-22 03:18:04.567459: I tensorflow/stream_executor/platform/default/dso_loader.cc:49] Successfully opened dynamic library libcudart.so.10.1\n",
            "2023-08-22 03:18:05.547027: I tensorflow/core/common_runtime/gpu/gpu_device.cc:1261] Device interconnect StreamExecutor with strength 1 edge matrix:\n",
            "2023-08-22 03:18:05.547081: I tensorflow/core/common_runtime/gpu/gpu_device.cc:1267]      0 \n",
            "2023-08-22 03:18:05.547088: I tensorflow/core/common_runtime/gpu/gpu_device.cc:1280] 0:   N \n",
            "2023-08-22 03:18:05.547813: I tensorflow/stream_executor/cuda/cuda_gpu_executor.cc:941] successful NUMA node read from SysFS had negative value (-1), but there must be at least one NUMA node, so returning NUMA node zero\n",
            "2023-08-22 03:18:05.548060: I tensorflow/stream_executor/cuda/cuda_gpu_executor.cc:941] successful NUMA node read from SysFS had negative value (-1), but there must be at least one NUMA node, so returning NUMA node zero\n",
            "2023-08-22 03:18:05.548190: I tensorflow/stream_executor/cuda/cuda_gpu_executor.cc:941] successful NUMA node read from SysFS had negative value (-1), but there must be at least one NUMA node, so returning NUMA node zero\n",
            "2023-08-22 03:18:05.548294: I tensorflow/core/common_runtime/gpu/gpu_device.cc:1406] Created TensorFlow device (/job:localhost/replica:0/task:0/device:GPU:0 with 3407 MB memory) -> physical GPU (device: 0, name: NVIDIA GeForce GTX 1650, pci bus id: 0000:01:00.0, compute capability: 7.5)\n",
            "2023-08-22 03:18:05.552048: W tensorflow/core/framework/cpu_allocator_impl.cc:80] Allocation of 1536076800 exceeds 10% of free system memory.\n",
            "2023-08-22 03:18:06.134550: W tensorflow/core/framework/cpu_allocator_impl.cc:80] Allocation of 384019200 exceeds 10% of free system memory.\n",
            "2023-08-22 03:18:06.268676: W tensorflow/core/framework/cpu_allocator_impl.cc:80] Allocation of 512025600 exceeds 10% of free system memory.\n",
            "2023-08-22 03:18:06.480222: W tensorflow/core/framework/cpu_allocator_impl.cc:80] Allocation of 128006400 exceeds 10% of free system memory.\n"
          ]
        }
      ],
      "source": [
        "# Splitting the data\n",
        "X_train, X_test, y_train, y_test = train_test_split(xs_all,\n",
        "                                                    tau_all,\n",
        "                                                    test_size=0.2,\n",
        "                                                    shuffle=True)\n",
        "\n",
        "X_train = tf.convert_to_tensor(X_train)\n",
        "X_test = tf.convert_to_tensor(X_test)\n",
        "y_train = tf.convert_to_tensor(y_train)\n",
        "y_test = tf.convert_to_tensor(y_test)"
      ]
    },
    {
      "cell_type": "code",
      "execution_count": 6,
      "metadata": {},
      "outputs": [],
      "source": [
        "def create_model(X_train, y_train, n_epochs=10):\n",
        "\n",
        "    model = tf.keras.Sequential([\n",
        "        tf.keras.layers.Dense(128, activation='relu', input_shape=(20001,12)),\n",
        "        tf.keras.layers.Dense(128, activation='linear'),\n",
        "        tf.keras.layers.Dense(4, activation='linear')\n",
        "    ])\n",
        "\n",
        "    model.compile(loss=tf.keras.losses.mean_absolute_error,\n",
        "                  optimizer=tf.keras.optimizers.Adam(),\n",
        "                  metrics=['mse'])\n",
        "\n",
        "    history = model.fit(X_train,\n",
        "                        y_train,\n",
        "                        epochs=n_epochs,\n",
        "                        use_multiprocessing=True)\n",
        "\n",
        "    return model, history"
      ]
    },
    {
      "cell_type": "code",
      "execution_count": 7,
      "metadata": {
        "colab": {
          "base_uri": "https://localhost:8080/"
        },
        "id": "-DNfLcMrU8n-",
        "outputId": "1220352f-25b9-4a2a-cf2a-7218dbd8ee22"
      },
      "outputs": [
        {
          "name": "stderr",
          "output_type": "stream",
          "text": [
            "2023-08-22 03:18:07.071309: I tensorflow/compiler/mlir/mlir_graph_optimization_pass.cc:116] None of the MLIR optimization passes are enabled (registered 2)\n",
            "2023-08-22 03:18:07.081830: I tensorflow/core/platform/profile_utils/cpu_utils.cc:112] CPU Frequency: 2689000000 Hz\n"
          ]
        },
        {
          "name": "stdout",
          "output_type": "stream",
          "text": [
            "Epoch 1/8\n"
          ]
        },
        {
          "name": "stderr",
          "output_type": "stream",
          "text": [
            "2023-08-22 03:18:07.493656: W tensorflow/core/framework/cpu_allocator_impl.cc:80] Allocation of 61443072 exceeds 10% of free system memory.\n",
            "2023-08-22 03:18:07.493656: W tensorflow/core/framework/cpu_allocator_impl.cc:80] Allocation of 61443072 exceeds 10% of free system memory.\n",
            "2023-08-22 03:18:07.552445: I tensorflow/stream_executor/platform/default/dso_loader.cc:49] Successfully opened dynamic library libcublas.so.10\n"
          ]
        },
        {
          "name": "stdout",
          "output_type": "stream",
          "text": [
            "25/25 [==============================] - 3s 105ms/step - loss: 0.0049 - mse: 6.9002e-05\n",
            "Epoch 2/8\n",
            "25/25 [==============================] - 3s 105ms/step - loss: 0.0012 - mse: 1.9675e-05\n",
            "Epoch 3/8\n",
            "25/25 [==============================] - 3s 103ms/step - loss: 9.2181e-04 - mse: 1.4439e-05\n",
            "Epoch 4/8\n",
            "25/25 [==============================] - 2s 97ms/step - loss: 8.8853e-04 - mse: 1.3819e-05\n",
            "Epoch 5/8\n",
            "25/25 [==============================] - 3s 100ms/step - loss: 8.8638e-04 - mse: 1.3752e-05\n",
            "Epoch 6/8\n",
            "25/25 [==============================] - 3s 101ms/step - loss: 9.9063e-04 - mse: 1.3745e-05\n",
            "Epoch 7/8\n",
            "25/25 [==============================] - 2s 100ms/step - loss: 0.0010 - mse: 1.3315e-05\n",
            "Epoch 8/8\n",
            "25/25 [==============================] - 2s 94ms/step - loss: 8.5482e-04 - mse: 1.2821e-05\n"
          ]
        }
      ],
      "source": [
        "model, history = create_model(X_train, y_train, n_epochs=8)"
      ]
    },
    {
      "cell_type": "code",
      "execution_count": 11,
      "metadata": {},
      "outputs": [],
      "source": [
        "def plot_loss_function(history, save='no', scilimits=(-2,2)):\n",
        "\n",
        "    sns.set_theme(style='darkgrid', palette='bright')\n",
        "    fig, ax = plt.subplots(figsize=(5,3))\n",
        "\n",
        "    t = np.linspace(1,len(history.history['loss']),len(history.history['loss']))\n",
        "\n",
        "    ax.plot(t, history.history['loss'])\n",
        "    ax.set_xlabel('Epochs')\n",
        "    ax.set_ylabel('Loss')\n",
        "    ax.ticklabel_format(style='sci',\n",
        "                        scilimits=scilimits,\n",
        "                        useMathText=True)\n",
        "    \n",
        "    if save == 'yes':\n",
        "        fig.savefig('loss.pgf', backend='pgf')"
      ]
    },
    {
      "cell_type": "code",
      "execution_count": 12,
      "metadata": {
        "colab": {
          "base_uri": "https://localhost:8080/",
          "height": 459
        },
        "id": "gZNU7ngrWlqy",
        "outputId": "76b2678f-556f-41e1-e401-de88f8ad63de"
      },
      "outputs": [
        {
          "data": {
            "image/png": "[encoded data removed]",
            "text/plain": [
              "<Figure size 500x300 with 1 Axes>"
            ]
          },
          "metadata": {},
          "output_type": "display_data"
        }
      ],
      "source": [
        "plot_loss_function(history)"
      ]
    },
    {
      "cell_type": "code",
      "execution_count": 13,
      "metadata": {
        "colab": {
          "base_uri": "https://localhost:8080/"
        },
        "id": "h_ZfFI9Qb7Q_",
        "outputId": "d0a59d41-2d73-466b-9b0b-8a35169eb59d"
      },
      "outputs": [
        {
          "name": "stdout",
          "output_type": "stream",
          "text": [
            "7/7 [==============================] - 1s 45ms/step - loss: 5.8105e-04 - mse: 1.2191e-05\n"
          ]
        },
        {
          "data": {
            "text/plain": [
              "[0.0005810527363792062, 1.2191466339572798e-05]"
            ]
          },
          "execution_count": 13,
          "metadata": {},
          "output_type": "execute_result"
        }
      ],
      "source": [
        "# Testing the model\n",
        "model.evaluate(X_test, y_test)"
      ]
    },
    {
      "cell_type": "code",
      "execution_count": 14,
      "metadata": {
        "id": "cG6wy5x8a38_"
      },
      "outputs": [],
      "source": [
        "# model.save('model_nn')"
      ]
    },
    {
      "cell_type": "code",
      "execution_count": 15,
      "metadata": {},
      "outputs": [
        {
          "name": "stdout",
          "output_type": "stream",
          "text": [
            "WARNING:tensorflow:Model was constructed with shape (None, 20001, 12) for input KerasTensor(type_spec=TensorSpec(shape=(None, 20001, 12), dtype=tf.float32, name='dense_input'), name='dense_input', description=\"created by layer 'dense_input'\"), but it was called on an input with incompatible shape (None, 12).\n"
          ]
        }
      ],
      "source": [
        "y_test_0 = model.predict(X_test[100])"
      ]
    },
    {
      "cell_type": "code",
      "execution_count": 16,
      "metadata": {},
      "outputs": [
        {
          "data": {
            "text/html": [
              "<div>\n",
              "<style scoped>\n",
              "    .dataframe tbody tr th:only-of-type {\n",
              "        vertical-align: middle;\n",
              "    }\n",
              "\n",
              "    .dataframe tbody tr th {\n",
              "        vertical-align: top;\n",
              "    }\n",
              "\n",
              "    .dataframe thead th {\n",
              "        text-align: right;\n",
              "    }\n",
              "</style>\n",
              "<table border=\"1\" class=\"dataframe\">\n",
              "  <thead>\n",
              "    <tr style=\"text-align: right;\">\n",
              "      <th></th>\n",
              "      <th>0</th>\n",
              "      <th>1</th>\n",
              "      <th>2</th>\n",
              "      <th>3</th>\n",
              "    </tr>\n",
              "  </thead>\n",
              "  <tbody>\n",
              "    <tr>\n",
              "      <th>0</th>\n",
              "      <td>0.007067</td>\n",
              "      <td>0.000000</td>\n",
              "      <td>0.000000</td>\n",
              "      <td>0.000000e+00</td>\n",
              "    </tr>\n",
              "    <tr>\n",
              "      <th>1</th>\n",
              "      <td>0.009444</td>\n",
              "      <td>0.000000</td>\n",
              "      <td>0.000000</td>\n",
              "      <td>-9.147060e-02</td>\n",
              "    </tr>\n",
              "    <tr>\n",
              "      <th>2</th>\n",
              "      <td>0.009444</td>\n",
              "      <td>-0.029972</td>\n",
              "      <td>0.421057</td>\n",
              "      <td>-9.147060e-02</td>\n",
              "    </tr>\n",
              "    <tr>\n",
              "      <th>3</th>\n",
              "      <td>0.009435</td>\n",
              "      <td>-0.030119</td>\n",
              "      <td>0.420799</td>\n",
              "      <td>-9.107067e-02</td>\n",
              "    </tr>\n",
              "    <tr>\n",
              "      <th>4</th>\n",
              "      <td>0.009425</td>\n",
              "      <td>-0.030012</td>\n",
              "      <td>0.372936</td>\n",
              "      <td>-9.066281e-02</td>\n",
              "    </tr>\n",
              "    <tr>\n",
              "      <th>...</th>\n",
              "      <td>...</td>\n",
              "      <td>...</td>\n",
              "      <td>...</td>\n",
              "      <td>...</td>\n",
              "    </tr>\n",
              "    <tr>\n",
              "      <th>19996</th>\n",
              "      <td>0.007068</td>\n",
              "      <td>-0.000213</td>\n",
              "      <td>0.000047</td>\n",
              "      <td>-3.090434e-07</td>\n",
              "    </tr>\n",
              "    <tr>\n",
              "      <th>19997</th>\n",
              "      <td>0.007068</td>\n",
              "      <td>-0.000213</td>\n",
              "      <td>0.000047</td>\n",
              "      <td>-3.086120e-07</td>\n",
              "    </tr>\n",
              "    <tr>\n",
              "      <th>19998</th>\n",
              "      <td>0.007068</td>\n",
              "      <td>-0.000214</td>\n",
              "      <td>0.000047</td>\n",
              "      <td>-3.081794e-07</td>\n",
              "    </tr>\n",
              "    <tr>\n",
              "      <th>19999</th>\n",
              "      <td>0.007068</td>\n",
              "      <td>-0.000214</td>\n",
              "      <td>0.000047</td>\n",
              "      <td>-3.077456e-07</td>\n",
              "    </tr>\n",
              "    <tr>\n",
              "      <th>20000</th>\n",
              "      <td>0.007068</td>\n",
              "      <td>-0.000214</td>\n",
              "      <td>0.000047</td>\n",
              "      <td>-3.073106e-07</td>\n",
              "    </tr>\n",
              "  </tbody>\n",
              "</table>\n",
              "<p>20001 rows × 4 columns</p>\n",
              "</div>"
            ],
            "text/plain": [
              "              0         1         2             3\n",
              "0      0.007067  0.000000  0.000000  0.000000e+00\n",
              "1      0.009444  0.000000  0.000000 -9.147060e-02\n",
              "2      0.009444 -0.029972  0.421057 -9.147060e-02\n",
              "3      0.009435 -0.030119  0.420799 -9.107067e-02\n",
              "4      0.009425 -0.030012  0.372936 -9.066281e-02\n",
              "...         ...       ...       ...           ...\n",
              "19996  0.007068 -0.000213  0.000047 -3.090434e-07\n",
              "19997  0.007068 -0.000213  0.000047 -3.086120e-07\n",
              "19998  0.007068 -0.000214  0.000047 -3.081794e-07\n",
              "19999  0.007068 -0.000214  0.000047 -3.077456e-07\n",
              "20000  0.007068 -0.000214  0.000047 -3.073106e-07\n",
              "\n",
              "[20001 rows x 4 columns]"
            ]
          },
          "execution_count": 16,
          "metadata": {},
          "output_type": "execute_result"
        }
      ],
      "source": [
        "pd.DataFrame(y_test[100])"
      ]
    },
    {
      "cell_type": "code",
      "execution_count": 17,
      "metadata": {},
      "outputs": [
        {
          "data": {
            "text/html": [
              "<div>\n",
              "<style scoped>\n",
              "    .dataframe tbody tr th:only-of-type {\n",
              "        vertical-align: middle;\n",
              "    }\n",
              "\n",
              "    .dataframe tbody tr th {\n",
              "        vertical-align: top;\n",
              "    }\n",
              "\n",
              "    .dataframe thead th {\n",
              "        text-align: right;\n",
              "    }\n",
              "</style>\n",
              "<table border=\"1\" class=\"dataframe\">\n",
              "  <thead>\n",
              "    <tr style=\"text-align: right;\">\n",
              "      <th></th>\n",
              "      <th>0</th>\n",
              "      <th>1</th>\n",
              "      <th>2</th>\n",
              "      <th>3</th>\n",
              "    </tr>\n",
              "  </thead>\n",
              "  <tbody>\n",
              "    <tr>\n",
              "      <th>0</th>\n",
              "      <td>0.010355</td>\n",
              "      <td>-0.044502</td>\n",
              "      <td>0.004359</td>\n",
              "      <td>-0.059678</td>\n",
              "    </tr>\n",
              "    <tr>\n",
              "      <th>1</th>\n",
              "      <td>0.010355</td>\n",
              "      <td>-0.044502</td>\n",
              "      <td>0.004359</td>\n",
              "      <td>-0.059678</td>\n",
              "    </tr>\n",
              "    <tr>\n",
              "      <th>2</th>\n",
              "      <td>0.010400</td>\n",
              "      <td>-0.044660</td>\n",
              "      <td>0.004209</td>\n",
              "      <td>-0.059547</td>\n",
              "    </tr>\n",
              "    <tr>\n",
              "      <th>3</th>\n",
              "      <td>0.010425</td>\n",
              "      <td>-0.043916</td>\n",
              "      <td>0.003793</td>\n",
              "      <td>-0.063195</td>\n",
              "    </tr>\n",
              "    <tr>\n",
              "      <th>4</th>\n",
              "      <td>0.010433</td>\n",
              "      <td>-0.043215</td>\n",
              "      <td>0.003394</td>\n",
              "      <td>-0.066806</td>\n",
              "    </tr>\n",
              "    <tr>\n",
              "      <th>...</th>\n",
              "      <td>...</td>\n",
              "      <td>...</td>\n",
              "      <td>...</td>\n",
              "      <td>...</td>\n",
              "    </tr>\n",
              "    <tr>\n",
              "      <th>19996</th>\n",
              "      <td>0.007663</td>\n",
              "      <td>-0.001338</td>\n",
              "      <td>0.000084</td>\n",
              "      <td>0.000349</td>\n",
              "    </tr>\n",
              "    <tr>\n",
              "      <th>19997</th>\n",
              "      <td>0.007663</td>\n",
              "      <td>-0.001339</td>\n",
              "      <td>0.000083</td>\n",
              "      <td>0.000349</td>\n",
              "    </tr>\n",
              "    <tr>\n",
              "      <th>19998</th>\n",
              "      <td>0.007664</td>\n",
              "      <td>-0.001340</td>\n",
              "      <td>0.000083</td>\n",
              "      <td>0.000348</td>\n",
              "    </tr>\n",
              "    <tr>\n",
              "      <th>19999</th>\n",
              "      <td>0.007664</td>\n",
              "      <td>-0.001341</td>\n",
              "      <td>0.000083</td>\n",
              "      <td>0.000348</td>\n",
              "    </tr>\n",
              "    <tr>\n",
              "      <th>20000</th>\n",
              "      <td>0.007664</td>\n",
              "      <td>-0.001343</td>\n",
              "      <td>0.000082</td>\n",
              "      <td>0.000348</td>\n",
              "    </tr>\n",
              "  </tbody>\n",
              "</table>\n",
              "<p>20001 rows × 4 columns</p>\n",
              "</div>"
            ],
            "text/plain": [
              "              0         1         2         3\n",
              "0      0.010355 -0.044502  0.004359 -0.059678\n",
              "1      0.010355 -0.044502  0.004359 -0.059678\n",
              "2      0.010400 -0.044660  0.004209 -0.059547\n",
              "3      0.010425 -0.043916  0.003793 -0.063195\n",
              "4      0.010433 -0.043215  0.003394 -0.066806\n",
              "...         ...       ...       ...       ...\n",
              "19996  0.007663 -0.001338  0.000084  0.000349\n",
              "19997  0.007663 -0.001339  0.000083  0.000349\n",
              "19998  0.007664 -0.001340  0.000083  0.000348\n",
              "19999  0.007664 -0.001341  0.000083  0.000348\n",
              "20000  0.007664 -0.001343  0.000082  0.000348\n",
              "\n",
              "[20001 rows x 4 columns]"
            ]
          },
          "execution_count": 17,
          "metadata": {},
          "output_type": "execute_result"
        }
      ],
      "source": [
        "pd.DataFrame(y_test_0)"
      ]
    },
    {
      "cell_type": "code",
      "execution_count": 18,
      "metadata": {},
      "outputs": [
        {
          "data": {
            "image/png": "[encoded data removed]",
            "text/plain": [
              "<Figure size 500x1000 with 4 Axes>"
            ]
          },
          "metadata": {},
          "output_type": "display_data"
        }
      ],
      "source": [
        "fig, ax = plt.subplots(4,1, figsize=(5,10))\n",
        "\n",
        "t = np.linspace(0,50,20001)\n",
        "\n",
        "for i in range(4):\n",
        "    ax[i].set_xlabel('Tempo (s)')\n",
        "    ax[i].set_ylabel(f'$U_{i+1}$')\n",
        "    ax[i].plot(t, y_test_0[:,i], label='Pred')\n",
        "    ax[i].plot(t, y_test[100][:,i], label='Real', ls='-.')\n",
        "    ax[i].legend(loc='best')\n",
        "    ax[i].ticklabel_format(style='sci',\n",
        "                           scilimits=(-2,2),\n",
        "                           useMathText=True)\n",
        "    \n",
        "fig.tight_layout()\n",
        "fig.savefig('model.pgf', backend='pgf')"
      ]
    }
  ],
  "metadata": {
    "accelerator": "GPU",
    "colab": {
      "gpuType": "T4",
      "provenance": []
    },
    "kernelspec": {
      "display_name": "Python 3",
      "name": "python3"
    },
    "language_info": {
      "codemirror_mode": {
        "name": "ipython",
        "version": 3
      },
      "file_extension": ".py",
      "mimetype": "text/x-python",
      "name": "python",
      "nbconvert_exporter": "python",
      "pygments_lexer": "ipython3",
      "version": "3.9.17"
    }
  },
  "nbformat": 4,
  "nbformat_minor": 0
}
