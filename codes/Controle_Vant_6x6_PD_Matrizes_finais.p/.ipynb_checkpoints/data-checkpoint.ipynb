{
 "cells": [
  {
   "cell_type": "code",
   "execution_count": 1,
   "metadata": {},
   "outputs": [],
   "source": [
    "import pandas as pd\n",
    "import numpy as np\n",
    "import matplotlib.pyplot as plt\n",
    "%matplotlib notebook"
   ]
  },
  {
   "cell_type": "code",
   "execution_count": 2,
   "metadata": {},
   "outputs": [],
   "source": [
    "xs = []\n",
    "for i in range(1,4):\n",
    "    xs.append(\n",
    "        pd.read_csv(f'xs_{i+1}.csv', header=None).T.rename(columns={\n",
    "            0: 'x.',\n",
    "            1: 'y.',\n",
    "            2: 'z.',\n",
    "            3: 'phi.',\n",
    "            4: 'theta.',\n",
    "            5: 'psi.',\n",
    "            6: 'x',\n",
    "            7: 'y',\n",
    "            8: 'z',\n",
    "            9: 'phi',\n",
    "            10: 'theta',\n",
    "            11: 'psi',\n",
    "        })\n",
    "    )"
   ]
  },
  {
   "cell_type": "code",
   "execution_count": 3,
   "metadata": {},
   "outputs": [
    {
     "data": {
      "text/plain": [
       "3"
      ]
     },
     "execution_count": 3,
     "metadata": {},
     "output_type": "execute_result"
    }
   ],
   "source": [
    "len(xs)"
   ]
  },
  {
   "cell_type": "code",
   "execution_count": 5,
   "metadata": {},
   "outputs": [],
   "source": [
    "t = np.linspace(0,50,25001)\n",
    "\n",
    "label = ['x1', 'x2', 'x3']\n",
    "\n",
    "for i in range(len(xs)):\n",
    "    plt.plot(t, xs[i]['x'], label=label)\n",
    "\n",
    "plt.xlabel('Tempo')\n",
    "plt.ylabel('x')\n",
    "plt.legend()\n",
    "plt.savefig('plot.svg')"
   ]
  },
  {
   "cell_type": "code",
   "execution_count": null,
   "metadata": {},
   "outputs": [],
   "source": []
  }
 ],
 "metadata": {
  "kernelspec": {
   "display_name": "Python 3 (ipykernel)",
   "language": "python",
   "name": "python3"
  },
  "language_info": {
   "codemirror_mode": {
    "name": "ipython",
    "version": 3
   },
   "file_extension": ".py",
   "mimetype": "text/x-python",
   "name": "python",
   "nbconvert_exporter": "python",
   "pygments_lexer": "ipython3",
   "version": "3.11.3"
  }
 },
 "nbformat": 4,
 "nbformat_minor": 2
}
