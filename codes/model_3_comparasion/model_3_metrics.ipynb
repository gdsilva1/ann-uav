{
 "cells": [
  {
   "cell_type": "code",
   "execution_count": 1,
   "metadata": {},
   "outputs": [],
   "source": [
    "import numpy as np\n",
    "import pandas as pd\n",
    "import matplotlib.pyplot as plt"
   ]
  },
  {
   "cell_type": "code",
   "execution_count": 2,
   "metadata": {},
   "outputs": [],
   "source": [
    "plt.style.use(['seaborn-v0_8-darkgrid'])\n",
    "# from cycler import cycler\n",
    "plt.rcParams.update({\n",
    "    'axes.prop_cycle': plt.cycler(linestyle=['solid','dashed','dotted', 'dashdot'], color=['darkblue','darkred','darkgreen', 'darkgoldenrod']),\n",
    "    # 'axes.facecolor': '#e6e6e6',\n",
    "    'axes.grid': True,\n",
    "    # 'axes.linewidth': 0.5, # Use with seaborn-v0_8-white and dracula\n",
    "    # 'grid.alpha': 0.1, # Use with dracula\n",
    "    'lines.linewidth': 1,\n",
    "    'grid.linewidth': 0.5,\n",
    "    'font.family': 'serif',\n",
    "    'font.size': 12,\n",
    "    'pgf.texsystem': 'xelatex',\n",
    "    # 'pgf.preamble':  r'\\usepackage{stix2}\\usepackage[scale=0.88]{inter}',\n",
    "    # 'pgf.preamble': r'\\usepackage{unicode-math,fontspec}\\setmathfont{STIX Two Math}\\setsansfont{Inter}[Scale=0.88]',\n",
    "    # 'pgf.preamble': r'\\usepackage[default]{fontsetup}',\n",
    "    # 'pgf.preamble': r'\\usepackage{unicode-math,fontspec}\\setmathfont{STIX Two Math}\\setmainfont{STIX Two Text}\\setsansfont{TeX Gyre Heros}[LetterSpace=-0.2]',\n",
    "    'pgf.rcfonts' : False\n",
    "})"
   ]
  },
  {
   "cell_type": "code",
   "execution_count": 3,
   "metadata": {},
   "outputs": [
    {
     "data": {
      "text/html": [
       "<div>\n",
       "<style scoped>\n",
       "    .dataframe tbody tr th:only-of-type {\n",
       "        vertical-align: middle;\n",
       "    }\n",
       "\n",
       "    .dataframe tbody tr th {\n",
       "        vertical-align: top;\n",
       "    }\n",
       "\n",
       "    .dataframe thead th {\n",
       "        text-align: right;\n",
       "    }\n",
       "</style>\n",
       "<table border=\"1\" class=\"dataframe\">\n",
       "  <thead>\n",
       "    <tr style=\"text-align: right;\">\n",
       "      <th></th>\n",
       "      <th>loss</th>\n",
       "      <th>mae</th>\n",
       "    </tr>\n",
       "  </thead>\n",
       "  <tbody>\n",
       "    <tr>\n",
       "      <th>0</th>\n",
       "      <td>39.874325</td>\n",
       "      <td>2.784400</td>\n",
       "    </tr>\n",
       "    <tr>\n",
       "      <th>1</th>\n",
       "      <td>2.015528</td>\n",
       "      <td>0.613694</td>\n",
       "    </tr>\n",
       "    <tr>\n",
       "      <th>2</th>\n",
       "      <td>0.287486</td>\n",
       "      <td>0.215468</td>\n",
       "    </tr>\n",
       "    <tr>\n",
       "      <th>3</th>\n",
       "      <td>0.121703</td>\n",
       "      <td>0.121335</td>\n",
       "    </tr>\n",
       "    <tr>\n",
       "      <th>4</th>\n",
       "      <td>0.076277</td>\n",
       "      <td>0.087173</td>\n",
       "    </tr>\n",
       "  </tbody>\n",
       "</table>\n",
       "</div>"
      ],
      "text/plain": [
       "        loss       mae\n",
       "0  39.874325  2.784400\n",
       "1   2.015528  0.613694\n",
       "2   0.287486  0.215468\n",
       "3   0.121703  0.121335\n",
       "4   0.076277  0.087173"
      ]
     },
     "execution_count": 3,
     "metadata": {},
     "output_type": "execute_result"
    }
   ],
   "source": [
    "df = pd.read_csv('model_3_metrics.csv').drop('Unnamed: 0', axis=1)\n",
    "df.head()"
   ]
  },
  {
   "cell_type": "code",
   "execution_count": 48,
   "metadata": {},
   "outputs": [
    {
     "data": {
      "image/png": "[encoded data removed]",
      "text/plain": [
       "<Figure size 640x480 with 1 Axes>"
      ]
     },
     "metadata": {},
     "output_type": "display_data"
    }
   ],
   "source": [
    "epochs = np.linspace(0,50,50)\n",
    "\n",
    "fig, ax = plt.subplots()\n",
    "\n",
    "import matplotlib.ticker as mtick\n",
    "\n",
    "ax.plot(epochs, df['loss'])\n",
    "ax.set_xlabel('Epochs')\n",
    "ax.set_ylabel('Loss Function (MSE)')\n",
    "ax.set_xlim((14,50))\n",
    "ax.set_ylim((0,0.005))\n",
    "ax.ticklabel_format(style='sci',\n",
    "                    scilimits=(-2,2),\n",
    "                    useMathText=True)\n",
    "\n",
    "fig.tight_layout()\n",
    "fig.savefig('../../report/figures/4results/uav/epochsxloss.pgf', backend='pgf')"
   ]
  },
  {
   "cell_type": "code",
   "execution_count": null,
   "metadata": {},
   "outputs": [],
   "source": []
  }
 ],
 "metadata": {
  "kernelspec": {
   "display_name": "Python 3",
   "language": "python",
   "name": "python3"
  },
  "language_info": {
   "codemirror_mode": {
    "name": "ipython",
    "version": 3
   },
   "file_extension": ".py",
   "mimetype": "text/x-python",
   "name": "python",
   "nbconvert_exporter": "python",
   "pygments_lexer": "ipython3",
   "version": "3.11.3"
  },
  "orig_nbformat": 4
 },
 "nbformat": 4,
 "nbformat_minor": 2
}
