{
 "cells": [
  {
   "cell_type": "code",
   "execution_count": 34,
   "metadata": {},
   "outputs": [],
   "source": [
    "from scipy.io import loadmat\n",
    "from matplotlib import pyplot as plt\n",
    "import pandas as pd\n",
    "import numpy as np\n",
    "import pickle"
   ]
  },
  {
   "cell_type": "code",
   "execution_count": 24,
   "metadata": {},
   "outputs": [],
   "source": [
    "forces_noise = loadmat(\"../../../../tau_all_noise.mat\")\n",
    "forces = loadmat(\"../../../../tau_all.mat\")\n",
    "states_noise = loadmat(\"../../../../xs_all_noise.mat\")\n",
    "states = loadmat(\"../../../../xs_all.mat\")"
   ]
  },
  {
   "cell_type": "code",
   "execution_count": 25,
   "metadata": {},
   "outputs": [
    {
     "data": {
      "text/html": [
       "<div>\n",
       "<style scoped>\n",
       "    .dataframe tbody tr th:only-of-type {\n",
       "        vertical-align: middle;\n",
       "    }\n",
       "\n",
       "    .dataframe tbody tr th {\n",
       "        vertical-align: top;\n",
       "    }\n",
       "\n",
       "    .dataframe thead th {\n",
       "        text-align: right;\n",
       "    }\n",
       "</style>\n",
       "<table border=\"1\" class=\"dataframe\">\n",
       "  <thead>\n",
       "    <tr style=\"text-align: right;\">\n",
       "      <th></th>\n",
       "      <th>0</th>\n",
       "      <th>1</th>\n",
       "      <th>2</th>\n",
       "      <th>3</th>\n",
       "    </tr>\n",
       "  </thead>\n",
       "  <tbody>\n",
       "    <tr>\n",
       "      <th>0</th>\n",
       "      <td>21.582000</td>\n",
       "      <td>0.000000</td>\n",
       "      <td>0.000000</td>\n",
       "      <td>0.000000e+00</td>\n",
       "    </tr>\n",
       "    <tr>\n",
       "      <th>1</th>\n",
       "      <td>28.842000</td>\n",
       "      <td>0.000000</td>\n",
       "      <td>0.000000</td>\n",
       "      <td>-2.500000e-01</td>\n",
       "    </tr>\n",
       "    <tr>\n",
       "      <th>2</th>\n",
       "      <td>28.842000</td>\n",
       "      <td>-0.004848</td>\n",
       "      <td>0.198432</td>\n",
       "      <td>-2.500000e-01</td>\n",
       "    </tr>\n",
       "    <tr>\n",
       "      <th>3</th>\n",
       "      <td>28.812944</td>\n",
       "      <td>-0.004882</td>\n",
       "      <td>0.198289</td>\n",
       "      <td>-2.489069e-01</td>\n",
       "    </tr>\n",
       "    <tr>\n",
       "      <th>4</th>\n",
       "      <td>28.783856</td>\n",
       "      <td>-0.004877</td>\n",
       "      <td>0.175680</td>\n",
       "      <td>-2.477922e-01</td>\n",
       "    </tr>\n",
       "    <tr>\n",
       "      <th>...</th>\n",
       "      <td>...</td>\n",
       "      <td>...</td>\n",
       "      <td>...</td>\n",
       "      <td>...</td>\n",
       "    </tr>\n",
       "    <tr>\n",
       "      <th>19996</th>\n",
       "      <td>21.584105</td>\n",
       "      <td>-0.000055</td>\n",
       "      <td>0.000027</td>\n",
       "      <td>-8.467232e-07</td>\n",
       "    </tr>\n",
       "    <tr>\n",
       "      <th>19997</th>\n",
       "      <td>21.584105</td>\n",
       "      <td>-0.000051</td>\n",
       "      <td>0.000013</td>\n",
       "      <td>-8.456328e-07</td>\n",
       "    </tr>\n",
       "    <tr>\n",
       "      <th>19998</th>\n",
       "      <td>21.584105</td>\n",
       "      <td>-0.000055</td>\n",
       "      <td>0.000015</td>\n",
       "      <td>-8.445793e-07</td>\n",
       "    </tr>\n",
       "    <tr>\n",
       "      <th>19999</th>\n",
       "      <td>21.584105</td>\n",
       "      <td>-0.000048</td>\n",
       "      <td>0.000037</td>\n",
       "      <td>-8.433972e-07</td>\n",
       "    </tr>\n",
       "    <tr>\n",
       "      <th>20000</th>\n",
       "      <td>21.584105</td>\n",
       "      <td>-0.000054</td>\n",
       "      <td>0.000049</td>\n",
       "      <td>-8.423198e-07</td>\n",
       "    </tr>\n",
       "  </tbody>\n",
       "</table>\n",
       "<p>20001 rows × 4 columns</p>\n",
       "</div>"
      ],
      "text/plain": [
       "               0         1         2             3\n",
       "0      21.582000  0.000000  0.000000  0.000000e+00\n",
       "1      28.842000  0.000000  0.000000 -2.500000e-01\n",
       "2      28.842000 -0.004848  0.198432 -2.500000e-01\n",
       "3      28.812944 -0.004882  0.198289 -2.489069e-01\n",
       "4      28.783856 -0.004877  0.175680 -2.477922e-01\n",
       "...          ...       ...       ...           ...\n",
       "19996  21.584105 -0.000055  0.000027 -8.467232e-07\n",
       "19997  21.584105 -0.000051  0.000013 -8.456328e-07\n",
       "19998  21.584105 -0.000055  0.000015 -8.445793e-07\n",
       "19999  21.584105 -0.000048  0.000037 -8.433972e-07\n",
       "20000  21.584105 -0.000054  0.000049 -8.423198e-07\n",
       "\n",
       "[20001 rows x 4 columns]"
      ]
     },
     "execution_count": 25,
     "metadata": {},
     "output_type": "execute_result"
    }
   ],
   "source": [
    "pd.DataFrame(forces_noise[\"tau_all\"].squeeze()[0].T)"
   ]
  },
  {
   "cell_type": "code",
   "execution_count": 27,
   "metadata": {},
   "outputs": [],
   "source": [
    "forces_noise_pp = [forces_noise[\"tau_all\"].squeeze()[i].T for i in range(len(forces_noise[\"tau_all\"].squeeze()))]\n",
    "forces_pp = [forces[\"tau_all\"].squeeze()[i].T for i in range(len(forces[\"tau_all\"].squeeze()))]\n",
    "states_noise_pp = [states_noise[\"xs_all\"].squeeze()[i].T for i in range(len(states_noise[\"xs_all\"].squeeze()))]\n",
    "states_pp = [states[\"xs_all\"].squeeze()[i].T for i in range(len(states[\"xs_all\"].squeeze()))]"
   ]
  },
  {
   "cell_type": "code",
   "execution_count": 28,
   "metadata": {},
   "outputs": [
    {
     "data": {
      "text/html": [
       "<div>\n",
       "<style scoped>\n",
       "    .dataframe tbody tr th:only-of-type {\n",
       "        vertical-align: middle;\n",
       "    }\n",
       "\n",
       "    .dataframe tbody tr th {\n",
       "        vertical-align: top;\n",
       "    }\n",
       "\n",
       "    .dataframe thead th {\n",
       "        text-align: right;\n",
       "    }\n",
       "</style>\n",
       "<table border=\"1\" class=\"dataframe\">\n",
       "  <thead>\n",
       "    <tr style=\"text-align: right;\">\n",
       "      <th></th>\n",
       "      <th>0</th>\n",
       "      <th>1</th>\n",
       "      <th>2</th>\n",
       "      <th>3</th>\n",
       "    </tr>\n",
       "  </thead>\n",
       "  <tbody>\n",
       "    <tr>\n",
       "      <th>0</th>\n",
       "      <td>21.582000</td>\n",
       "      <td>0.000000</td>\n",
       "      <td>0.000000</td>\n",
       "      <td>0.000000e+00</td>\n",
       "    </tr>\n",
       "    <tr>\n",
       "      <th>1</th>\n",
       "      <td>28.842000</td>\n",
       "      <td>0.000000</td>\n",
       "      <td>0.000000</td>\n",
       "      <td>-2.500000e-01</td>\n",
       "    </tr>\n",
       "    <tr>\n",
       "      <th>2</th>\n",
       "      <td>28.842000</td>\n",
       "      <td>-0.004845</td>\n",
       "      <td>0.198428</td>\n",
       "      <td>-2.500000e-01</td>\n",
       "    </tr>\n",
       "    <tr>\n",
       "      <th>3</th>\n",
       "      <td>28.812944</td>\n",
       "      <td>-0.004887</td>\n",
       "      <td>0.198260</td>\n",
       "      <td>-2.489069e-01</td>\n",
       "    </tr>\n",
       "    <tr>\n",
       "      <th>4</th>\n",
       "      <td>28.783856</td>\n",
       "      <td>-0.004879</td>\n",
       "      <td>0.175676</td>\n",
       "      <td>-2.477922e-01</td>\n",
       "    </tr>\n",
       "    <tr>\n",
       "      <th>...</th>\n",
       "      <td>...</td>\n",
       "      <td>...</td>\n",
       "      <td>...</td>\n",
       "      <td>...</td>\n",
       "    </tr>\n",
       "    <tr>\n",
       "      <th>19996</th>\n",
       "      <td>21.584105</td>\n",
       "      <td>-0.000050</td>\n",
       "      <td>0.000024</td>\n",
       "      <td>-8.490083e-07</td>\n",
       "    </tr>\n",
       "    <tr>\n",
       "      <th>19997</th>\n",
       "      <td>21.584105</td>\n",
       "      <td>-0.000053</td>\n",
       "      <td>0.000008</td>\n",
       "      <td>-8.478545e-07</td>\n",
       "    </tr>\n",
       "    <tr>\n",
       "      <th>19998</th>\n",
       "      <td>21.584105</td>\n",
       "      <td>-0.000053</td>\n",
       "      <td>0.000020</td>\n",
       "      <td>-8.466222e-07</td>\n",
       "    </tr>\n",
       "    <tr>\n",
       "      <th>19999</th>\n",
       "      <td>21.584105</td>\n",
       "      <td>-0.000056</td>\n",
       "      <td>0.000041</td>\n",
       "      <td>-8.454497e-07</td>\n",
       "    </tr>\n",
       "    <tr>\n",
       "      <th>20000</th>\n",
       "      <td>21.584105</td>\n",
       "      <td>-0.000054</td>\n",
       "      <td>0.000018</td>\n",
       "      <td>-8.442790e-07</td>\n",
       "    </tr>\n",
       "  </tbody>\n",
       "</table>\n",
       "<p>20001 rows × 4 columns</p>\n",
       "</div>"
      ],
      "text/plain": [
       "               0         1         2             3\n",
       "0      21.582000  0.000000  0.000000  0.000000e+00\n",
       "1      28.842000  0.000000  0.000000 -2.500000e-01\n",
       "2      28.842000 -0.004845  0.198428 -2.500000e-01\n",
       "3      28.812944 -0.004887  0.198260 -2.489069e-01\n",
       "4      28.783856 -0.004879  0.175676 -2.477922e-01\n",
       "...          ...       ...       ...           ...\n",
       "19996  21.584105 -0.000050  0.000024 -8.490083e-07\n",
       "19997  21.584105 -0.000053  0.000008 -8.478545e-07\n",
       "19998  21.584105 -0.000053  0.000020 -8.466222e-07\n",
       "19999  21.584105 -0.000056  0.000041 -8.454497e-07\n",
       "20000  21.584105 -0.000054  0.000018 -8.442790e-07\n",
       "\n",
       "[20001 rows x 4 columns]"
      ]
     },
     "execution_count": 28,
     "metadata": {},
     "output_type": "execute_result"
    }
   ],
   "source": [
    "pd.DataFrame(forces_noise_pp[1])"
   ]
  },
  {
   "cell_type": "code",
   "execution_count": 31,
   "metadata": {},
   "outputs": [
    {
     "data": {
      "text/plain": [
       "(1000, 1000, 1000, 1000)"
      ]
     },
     "execution_count": 31,
     "metadata": {},
     "output_type": "execute_result"
    }
   ],
   "source": [
    "len(forces_noise_pp), len(forces_pp), len(states_noise_pp), len(states_pp)"
   ]
  },
  {
   "cell_type": "code",
   "execution_count": 35,
   "metadata": {},
   "outputs": [
    {
     "data": {
      "text/plain": [
       "(2000, 2000)"
      ]
     },
     "execution_count": 35,
     "metadata": {},
     "output_type": "execute_result"
    }
   ],
   "source": [
    "forces_large = forces_noise_pp + forces_pp\n",
    "states_large = states_noise_pp + states_pp\n",
    "len(forces_large), len(states_large)"
   ]
  },
  {
   "cell_type": "code",
   "execution_count": 36,
   "metadata": {},
   "outputs": [],
   "source": [
    "with open(\"forces_states_large.pkl\", \"wb\") as f:\n",
    "    pickle.dump([forces_large, states_large], f)"
   ]
  },
  {
   "cell_type": "code",
   "execution_count": null,
   "metadata": {},
   "outputs": [],
   "source": []
  }
 ],
 "metadata": {
  "kernelspec": {
   "display_name": "base",
   "language": "python",
   "name": "python3"
  },
  "language_info": {
   "codemirror_mode": {
    "name": "ipython",
    "version": 3
   },
   "file_extension": ".py",
   "mimetype": "text/x-python",
   "name": "python",
   "nbconvert_exporter": "python",
   "pygments_lexer": "ipython3",
   "version": "3.11.5"
  }
 },
 "nbformat": 4,
 "nbformat_minor": 2
}
