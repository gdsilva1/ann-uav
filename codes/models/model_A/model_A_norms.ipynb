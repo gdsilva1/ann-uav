{
 "cells": [
  {
   "cell_type": "code",
   "execution_count": 1,
   "metadata": {},
   "outputs": [
    {
     "name": "stdout",
     "output_type": "stream",
     "text": [
      "DEVICE: cuda\n"
     ]
    }
   ],
   "source": [
    "# Setup\n",
    "import torch\n",
    "from torch import nn\n",
    "from torch.utils.data import DataLoader\n",
    "from torch.utils.data import Dataset\n",
    "\n",
    "import numpy as np\n",
    "import pandas as pd\n",
    "import matplotlib.pyplot as plt\n",
    "from scipy.io import loadmat\n",
    "from sklearn.preprocessing import normalize\n",
    "from tqdm.auto import trange, tqdm\n",
    "from seaborn import set_theme\n",
    "\n",
    "device = \"cuda\" if torch.cuda.is_available() else \"cpu\"\n",
    "torch.cuda.empty_cache()\n",
    "# device = \"cpu\"\n",
    "print(f\"DEVICE: {device}\")\n",
    "torch.manual_seed(42)\n",
    "torch.cuda.manual_seed_all(42)\n",
    "\n",
    "plt.style.use(\"duarte.mplstyle\")\n",
    "%matplotlib widget"
   ]
  },
  {
   "cell_type": "code",
   "execution_count": 2,
   "metadata": {},
   "outputs": [],
   "source": [
    "class Norms(Dataset):\n",
    "\n",
    "    def __init__(self, states_norms, forces_norms):\n",
    "        super().__init__()\n",
    "        self.states_norms = states_norms\n",
    "        self.forces_norms = forces_norms\n",
    "        if len(states_norms) == len(forces_norms):\n",
    "            self.length = len(states_norms)\n",
    "        else:\n",
    "            raise ValueError(\"States and forces must be the same length.\")\n",
    "        \n",
    "    def __len__(self):\n",
    "        return self.length\n",
    "    \n",
    "    def __getitem__(self, index):\n",
    "        state_norms = torch.tensor(self.states_norms[index], dtype=torch.float32)\n",
    "        force_norms = torch.tensor(self.forces_norms[index], dtype=torch.float32)\n",
    "\n",
    "        return state_norms, force_norms \n",
    "    \n",
    "class ModelAN(nn.Module):\n",
    "\n",
    "    def __init__(self, input_layer, output_layer, hidden_layes, activation_function=nn.ReLU()):\n",
    "        super().__init__()\n",
    "\n",
    "        self.layers = nn.Sequential(\n",
    "            nn.Linear(input_layer, hidden_layes),\n",
    "            nn.Linear(hidden_layes, hidden_layes),\n",
    "            activation_function,\n",
    "            nn.Linear(hidden_layes, hidden_layes),\n",
    "            activation_function,\n",
    "            nn.Linear(hidden_layes, output_layer)\n",
    "        )\n",
    "\n",
    "    def forward(self, x):\n",
    "        return self.layers(x)\n",
    "    \n",
    "def preprocessing_from_matlab(data):\n",
    "    key = list(data.keys())[-1]\n",
    "    all_data = data[key].squeeze()\n",
    "    all_data_normalized = []\n",
    "    all_data_norms = []\n",
    "\n",
    "    for data in all_data:\n",
    "        data_normalized, data_norms = normalize(X=data.T,\n",
    "                                                axis=0,\n",
    "                                                return_norm=True)\n",
    "        data_norms\n",
    "        all_data_normalized.append(data_normalized)\n",
    "        all_data_norms.append(data_norms)\n",
    "\n",
    "    return all_data_normalized, all_data_norms\n",
    "\n",
    "def train(dataloader, model, loss_fn, optimizer):\n",
    "    size = len(dataloader.dataset)\n",
    "    model.train()\n",
    "    for batch, (X, y) in enumerate(dataloader):\n",
    "        X, y = X.to(device), y.to(device)\n",
    "\n",
    "        # Compute prediction error\n",
    "        pred = model(X)\n",
    "        loss = loss_fn(pred, y)\n",
    "\n",
    "        # Backpropagation\n",
    "        loss.backward()\n",
    "        optimizer.step()\n",
    "        optimizer.zero_grad()\n",
    "        \n",
    "        return loss\n",
    "\n",
    "def test(dataloader, model, loss_fn):\n",
    "    model.eval()\n",
    "    for batch, (X, y) in enumerate(dataloader):\n",
    "        X, y = X.to(device), y.to(device)\n",
    "\n",
    "    with torch.inference_mode():\n",
    "        test_pred = model(X)\n",
    "        test_loss = loss_fn(test_pred, y)\n",
    "\n",
    "    return test_loss"
   ]
  },
  {
   "cell_type": "code",
   "execution_count": 3,
   "metadata": {},
   "outputs": [],
   "source": [
    "# Loading the MATLAB files.\n",
    "forces = loadmat(\"../../../../tau_all.mat\")\n",
    "states = loadmat(\"../../../../xs_all.mat\")"
   ]
  },
  {
   "cell_type": "code",
   "execution_count": 4,
   "metadata": {},
   "outputs": [],
   "source": [
    "all_forces, forces_norms = preprocessing_from_matlab(forces)\n",
    "all_states, states_norms = preprocessing_from_matlab(states)"
   ]
  },
  {
   "cell_type": "code",
   "execution_count": 5,
   "metadata": {},
   "outputs": [],
   "source": [
    "dataset = Norms(states_norms, forces_norms)"
   ]
  },
  {
   "cell_type": "code",
   "execution_count": 6,
   "metadata": {},
   "outputs": [
    {
     "name": "stdout",
     "output_type": "stream",
     "text": [
      "Lenght of train data (norms): 800\n",
      "Lenght of test data (norms): 200\n"
     ]
    }
   ],
   "source": [
    "train_data_norms, test_data_norms = torch.utils.data.random_split(dataset, [0.8, 0.2])\n",
    "\n",
    "BATCH_SIZE = 1\n",
    "train_dataloader = DataLoader(dataset=train_data_norms,\n",
    "                              batch_size=BATCH_SIZE,\n",
    "                              shuffle=True)\n",
    "test_dataloader = DataLoader(dataset=test_data_norms,\n",
    "                             batch_size=BATCH_SIZE,\n",
    "                             shuffle=True)\n",
    "\n",
    "print(f\"Lenght of train data (norms): {len(train_dataloader)}\")\n",
    "print(f\"Lenght of test data (norms): {len(test_dataloader)}\")"
   ]
  },
  {
   "cell_type": "code",
   "execution_count": 7,
   "metadata": {},
   "outputs": [
    {
     "name": "stdout",
     "output_type": "stream",
     "text": [
      "Input:\n",
      "tensor([ 37.5439,  38.5668,  35.2077,  13.6676,  11.2362,  25.3715, 210.3864,\n",
      "        209.8818, 410.9298,   4.3204,   4.4851,   5.9188])\n",
      "Output:\n",
      "tensor([3.0565e+03, 8.5498e-01, 1.8838e+00, 2.6912e+00])\n"
     ]
    }
   ],
   "source": [
    "print(\"Input:\")\n",
    "print((train_data_norms[500][0]))\n",
    "print(\"Output:\")\n",
    "print((train_data_norms[500][1]))"
   ]
  },
  {
   "cell_type": "code",
   "execution_count": 8,
   "metadata": {},
   "outputs": [],
   "source": [
    "INPUT_LAYER = 12\n",
    "HIDDEN_LAYERS = 128\n",
    "OUTPUT_LAYER = 4\n",
    "ACTIVATION_FUNCTION = nn.ReLU()\n",
    "\n",
    "model = ModelAN(input_layer=INPUT_LAYER,\n",
    "                output_layer=OUTPUT_LAYER,\n",
    "                hidden_layes=HIDDEN_LAYERS,\n",
    "                activation_function=ACTIVATION_FUNCTION).to(device)\n",
    "loss_fn = nn.L1Loss()\n",
    "optimizer = torch.optim.Adam(model.parameters(), lr=1e-3)"
   ]
  },
  {
   "cell_type": "code",
   "execution_count": 9,
   "metadata": {},
   "outputs": [
    {
     "data": {
      "application/vnd.jupyter.widget-view+json": {
       "model_id": "24aa7cc9d3a546458cf74ec80112db7b",
       "version_major": 2,
       "version_minor": 0
      },
      "text/plain": [
       "  0%|          | 0/1000 [00:00<?, ?it/s]"
      ]
     },
     "metadata": {},
     "output_type": "display_data"
    },
    {
     "name": "stdout",
     "output_type": "stream",
     "text": [
      "Epoch: 0 | Train loss: 767.78009, Test loss: 767.96686\n",
      "~~~~~~~~~~~~~~~~~~~~~~~~~~~~~~~~~~~~~~~~~~~~~~~~~~\n",
      "Epoch: 100 | Train loss: 8.05509, Test loss: 34.87334\n",
      "~~~~~~~~~~~~~~~~~~~~~~~~~~~~~~~~~~~~~~~~~~~~~~~~~~\n",
      "Epoch: 200 | Train loss: 5.38956, Test loss: 14.05772\n",
      "~~~~~~~~~~~~~~~~~~~~~~~~~~~~~~~~~~~~~~~~~~~~~~~~~~\n",
      "Epoch: 300 | Train loss: 12.04511, Test loss: 7.68345\n",
      "~~~~~~~~~~~~~~~~~~~~~~~~~~~~~~~~~~~~~~~~~~~~~~~~~~\n",
      "Epoch: 400 | Train loss: 13.39989, Test loss: 14.70364\n",
      "~~~~~~~~~~~~~~~~~~~~~~~~~~~~~~~~~~~~~~~~~~~~~~~~~~\n",
      "Epoch: 500 | Train loss: 5.64723, Test loss: 10.02466\n",
      "~~~~~~~~~~~~~~~~~~~~~~~~~~~~~~~~~~~~~~~~~~~~~~~~~~\n",
      "Epoch: 600 | Train loss: 17.84754, Test loss: 11.00488\n",
      "~~~~~~~~~~~~~~~~~~~~~~~~~~~~~~~~~~~~~~~~~~~~~~~~~~\n",
      "Epoch: 700 | Train loss: 4.57881, Test loss: 5.65328\n",
      "~~~~~~~~~~~~~~~~~~~~~~~~~~~~~~~~~~~~~~~~~~~~~~~~~~\n",
      "Epoch: 800 | Train loss: 12.67057, Test loss: 4.40453\n",
      "~~~~~~~~~~~~~~~~~~~~~~~~~~~~~~~~~~~~~~~~~~~~~~~~~~\n",
      "Epoch: 900 | Train loss: 11.26927, Test loss: 21.94019\n",
      "~~~~~~~~~~~~~~~~~~~~~~~~~~~~~~~~~~~~~~~~~~~~~~~~~~\n",
      "Done!\n"
     ]
    }
   ],
   "source": [
    "epochs = 1000\n",
    "loss_overall = []\n",
    "loss_overall_test = []\n",
    "\n",
    "for epoch in trange(epochs): \n",
    "    loss = train(train_dataloader, model, loss_fn, optimizer)\n",
    "    test_loss = test(test_dataloader, model, loss_fn)\n",
    "    if epoch % 100 == 0:\n",
    "        print(f\"Epoch: {epoch} | Train loss: {loss:.5f}, Test loss: {test_loss:.5f}\")\n",
    "        print(\"~\"*50)\n",
    "    loss_overall.append(loss.item())\n",
    "    loss_overall_test.append(test_loss.item())\n",
    "    \n",
    "print(\"Done!\")"
   ]
  },
  {
   "cell_type": "code",
   "execution_count": 10,
   "metadata": {},
   "outputs": [
    {
     "data": {
      "application/vnd.jupyter.widget-view+json": {
       "model_id": "0bbb0dc16ce544659479cc60a81688ef",
       "version_major": 2,
       "version_minor": 0
      },
      "image/png": "[encoded data removed]",
      "text/html": [
       "\n",
       "            <div style=\"display: inline-block;\">\n",
       "                <div class=\"jupyter-widgets widget-label\" style=\"text-align: center;\">\n",
       "                    Figure\n",
       "                </div>\n",
       "                <img src='data:image/png;base64,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' width=629.9212598425196/>\n",
       "            </div>\n",
       "        "
      ],
      "text/plain": [
       "Canvas(toolbar=Toolbar(toolitems=[('Home', 'Reset original view', 'home', 'home'), ('Back', 'Back to previous …"
      ]
     },
     "metadata": {},
     "output_type": "display_data"
    }
   ],
   "source": [
    "t = np.linspace(1, epochs, epochs)\n",
    "\n",
    "cm = 1/2.54\n",
    "fig, ax = plt.subplots(figsize=(16*cm, 8*cm))\n",
    "\n",
    "ax.plot(t, loss_overall, label='Train loss')\n",
    "ax.plot(t, loss_overall_test, label='Test loss', ls=\"-.\")\n",
    "ax.set_xlabel('Epochs')\n",
    "ax.set_ylabel(\"Loss\")\n",
    "ax.legend()\n",
    "fig.tight_layout()"
   ]
  },
  {
   "cell_type": "code",
   "execution_count": 11,
   "metadata": {},
   "outputs": [],
   "source": [
    "torch.save(model.state_dict(), \"model_norms.pt\")"
   ]
  }
 ],
 "metadata": {
  "kernelspec": {
   "display_name": "base",
   "language": "python",
   "name": "python3"
  },
  "language_info": {
   "codemirror_mode": {
    "name": "ipython",
    "version": 3
   },
   "file_extension": ".py",
   "mimetype": "text/x-python",
   "name": "python",
   "nbconvert_exporter": "python",
   "pygments_lexer": "ipython3",
   "version": "3.11.5"
  },
  "orig_nbformat": 4
 },
 "nbformat": 4,
 "nbformat_minor": 2
}
