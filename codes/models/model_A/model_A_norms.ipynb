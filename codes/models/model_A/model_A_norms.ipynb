{
 "cells": [
  {
   "cell_type": "code",
   "execution_count": 1,
   "metadata": {},
   "outputs": [
    {
     "name": "stdout",
     "output_type": "stream",
     "text": [
      "DEVICE: cuda\n"
     ]
    }
   ],
   "source": [
    "# Setup\n",
    "import torch\n",
    "from torch import nn\n",
    "from torch.utils.data import DataLoader\n",
    "from torch.utils.data import Dataset\n",
    "\n",
    "import numpy as np\n",
    "import pandas as pd\n",
    "import matplotlib.pyplot as plt\n",
    "from scipy.io import loadmat\n",
    "from sklearn.preprocessing import normalize\n",
    "from tqdm.auto import trange, tqdm\n",
    "from seaborn import set_theme\n",
    "\n",
    "device = \"cuda\" if torch.cuda.is_available() else \"cpu\"\n",
    "torch.cuda.empty_cache()\n",
    "# device = \"cpu\"\n",
    "print(f\"DEVICE: {device}\")\n",
    "torch.manual_seed(42)\n",
    "torch.cuda.manual_seed_all(42)\n",
    "\n",
    "set_theme(style=\"dark\", \n",
    "          palette=\"colorblind\",\n",
    "          rc={\"text.usetex\": True,\n",
    "              \"font.family\": \"sans-serif\",\n",
    "              \"text.latex.preamble\": r\"\\usepackage{sfmath}\",\n",
    "              \"lines.linewidth\": 1,\n",
    "              \"axes.facecolor\": \"f2f2f2\"})\n",
    "%matplotlib widget"
   ]
  },
  {
   "cell_type": "code",
   "execution_count": 2,
   "metadata": {},
   "outputs": [],
   "source": [
    "class Norms(Dataset):\n",
    "\n",
    "    def __init__(self, states_norms, forces_norms):\n",
    "        super().__init__()\n",
    "        self.states_norms = states_norms\n",
    "        self.forces_norms = forces_norms\n",
    "        if len(states_norms) == len(forces_norms):\n",
    "            self.length = len(states_norms)\n",
    "        else:\n",
    "            raise ValueError(\"States and forces must be the same length.\")\n",
    "        \n",
    "    def __len__(self):\n",
    "        return self.length\n",
    "    \n",
    "    def __getitem__(self, index):\n",
    "        state_norms = torch.tensor(self.states_norms[index], dtype=torch.float32)\n",
    "        force_norms = torch.tensor(self.forces_norms[index], dtype=torch.float32)\n",
    "\n",
    "        return state_norms, force_norms \n",
    "    \n",
    "class ModelAN(nn.Module):\n",
    "\n",
    "    def __init__(self, input_layer, output_layer, hidden_layes, activation_function=nn.ReLU()):\n",
    "        super().__init__()\n",
    "\n",
    "        self.layers = nn.Sequential(\n",
    "            nn.Linear(input_layer, hidden_layes),\n",
    "            nn.Linear(hidden_layes, hidden_layes),\n",
    "            activation_function,\n",
    "            nn.Linear(hidden_layes, hidden_layes),\n",
    "            activation_function,\n",
    "            nn.Linear(hidden_layes, output_layer)\n",
    "        )\n",
    "\n",
    "    def forward(self, x):\n",
    "        return self.layers(x)\n",
    "    \n",
    "def preprocessing_from_matlab(data):\n",
    "    key = list(data.keys())[-1]\n",
    "    all_data = data[key].squeeze()\n",
    "    all_data_normalized = []\n",
    "    all_data_norms = []\n",
    "\n",
    "    for data in all_data:\n",
    "        data_normalized, data_norms = normalize(X=data.T,\n",
    "                                                axis=0,\n",
    "                                                return_norm=True)\n",
    "        data_norms\n",
    "        all_data_normalized.append(data_normalized)\n",
    "        all_data_norms.append(data_norms)\n",
    "\n",
    "    return all_data_normalized, all_data_norms\n",
    "\n",
    "def train(dataloader, model, loss_fn, optimizer):\n",
    "    size = len(dataloader.dataset)\n",
    "    model.train()\n",
    "    for batch, (X, y) in enumerate(dataloader):\n",
    "        X, y = X.to(device), y.to(device)\n",
    "\n",
    "        # Compute prediction error\n",
    "        pred = model(X)\n",
    "        loss = loss_fn(pred, y)\n",
    "\n",
    "        # Backpropagation\n",
    "        loss.backward()\n",
    "        optimizer.step()\n",
    "        optimizer.zero_grad()\n",
    "        \n",
    "        return loss\n",
    "\n",
    "def test(dataloader, model, loss_fn):\n",
    "    model.eval()\n",
    "    for batch, (X, y) in enumerate(dataloader):\n",
    "        X, y = X.to(device), y.to(device)\n",
    "\n",
    "    with torch.inference_mode():\n",
    "        test_pred = model(X)\n",
    "        test_loss = loss_fn(test_pred, y)\n",
    "\n",
    "    return test_loss"
   ]
  },
  {
   "cell_type": "code",
   "execution_count": 3,
   "metadata": {},
   "outputs": [],
   "source": [
    "# Loading the MATLAB files.\n",
    "forces = loadmat(\"../../../../tau_all_new.mat\")\n",
    "states = loadmat(\"../../../../xs_all_new.mat\")"
   ]
  },
  {
   "cell_type": "code",
   "execution_count": 4,
   "metadata": {},
   "outputs": [],
   "source": [
    "all_forces, forces_norms = preprocessing_from_matlab(forces)\n",
    "all_states, states_norms = preprocessing_from_matlab(states)"
   ]
  },
  {
   "cell_type": "code",
   "execution_count": 5,
   "metadata": {},
   "outputs": [],
   "source": [
    "dataset = Norms(states_norms, forces_norms)"
   ]
  },
  {
   "cell_type": "code",
   "execution_count": 6,
   "metadata": {},
   "outputs": [
    {
     "name": "stdout",
     "output_type": "stream",
     "text": [
      "Lenght of train data (norms): 800\n",
      "Lenght of test data (norms): 200\n"
     ]
    }
   ],
   "source": [
    "train_data_norms, test_data_norms = torch.utils.data.random_split(dataset, [0.8, 0.2])\n",
    "\n",
    "BATCH_SIZE = 1\n",
    "train_dataloader = DataLoader(dataset=train_data_norms,\n",
    "                              batch_size=BATCH_SIZE,\n",
    "                              shuffle=True)\n",
    "test_dataloader = DataLoader(dataset=test_data_norms,\n",
    "                             batch_size=BATCH_SIZE,\n",
    "                             shuffle=True)\n",
    "\n",
    "print(f\"Lenght of train data (norms): {len(train_dataloader)}\")\n",
    "print(f\"Lenght of test data (norms): {len(test_dataloader)}\")"
   ]
  },
  {
   "cell_type": "code",
   "execution_count": 7,
   "metadata": {},
   "outputs": [
    {
     "name": "stdout",
     "output_type": "stream",
     "text": [
      "Input:\n",
      "tensor([ 27.2639,  27.7391,  35.2073,   3.1299,   3.1391,  25.3805,  54.1599,\n",
      "         53.8464, 410.9296,   1.6795,   1.8720,   5.9969])\n",
      "Output:\n",
      "tensor([3.0538e+03, 2.0910e-01, 6.2049e-01, 2.7343e+00])\n"
     ]
    }
   ],
   "source": [
    "print(\"Input:\")\n",
    "print((train_data_norms[500][0]))\n",
    "print(\"Output:\")\n",
    "print((train_data_norms[500][1]))"
   ]
  },
  {
   "cell_type": "code",
   "execution_count": 8,
   "metadata": {},
   "outputs": [],
   "source": [
    "INPUT_LAYER = 12\n",
    "HIDDEN_LAYERS = 25\n",
    "OUTPUT_LAYER = 4\n",
    "ACTIVATION_FUNCTION = nn.ReLU()\n",
    "\n",
    "model = ModelAN(input_layer=INPUT_LAYER,\n",
    "                output_layer=OUTPUT_LAYER,\n",
    "                hidden_layes=HIDDEN_LAYERS,\n",
    "                activation_function=ACTIVATION_FUNCTION).to(device)\n",
    "loss_fn = nn.L1Loss()\n",
    "optimizer = torch.optim.Adam(model.parameters(), lr=1e-3)"
   ]
  },
  {
   "cell_type": "code",
   "execution_count": 9,
   "metadata": {},
   "outputs": [
    {
     "data": {
      "application/vnd.jupyter.widget-view+json": {
       "model_id": "a1913ea40e2c48519de37844fd3ebb38",
       "version_major": 2,
       "version_minor": 0
      },
      "text/plain": [
       "  0%|          | 0/200 [00:00<?, ?it/s]"
      ]
     },
     "metadata": {},
     "output_type": "display_data"
    },
    {
     "name": "stdout",
     "output_type": "stream",
     "text": [
      "Epoch: 0 | Train loss: 769.23895, Test loss: 768.11633\n",
      "~~~~~~~~~~~~~~~~~~~~~~~~~~~~~~~~~~~~~~~~~~~~~~~~~~\n",
      "Epoch: 20 | Train loss: 760.53485, Test loss: 760.25970\n",
      "~~~~~~~~~~~~~~~~~~~~~~~~~~~~~~~~~~~~~~~~~~~~~~~~~~\n",
      "Epoch: 40 | Train loss: 753.33051, Test loss: 752.89606\n",
      "~~~~~~~~~~~~~~~~~~~~~~~~~~~~~~~~~~~~~~~~~~~~~~~~~~\n",
      "Epoch: 60 | Train loss: 736.77893, Test loss: 735.50153\n",
      "~~~~~~~~~~~~~~~~~~~~~~~~~~~~~~~~~~~~~~~~~~~~~~~~~~\n",
      "Epoch: 80 | Train loss: 696.52887, Test loss: 693.39111\n",
      "~~~~~~~~~~~~~~~~~~~~~~~~~~~~~~~~~~~~~~~~~~~~~~~~~~\n",
      "Epoch: 100 | Train loss: 598.78851, Test loss: 591.04510\n",
      "~~~~~~~~~~~~~~~~~~~~~~~~~~~~~~~~~~~~~~~~~~~~~~~~~~\n",
      "Epoch: 120 | Train loss: 377.36227, Test loss: 361.75864\n",
      "~~~~~~~~~~~~~~~~~~~~~~~~~~~~~~~~~~~~~~~~~~~~~~~~~~\n",
      "Epoch: 140 | Train loss: 60.94122, Test loss: 71.31059\n",
      "~~~~~~~~~~~~~~~~~~~~~~~~~~~~~~~~~~~~~~~~~~~~~~~~~~\n",
      "Epoch: 160 | Train loss: 10.84307, Test loss: 2.70973\n",
      "~~~~~~~~~~~~~~~~~~~~~~~~~~~~~~~~~~~~~~~~~~~~~~~~~~\n",
      "Epoch: 180 | Train loss: 4.92276, Test loss: 5.66606\n",
      "~~~~~~~~~~~~~~~~~~~~~~~~~~~~~~~~~~~~~~~~~~~~~~~~~~\n",
      "Done!\n"
     ]
    }
   ],
   "source": [
    "epochs = 200\n",
    "loss_overall = []\n",
    "loss_overall_test = []\n",
    "\n",
    "for epoch in trange(epochs): \n",
    "    loss = train(train_dataloader, model, loss_fn, optimizer)\n",
    "    test_loss = test(test_dataloader, model, loss_fn)\n",
    "    if epoch % 20 == 0:\n",
    "        print(f\"Epoch: {epoch} | Train loss: {loss:.5f}, Test loss: {test_loss:.5f}\")\n",
    "        print(\"~\"*50)\n",
    "    loss_overall.append(loss.item())\n",
    "    loss_overall_test.append(test_loss.item())\n",
    "    \n",
    "print(\"Done!\")"
   ]
  },
  {
   "cell_type": "code",
   "execution_count": 10,
   "metadata": {},
   "outputs": [
    {
     "data": {
      "application/vnd.jupyter.widget-view+json": {
       "model_id": "d4646cc44ba9407281422705fc027fa1",
       "version_major": 2,
       "version_minor": 0
      },
      "image/png": "[encoded data removed]",
      "text/html": [
       "\n",
       "            <div style=\"display: inline-block;\">\n",
       "                <div class=\"jupyter-widgets widget-label\" style=\"text-align: center;\">\n",
       "                    Figure\n",
       "                </div>\n",
       "                <img src='data:image/png;base64,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' width=629.9212598425196/>\n",
       "            </div>\n",
       "        "
      ],
      "text/plain": [
       "Canvas(toolbar=Toolbar(toolitems=[('Home', 'Reset original view', 'home', 'home'), ('Back', 'Back to previous …"
      ]
     },
     "metadata": {},
     "output_type": "display_data"
    }
   ],
   "source": [
    "t = np.linspace(1, epochs, epochs)\n",
    "\n",
    "cm = 1/2.54\n",
    "fig, ax = plt.subplots(figsize=(16*cm, 8*cm))\n",
    "\n",
    "ax.plot(t, loss_overall, label='Train loss')\n",
    "ax.plot(t, loss_overall_test, label='Test loss', ls=\"-.\")\n",
    "ax.set_xlabel('Epochs')\n",
    "ax.set_ylabel(\"Loss\")\n",
    "ax.legend()\n",
    "fig.tight_layout()"
   ]
  },
  {
   "cell_type": "code",
   "execution_count": 11,
   "metadata": {},
   "outputs": [],
   "source": [
    "torch.save(model.state_dict(), \"model_norms.pt\")"
   ]
  }
 ],
 "metadata": {
  "kernelspec": {
   "display_name": "base",
   "language": "python",
   "name": "python3"
  },
  "language_info": {
   "codemirror_mode": {
    "name": "ipython",
    "version": 3
   },
   "file_extension": ".py",
   "mimetype": "text/x-python",
   "name": "python",
   "nbconvert_exporter": "python",
   "pygments_lexer": "ipython3",
   "version": "3.11.5"
  },
  "orig_nbformat": 4
 },
 "nbformat": 4,
 "nbformat_minor": 2
}
