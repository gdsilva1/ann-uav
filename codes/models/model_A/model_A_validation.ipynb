{
 "cells": [
  {
   "cell_type": "code",
   "execution_count": 3,
   "metadata": {},
   "outputs": [],
   "source": [
    "import torch\n",
    "import numpy as np\n",
    "from models_A import ModelA, ModelAN"
   ]
  },
  {
   "cell_type": "code",
   "execution_count": 2,
   "metadata": {},
   "outputs": [
    {
     "data": {
      "text/plain": [
       "ModelAN(\n",
       "  (layers): Sequential(\n",
       "    (0): Linear(in_features=12, out_features=25, bias=True)\n",
       "    (1): Linear(in_features=25, out_features=25, bias=True)\n",
       "    (2): ReLU()\n",
       "    (3): Linear(in_features=25, out_features=25, bias=True)\n",
       "    (4): ReLU()\n",
       "    (5): Linear(in_features=25, out_features=4, bias=True)\n",
       "  )\n",
       ")"
      ]
     },
     "execution_count": 2,
     "metadata": {},
     "output_type": "execute_result"
    }
   ],
   "source": [
    "model_A = ModelA()\n",
    "model_A_norms = ModelAN()\n",
    "\n",
    "model_A.load_state_dict(torch.load(\"model.pt\"))\n",
    "model_A_norms.load_state_dict(torch.load(\"model_norms.pt\"))\n",
    "\n",
    "model_A.eval()\n",
    "model_A_norms.eval()"
   ]
  },
  {
   "cell_type": "code",
   "execution_count": 4,
   "metadata": {},
   "outputs": [],
   "source": [
    "def forces(state, norm_state, main_model=ModelA(), norms_model=ModelAN(), path_model=\"model.pt\", path_model_norms=\"model_norms.pt\"):\n",
    "    \n",
    "    model = main_model\n",
    "    model.load_state_dict(torch.load(path_model))\n",
    "    model_norms = norms_model\n",
    "    model_norms.load_state_dict(torch.load(path_model_norms))\n",
    "\n",
    "    model.eval()\n",
    "    with torch.inference_mode():\n",
    "        normalized_forces = model(state)\n",
    "\n",
    "    model_norms.eval()\n",
    "    with torch.inference_mode():\n",
    "        forces_norms = model_norms(norm_state)\n",
    "\n",
    "    forces = []\n",
    "    for i in range(len(normalized_forces)):\n",
    "        forces.append(normalized_forces[i]*forces_norms[i])\n",
    "    forces = np.array(forces).T\n",
    "\n",
    "    return forces"
   ]
  }
 ],
 "metadata": {
  "kernelspec": {
   "display_name": "base",
   "language": "python",
   "name": "python3"
  },
  "language_info": {
   "codemirror_mode": {
    "name": "ipython",
    "version": 3
   },
   "file_extension": ".py",
   "mimetype": "text/x-python",
   "name": "python",
   "nbconvert_exporter": "python",
   "pygments_lexer": "ipython3",
   "version": "3.11.5"
  },
  "orig_nbformat": 4
 },
 "nbformat": 4,
 "nbformat_minor": 2
}
