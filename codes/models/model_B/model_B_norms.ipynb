{
 "cells": [
  {
   "cell_type": "code",
   "execution_count": 13,
   "metadata": {},
   "outputs": [
    {
     "name": "stdout",
     "output_type": "stream",
     "text": [
      "DEVICE: cuda\n"
     ]
    }
   ],
   "source": [
    "# Setup\n",
    "import torch\n",
    "from torch import nn\n",
    "from torch.utils.data import DataLoader\n",
    "from torch.utils.data import Dataset\n",
    "\n",
    "import numpy as np\n",
    "import pandas as pd\n",
    "import matplotlib.pyplot as plt\n",
    "from scipy.io import loadmat\n",
    "from sklearn.preprocessing import normalize\n",
    "from tqdm.auto import trange, tqdm\n",
    "from seaborn import set_theme\n",
    "\n",
    "device = \"cuda\" if torch.cuda.is_available() else \"cpu\"\n",
    "torch.cuda.empty_cache()\n",
    "# device = \"cpu\"\n",
    "print(f\"DEVICE: {device}\")\n",
    "torch.manual_seed(42)\n",
    "torch.cuda.manual_seed_all(42)\n",
    "%matplotlib widget"
   ]
  },
  {
   "cell_type": "code",
   "execution_count": 2,
   "metadata": {},
   "outputs": [],
   "source": [
    "class Norms(Dataset):\n",
    "\n",
    "    def __init__(self, states_norms, forces_norms):\n",
    "        super().__init__()\n",
    "        self.states_norms = states_norms\n",
    "        self.forces_norms = forces_norms\n",
    "        if len(states_norms) == len(forces_norms):\n",
    "            self.length = len(states_norms)\n",
    "        else:\n",
    "            raise ValueError(\"States and forces must be the same length.\")\n",
    "        \n",
    "    def __len__(self):\n",
    "        return self.length\n",
    "    \n",
    "    def __getitem__(self, index):\n",
    "        state_norms = torch.tensor(self.states_norms[index], dtype=torch.float32)\n",
    "        force_norms = torch.tensor(self.forces_norms[index], dtype=torch.float32)\n",
    "\n",
    "        return state_norms, force_norms \n",
    "    \n",
    "class ModelAN(nn.Module):\n",
    "\n",
    "    def __init__(self, input_layer, output_layer, hidden_layes, activation_function=nn.ReLU()):\n",
    "        super().__init__()\n",
    "\n",
    "        self.layers = nn.Sequential(\n",
    "            nn.Linear(input_layer, hidden_layes),\n",
    "            nn.Linear(hidden_layes, hidden_layes),\n",
    "            activation_function,\n",
    "            nn.Linear(hidden_layes, hidden_layes),\n",
    "            activation_function,\n",
    "            nn.Linear(hidden_layes, output_layer)\n",
    "        )\n",
    "\n",
    "    def forward(self, x):\n",
    "        return self.layers(x)\n",
    "    \n",
    "def preprocessing_from_matlab(data):\n",
    "    key = list(data.keys())[-1]\n",
    "    all_data = data[key].squeeze()\n",
    "    all_data_normalized = []\n",
    "    all_data_norms = []\n",
    "\n",
    "    for data in all_data:\n",
    "        data_normalized, data_norms = normalize(X=data.T,\n",
    "                                                axis=0,\n",
    "                                                return_norm=True)\n",
    "        data_norms\n",
    "        all_data_normalized.append(data_normalized)\n",
    "        all_data_norms.append(data_norms)\n",
    "\n",
    "    return all_data_normalized, all_data_norms\n",
    "\n",
    "def train(dataloader, model, loss_fn, optimizer):\n",
    "    size = len(dataloader.dataset)\n",
    "    model.train()\n",
    "    for batch, (X, y) in enumerate(dataloader):\n",
    "        X, y = X.to(device), y.to(device)\n",
    "\n",
    "        # Compute prediction error\n",
    "        pred = model(X)\n",
    "        loss = loss_fn(pred, y)\n",
    "\n",
    "        # Backpropagation\n",
    "        loss.backward()\n",
    "        optimizer.step()\n",
    "        optimizer.zero_grad()\n",
    "        \n",
    "        return loss\n",
    "\n",
    "def test(dataloader, model, loss_fn):\n",
    "    model.eval()\n",
    "    for batch, (X, y) in enumerate(dataloader):\n",
    "        X, y = X.to(device), y.to(device)\n",
    "\n",
    "    with torch.inference_mode():\n",
    "        test_pred = model(X)\n",
    "        test_loss = loss_fn(test_pred, y)\n",
    "\n",
    "    return test_loss"
   ]
  },
  {
   "cell_type": "code",
   "execution_count": 3,
   "metadata": {},
   "outputs": [],
   "source": [
    "# Loading the MATLAB files.\n",
    "forces = loadmat(\"../../../../tau_all_new.mat\")\n",
    "states = loadmat(\"../../../../xs_all_new.mat\")"
   ]
  },
  {
   "cell_type": "code",
   "execution_count": 4,
   "metadata": {},
   "outputs": [],
   "source": [
    "all_forces, forces_norms = preprocessing_from_matlab(forces)\n",
    "all_states, states_norms = preprocessing_from_matlab(states)"
   ]
  },
  {
   "cell_type": "code",
   "execution_count": 5,
   "metadata": {},
   "outputs": [],
   "source": [
    "dataset = Norms(states_norms, forces_norms)"
   ]
  },
  {
   "cell_type": "code",
   "execution_count": 6,
   "metadata": {},
   "outputs": [
    {
     "name": "stdout",
     "output_type": "stream",
     "text": [
      "Lenght of train data (norms): 800\n",
      "Lenght of test data (norms): 200\n"
     ]
    }
   ],
   "source": [
    "train_data_norms, test_data_norms = torch.utils.data.random_split(dataset, [0.8, 0.2])\n",
    "\n",
    "BATCH_SIZE = 1\n",
    "train_dataloader = DataLoader(dataset=train_data_norms,\n",
    "                              batch_size=BATCH_SIZE,\n",
    "                              shuffle=True)\n",
    "test_dataloader = DataLoader(dataset=test_data_norms,\n",
    "                             batch_size=BATCH_SIZE,\n",
    "                             shuffle=True)\n",
    "\n",
    "print(f\"Lenght of train data (norms): {len(train_dataloader)}\")\n",
    "print(f\"Lenght of test data (norms): {len(test_dataloader)}\")"
   ]
  },
  {
   "cell_type": "code",
   "execution_count": 7,
   "metadata": {},
   "outputs": [
    {
     "name": "stdout",
     "output_type": "stream",
     "text": [
      "Input:\n",
      "tensor([ 27.2639,  27.7391,  35.2073,   3.1299,   3.1391,  25.3805,  54.1599,\n",
      "         53.8464, 410.9296,   1.6795,   1.8720,   5.9969])\n",
      "Output:\n",
      "tensor([3.0538e+03, 2.0910e-01, 6.2049e-01, 2.7343e+00])\n"
     ]
    }
   ],
   "source": [
    "print(\"Input:\")\n",
    "print((train_data_norms[500][0]))\n",
    "print(\"Output:\")\n",
    "print((train_data_norms[500][1]))"
   ]
  },
  {
   "cell_type": "code",
   "execution_count": 8,
   "metadata": {},
   "outputs": [],
   "source": [
    "INPUT_LAYER = 12\n",
    "HIDDEN_LAYERS = 25\n",
    "OUTPUT_LAYER = 4\n",
    "ACTIVATION_FUNCTION = nn.ReLU()\n",
    "\n",
    "model = ModelAN(input_layer=INPUT_LAYER,\n",
    "                output_layer=OUTPUT_LAYER,\n",
    "                hidden_layes=HIDDEN_LAYERS,\n",
    "                activation_function=ACTIVATION_FUNCTION).to(device)\n",
    "loss_fn = nn.L1Loss()\n",
    "optimizer = torch.optim.Adam(model.parameters(), lr=1e-3)"
   ]
  },
  {
   "cell_type": "code",
   "execution_count": 9,
   "metadata": {},
   "outputs": [
    {
     "data": {
      "application/vnd.jupyter.widget-view+json": {
       "model_id": "7bc69380daf749e5bfa92c7ef902498d",
       "version_major": 2,
       "version_minor": 0
      },
      "text/plain": [
       "  0%|          | 0/200 [00:00<?, ?it/s]"
      ]
     },
     "metadata": {},
     "output_type": "display_data"
    },
    {
     "name": "stdout",
     "output_type": "stream",
     "text": [
      "Epoch: 0 | Train loss: 769.23895, Test loss: 768.11633\n",
      "~~~~~~~~~~~~~~~~~~~~~~~~~~~~~~~~~~~~~~~~~~~~~~~~~~\n",
      "Epoch: 20 | Train loss: 760.53485, Test loss: 760.25970\n",
      "~~~~~~~~~~~~~~~~~~~~~~~~~~~~~~~~~~~~~~~~~~~~~~~~~~\n",
      "Epoch: 40 | Train loss: 753.33051, Test loss: 752.89606\n",
      "~~~~~~~~~~~~~~~~~~~~~~~~~~~~~~~~~~~~~~~~~~~~~~~~~~\n",
      "Epoch: 60 | Train loss: 736.77893, Test loss: 735.50153\n",
      "~~~~~~~~~~~~~~~~~~~~~~~~~~~~~~~~~~~~~~~~~~~~~~~~~~\n",
      "Epoch: 80 | Train loss: 696.52887, Test loss: 693.39111\n",
      "~~~~~~~~~~~~~~~~~~~~~~~~~~~~~~~~~~~~~~~~~~~~~~~~~~\n",
      "Epoch: 100 | Train loss: 598.78851, Test loss: 591.04510\n",
      "~~~~~~~~~~~~~~~~~~~~~~~~~~~~~~~~~~~~~~~~~~~~~~~~~~\n",
      "Epoch: 120 | Train loss: 377.36227, Test loss: 361.75864\n",
      "~~~~~~~~~~~~~~~~~~~~~~~~~~~~~~~~~~~~~~~~~~~~~~~~~~\n",
      "Epoch: 140 | Train loss: 60.94122, Test loss: 71.31059\n",
      "~~~~~~~~~~~~~~~~~~~~~~~~~~~~~~~~~~~~~~~~~~~~~~~~~~\n",
      "Epoch: 160 | Train loss: 10.84307, Test loss: 2.70973\n",
      "~~~~~~~~~~~~~~~~~~~~~~~~~~~~~~~~~~~~~~~~~~~~~~~~~~\n",
      "Epoch: 180 | Train loss: 4.92276, Test loss: 5.66606\n",
      "~~~~~~~~~~~~~~~~~~~~~~~~~~~~~~~~~~~~~~~~~~~~~~~~~~\n",
      "Done!\n"
     ]
    }
   ],
   "source": [
    "epochs = 200\n",
    "loss_overall = []\n",
    "loss_overall_test = []\n",
    "\n",
    "for epoch in trange(epochs): \n",
    "    loss = train(train_dataloader, model, loss_fn, optimizer)\n",
    "    test_loss = test(test_dataloader, model, loss_fn)\n",
    "    if epoch % 20 == 0:\n",
    "        print(f\"Epoch: {epoch} | Train loss: {loss:.5f}, Test loss: {test_loss:.5f}\")\n",
    "        print(\"~\"*50)\n",
    "    loss_overall.append(loss.item())\n",
    "    loss_overall_test.append(test_loss.item())\n",
    "    \n",
    "print(\"Done!\")"
   ]
  },
  {
   "cell_type": "code",
   "execution_count": 14,
   "metadata": {},
   "outputs": [
    {
     "data": {
      "application/vnd.jupyter.widget-view+json": {
       "model_id": "20ca80b38d4747ccb7229cd990680dc9",
       "version_major": 2,
       "version_minor": 0
      },
      "image/png": "[encoded data removed]",
      "text/html": [
       "\n",
       "            <div style=\"display: inline-block;\">\n",
       "                <div class=\"jupyter-widgets widget-label\" style=\"text-align: center;\">\n",
       "                    Figure\n",
       "                </div>\n",
       "                <img src='data:image/png;base64,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' width=629.9212598425196/>\n",
       "            </div>\n",
       "        "
      ],
      "text/plain": [
       "Canvas(toolbar=Toolbar(toolitems=[('Home', 'Reset original view', 'home', 'home'), ('Back', 'Back to previous …"
      ]
     },
     "metadata": {},
     "output_type": "display_data"
    }
   ],
   "source": [
    "t = np.linspace(1, epochs, epochs)\n",
    "\n",
    "set_theme(style=\"white\", rc={\"text.usetex\": True, \"font.family\": \"serif\", \"lines.linewidth\": 1}, palette=\"colorblind\")\n",
    "cm = 1/2.54\n",
    "fig, ax = plt.subplots(figsize=(16*cm, 8*cm))\n",
    "\n",
    "ax.plot(t, loss_overall, label='Train loss')\n",
    "ax.plot(t, loss_overall_test, label='Test loss', ls=\"-.\")\n",
    "ax.set_xlabel('Epochs')\n",
    "ax.set_ylabel(\"Loss\")\n",
    "ax.legend()\n",
    "fig.tight_layout()"
   ]
  },
  {
   "cell_type": "code",
   "execution_count": 11,
   "metadata": {},
   "outputs": [],
   "source": [
    "torch.save(model.state_dict(), \"model_norms.pt\")"
   ]
  }
 ],
 "metadata": {
  "kernelspec": {
   "display_name": "base",
   "language": "python",
   "name": "python3"
  },
  "language_info": {
   "codemirror_mode": {
    "name": "ipython",
    "version": 3
   },
   "file_extension": ".py",
   "mimetype": "text/x-python",
   "name": "python",
   "nbconvert_exporter": "python",
   "pygments_lexer": "ipython3",
   "version": "3.11.5"
  },
  "orig_nbformat": 4
 },
 "nbformat": 4,
 "nbformat_minor": 2
}
