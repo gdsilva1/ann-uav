{
 "cells": [
  {
   "cell_type": "code",
   "execution_count": 1,
   "metadata": {},
   "outputs": [],
   "source": [
    "from scipy.io import loadmat\n",
    "import pandas as pd\n",
    "from sklearn.preprocessing import normalize\n",
    "import numpy as np"
   ]
  },
  {
   "cell_type": "code",
   "execution_count": 2,
   "metadata": {},
   "outputs": [],
   "source": [
    "def preprocessing_from_matlab_new(matlab_file_path):\n",
    "    data_file_raw = loadmat(matlab_file_path)\n",
    "    data_name = list(data_file_raw.keys())[-1]\n",
    "    data = data_file_raw[data_name].squeeze()\n",
    "    for variable in data:\n",
    "        yield variable.T"
   ]
  },
  {
   "cell_type": "code",
   "execution_count": 3,
   "metadata": {},
   "outputs": [],
   "source": [
    "xs = preprocessing_from_matlab(\"/home/gabriel/Documents/matlab_files/xs_all.mat\")"
   ]
  },
  {
   "cell_type": "code",
   "execution_count": 4,
   "metadata": {},
   "outputs": [
    {
     "data": {
      "text/plain": [
       "(20001, 12)"
      ]
     },
     "execution_count": 4,
     "metadata": {},
     "output_type": "execute_result"
    }
   ],
   "source": [
    "next(xs).shape"
   ]
  },
  {
   "cell_type": "code",
   "execution_count": 111,
   "metadata": {},
   "outputs": [],
   "source": [
    "def normalize_data_new(data):\n",
    "    for item in data:\n",
    "        yield normalize(item, \n",
    "                        return_norm=True,\n",
    "                        axis=0)"
   ]
  },
  {
   "cell_type": "code",
   "execution_count": 112,
   "metadata": {},
   "outputs": [],
   "source": [
    "xs_and_xs_norms = normalize_data(xs)"
   ]
  },
  {
   "cell_type": "code",
   "execution_count": 113,
   "metadata": {},
   "outputs": [
    {
     "name": "stdout",
     "output_type": "stream",
     "text": [
      "(20001, 12)\n",
      "(12,)\n"
     ]
    }
   ],
   "source": [
    "for a, b in xs_and_xs_norms:\n",
    "    print(a.shape)\n",
    "    print(b.shape)\n",
    "    break"
   ]
  },
  {
   "cell_type": "code",
   "execution_count": 1,
   "metadata": {},
   "outputs": [],
   "source": [
    "a = range(10)"
   ]
  },
  {
   "cell_type": "code",
   "execution_count": 4,
   "metadata": {},
   "outputs": [
    {
     "data": {
      "text/plain": [
       "[4, 5, 6, 7, 8, 9]"
      ]
     },
     "execution_count": 4,
     "metadata": {},
     "output_type": "execute_result"
    }
   ],
   "source": [
    "list(range(10))[4:]"
   ]
  },
  {
   "cell_type": "code",
   "execution_count": null,
   "metadata": {},
   "outputs": [],
   "source": []
  },
  {
   "cell_type": "code",
   "execution_count": null,
   "metadata": {},
   "outputs": [],
   "source": []
  },
  {
   "cell_type": "code",
   "execution_count": null,
   "metadata": {},
   "outputs": [],
   "source": []
  },
  {
   "cell_type": "code",
   "execution_count": null,
   "metadata": {},
   "outputs": [],
   "source": []
  },
  {
   "cell_type": "code",
   "execution_count": 3,
   "metadata": {},
   "outputs": [],
   "source": [
    "xs = loadmat(\"/home/gabriel/Documents/matlab_files/xs_all.mat\")\n",
    "tau = loadmat(\"/home/gabriel/Documents/matlab_files/tau_all.mat\")"
   ]
  },
  {
   "cell_type": "code",
   "execution_count": 41,
   "metadata": {},
   "outputs": [
    {
     "data": {
      "text/plain": [
       "'xs_all'"
      ]
     },
     "execution_count": 41,
     "metadata": {},
     "output_type": "execute_result"
    }
   ],
   "source": [
    "list(xs.keys())[-1]"
   ]
  },
  {
   "cell_type": "code",
   "execution_count": 23,
   "metadata": {},
   "outputs": [],
   "source": [
    "xs1 = xs[\"xs_all\"].squeeze()\n",
    "tau1 = tau[\"tau_all\"].squeeze()"
   ]
  },
  {
   "cell_type": "code",
   "execution_count": 35,
   "metadata": {},
   "outputs": [
    {
     "data": {
      "text/html": [
       "<div>\n",
       "<style scoped>\n",
       "    .dataframe tbody tr th:only-of-type {\n",
       "        vertical-align: middle;\n",
       "    }\n",
       "\n",
       "    .dataframe tbody tr th {\n",
       "        vertical-align: top;\n",
       "    }\n",
       "\n",
       "    .dataframe thead th {\n",
       "        text-align: right;\n",
       "    }\n",
       "</style>\n",
       "<table border=\"1\" class=\"dataframe\">\n",
       "  <thead>\n",
       "    <tr style=\"text-align: right;\">\n",
       "      <th></th>\n",
       "      <th>0</th>\n",
       "      <th>1</th>\n",
       "      <th>2</th>\n",
       "      <th>3</th>\n",
       "      <th>4</th>\n",
       "      <th>5</th>\n",
       "      <th>6</th>\n",
       "      <th>7</th>\n",
       "      <th>8</th>\n",
       "      <th>9</th>\n",
       "      <th>10</th>\n",
       "      <th>11</th>\n",
       "    </tr>\n",
       "  </thead>\n",
       "  <tbody>\n",
       "    <tr>\n",
       "      <th>19996</th>\n",
       "      <td>-0.246068</td>\n",
       "      <td>0.127513</td>\n",
       "      <td>1.243422e-09</td>\n",
       "      <td>0.003246</td>\n",
       "      <td>0.006272</td>\n",
       "      <td>-0.000001</td>\n",
       "      <td>0.254733</td>\n",
       "      <td>0.487787</td>\n",
       "      <td>3.0</td>\n",
       "      <td>0.012391</td>\n",
       "      <td>-0.006443</td>\n",
       "      <td>0.000002</td>\n",
       "    </tr>\n",
       "    <tr>\n",
       "      <th>19997</th>\n",
       "      <td>-0.246195</td>\n",
       "      <td>0.127270</td>\n",
       "      <td>1.221395e-09</td>\n",
       "      <td>0.003240</td>\n",
       "      <td>0.006275</td>\n",
       "      <td>-0.000001</td>\n",
       "      <td>0.254241</td>\n",
       "      <td>0.488042</td>\n",
       "      <td>3.0</td>\n",
       "      <td>0.012397</td>\n",
       "      <td>-0.006430</td>\n",
       "      <td>0.000002</td>\n",
       "    </tr>\n",
       "    <tr>\n",
       "      <th>19998</th>\n",
       "      <td>-0.246321</td>\n",
       "      <td>0.127026</td>\n",
       "      <td>1.199362e-09</td>\n",
       "      <td>0.003234</td>\n",
       "      <td>0.006279</td>\n",
       "      <td>-0.000001</td>\n",
       "      <td>0.253748</td>\n",
       "      <td>0.488296</td>\n",
       "      <td>3.0</td>\n",
       "      <td>0.012404</td>\n",
       "      <td>-0.006418</td>\n",
       "      <td>0.000002</td>\n",
       "    </tr>\n",
       "    <tr>\n",
       "      <th>19999</th>\n",
       "      <td>-0.246447</td>\n",
       "      <td>0.126783</td>\n",
       "      <td>1.177325e-09</td>\n",
       "      <td>0.003228</td>\n",
       "      <td>0.006282</td>\n",
       "      <td>-0.000001</td>\n",
       "      <td>0.253255</td>\n",
       "      <td>0.488550</td>\n",
       "      <td>3.0</td>\n",
       "      <td>0.012410</td>\n",
       "      <td>-0.006405</td>\n",
       "      <td>0.000002</td>\n",
       "    </tr>\n",
       "    <tr>\n",
       "      <th>20000</th>\n",
       "      <td>-0.246572</td>\n",
       "      <td>0.126539</td>\n",
       "      <td>1.155283e-09</td>\n",
       "      <td>0.003222</td>\n",
       "      <td>0.006285</td>\n",
       "      <td>-0.000001</td>\n",
       "      <td>0.252762</td>\n",
       "      <td>0.488803</td>\n",
       "      <td>3.0</td>\n",
       "      <td>0.012417</td>\n",
       "      <td>-0.006393</td>\n",
       "      <td>0.000002</td>\n",
       "    </tr>\n",
       "  </tbody>\n",
       "</table>\n",
       "</div>"
      ],
      "text/plain": [
       "             0         1             2         3         4         5   \\\n",
       "19996 -0.246068  0.127513  1.243422e-09  0.003246  0.006272 -0.000001   \n",
       "19997 -0.246195  0.127270  1.221395e-09  0.003240  0.006275 -0.000001   \n",
       "19998 -0.246321  0.127026  1.199362e-09  0.003234  0.006279 -0.000001   \n",
       "19999 -0.246447  0.126783  1.177325e-09  0.003228  0.006282 -0.000001   \n",
       "20000 -0.246572  0.126539  1.155283e-09  0.003222  0.006285 -0.000001   \n",
       "\n",
       "             6         7    8         9         10        11  \n",
       "19996  0.254733  0.487787  3.0  0.012391 -0.006443  0.000002  \n",
       "19997  0.254241  0.488042  3.0  0.012397 -0.006430  0.000002  \n",
       "19998  0.253748  0.488296  3.0  0.012404 -0.006418  0.000002  \n",
       "19999  0.253255  0.488550  3.0  0.012410 -0.006405  0.000002  \n",
       "20000  0.252762  0.488803  3.0  0.012417 -0.006393  0.000002  "
      ]
     },
     "execution_count": 35,
     "metadata": {},
     "output_type": "execute_result"
    }
   ],
   "source": [
    "pd.DataFrame(xs1[0].T).tail()"
   ]
  },
  {
   "cell_type": "code",
   "execution_count": 42,
   "metadata": {},
   "outputs": [],
   "source": []
  },
  {
   "cell_type": "code",
   "execution_count": null,
   "metadata": {},
   "outputs": [],
   "source": []
  },
  {
   "cell_type": "code",
   "execution_count": null,
   "metadata": {},
   "outputs": [],
   "source": []
  },
  {
   "cell_type": "code",
   "execution_count": null,
   "metadata": {},
   "outputs": [],
   "source": []
  },
  {
   "cell_type": "code",
   "execution_count": null,
   "metadata": {},
   "outputs": [],
   "source": []
  },
  {
   "cell_type": "code",
   "execution_count": 11,
   "metadata": {},
   "outputs": [],
   "source": [
    "from sklearn.preprocessing import normalize\n",
    "\n",
    "def preprocessing_from_matlab(data, n_data=20001):\n",
    "    key = list(data.keys())[-1]\n",
    "    all_data = data[key].squeeze()\n",
    "    all_data_normalized = []\n",
    "    all_data_norms = []\n",
    "\n",
    "    for data in all_data:\n",
    "        data_normalized, data_norms = normalize(X=data.T[:n_data],\n",
    "                                                axis=0,\n",
    "                                                return_norm=True)\n",
    "        data_norms\n",
    "        all_data_normalized.append(data_normalized)\n",
    "        all_data_norms.append(data_norms)"
   ]
  },
  {
   "cell_type": "code",
   "execution_count": 2,
   "metadata": {},
   "outputs": [],
   "source": [
    "path_to_states = \"/home/gabriel/Documents/matlab_files/xs_all.mat\"\n",
    "path_to_forces = \"/home/gabriel/Documents/matlab_files/tau_all.mat\""
   ]
  },
  {
   "cell_type": "code",
   "execution_count": 3,
   "metadata": {},
   "outputs": [],
   "source": [
    "states_raw = loadmat(path_to_states)\n",
    "forces_raw = loadmat(path_to_forces)"
   ]
  },
  {
   "cell_type": "code",
   "execution_count": 13,
   "metadata": {},
   "outputs": [],
   "source": [
    "states = preprocessing_from_matlab(states_raw)\n",
    "forces = preprocessing_from_matlab(forces_raw)"
   ]
  },
  {
   "cell_type": "code",
   "execution_count": 16,
   "metadata": {},
   "outputs": [
    {
     "name": "stdout",
     "output_type": "stream",
     "text": [
      "None\n"
     ]
    }
   ],
   "source": [
    "print(states)"
   ]
  }
 ],
 "metadata": {
  "kernelspec": {
   "display_name": "base",
   "language": "python",
   "name": "python3"
  },
  "language_info": {
   "codemirror_mode": {
    "name": "ipython",
    "version": 3
   },
   "file_extension": ".py",
   "mimetype": "text/x-python",
   "name": "python",
   "nbconvert_exporter": "python",
   "pygments_lexer": "ipython3",
   "version": "3.11.5"
  }
 },
 "nbformat": 4,
 "nbformat_minor": 2
}
