{
 "cells": [
  {
   "cell_type": "code",
   "execution_count": 9,
   "metadata": {},
   "outputs": [],
   "source": [
    "from scipy.io import loadmat"
   ]
  },
  {
   "cell_type": "code",
   "execution_count": 11,
   "metadata": {},
   "outputs": [],
   "source": [
    "from sklearn.preprocessing import normalize\n",
    "\n",
    "def preprocessing_from_matlab(data, n_data=20001):\n",
    "    key = list(data.keys())[-1]\n",
    "    all_data = data[key].squeeze()\n",
    "    all_data_normalized = []\n",
    "    all_data_norms = []\n",
    "\n",
    "    for data in all_data:\n",
    "        data_normalized, data_norms = normalize(X=data.T[:n_data],\n",
    "                                                axis=0,\n",
    "                                                return_norm=True)\n",
    "        data_norms\n",
    "        all_data_normalized.append(data_normalized)\n",
    "        all_data_norms.append(data_norms)"
   ]
  },
  {
   "cell_type": "code",
   "execution_count": 2,
   "metadata": {},
   "outputs": [],
   "source": [
    "path_to_states = \"/home/gabriel/Documents/matlab_files/xs_all.mat\"\n",
    "path_to_forces = \"/home/gabriel/Documents/matlab_files/tau_all.mat\""
   ]
  },
  {
   "cell_type": "code",
   "execution_count": 3,
   "metadata": {},
   "outputs": [],
   "source": [
    "states_raw = loadmat(path_to_states)\n",
    "forces_raw = loadmat(path_to_forces)"
   ]
  },
  {
   "cell_type": "code",
   "execution_count": 13,
   "metadata": {},
   "outputs": [],
   "source": [
    "states = preprocessing_from_matlab(states_raw)\n",
    "forces = preprocessing_from_matlab(forces_raw)"
   ]
  },
  {
   "cell_type": "code",
   "execution_count": 16,
   "metadata": {},
   "outputs": [
    {
     "name": "stdout",
     "output_type": "stream",
     "text": [
      "None\n"
     ]
    }
   ],
   "source": [
    "print(states)"
   ]
  }
 ],
 "metadata": {
  "kernelspec": {
   "display_name": "base",
   "language": "python",
   "name": "python3"
  },
  "language_info": {
   "codemirror_mode": {
    "name": "ipython",
    "version": 3
   },
   "file_extension": ".py",
   "mimetype": "text/x-python",
   "name": "python",
   "nbconvert_exporter": "python",
   "pygments_lexer": "ipython3",
   "version": "3.11.5"
  }
 },
 "nbformat": 4,
 "nbformat_minor": 2
}
