{
 "cells": [
  {
   "cell_type": "markdown",
   "metadata": {},
   "source": [
    "# Model 3"
   ]
  },
  {
   "cell_type": "markdown",
   "metadata": {},
   "source": [
    "### Data processing"
   ]
  },
  {
   "cell_type": "code",
   "execution_count": null,
   "metadata": {},
   "outputs": [],
   "source": [
    "import pandas as pd\n",
    "import numpy as np\n",
    "import matplotlib.pyplot as plt\n",
    "import tensorflow as tf\n",
    "from sklearn.model_selection import train_test_split\n",
    "from scipy.io import loadmat"
   ]
  },
  {
   "cell_type": "code",
   "execution_count": null,
   "metadata": {},
   "outputs": [],
   "source": [
    "xs = loadmat('xs_all.mat')\n",
    "tau = loadmat('tau_all.mat')"
   ]
  },
  {
   "cell_type": "code",
   "execution_count": null,
   "metadata": {},
   "outputs": [],
   "source": [
    "n_samples = 100 # maximum 1000\n",
    "\n",
    "xs_all = []\n",
    "for i in range(n_samples):\n",
    "    xs_all.append(pd.DataFrame(xs['xs_all'][i][0]).T)\n",
    "\n",
    "tau_all = []\n",
    "for i in range(n_samples):\n",
    "    tau_all.append(pd.DataFrame(tau['tau_all'][i][0]).T)"
   ]
  },
  {
   "cell_type": "markdown",
   "metadata": {},
   "source": [
    "### Creating the Model"
   ]
  },
  {
   "cell_type": "code",
   "execution_count": null,
   "metadata": {},
   "outputs": [],
   "source": [
    "# Splitting the data\n",
    "X_train, X_test, y_train, y_test = train_test_split(xs_all, tau_all, test_size=0.2)"
   ]
  },
  {
   "cell_type": "code",
   "execution_count": null,
   "metadata": {},
   "outputs": [],
   "source": [
    "len(X_train), len(X_test), len(y_train), len(y_test)"
   ]
  },
  {
   "cell_type": "code",
   "execution_count": null,
   "metadata": {},
   "outputs": [],
   "source": [
    "# Creating the model\n",
    "model_3 = tf.keras.Sequential([\n",
    "    tf.keras.layers.Dense(30, activation='relu'),\n",
    "    tf.keras.layers.Dense(30, activation='linear'),\n",
    "    tf.keras.layers.Dense(30, activation='relu'),\n",
    "    tf.keras.layers.Dense(4)\n",
    "])\n",
    "\n",
    "# Compiling the model\n",
    "model_3.compile(loss='mse',\n",
    "              optimizer=tf.keras.optimizers.Adam(learning_rate=0.01),\n",
    "              metrics=['mae'])\n",
    "\n",
    "# Fitting the model\n",
    "history_3 = model_3.fit(np.stack(X_train),np.stack(y_train), epochs=50)\n",
    "\n",
    "plt.style.use('bmh')\n",
    "pd.DataFrame(history_3.history).plot()\n"
   ]
  },
  {
   "cell_type": "code",
   "execution_count": 8,
   "metadata": {},
   "outputs": [
    {
     "name": "stdout",
     "output_type": "stream",
     "text": [
      "WARNING:tensorflow:Layers in a Sequential model should only have a single input tensor. Received: inputs=(<tf.Tensor 'IteratorGetNext:0' shape=(None, 12) dtype=float64>, <tf.Tensor 'IteratorGetNext:1' shape=(None, 12) dtype=float64>, <tf.Tensor 'IteratorGetNext:2' shape=(None, 12) dtype=float64>, <tf.Tensor 'IteratorGetNext:3' shape=(None, 12) dtype=float64>, <tf.Tensor 'IteratorGetNext:4' shape=(None, 12) dtype=float64>, <tf.Tensor 'IteratorGetNext:5' shape=(None, 12) dtype=float64>, <tf.Tensor 'IteratorGetNext:6' shape=(None, 12) dtype=float64>, <tf.Tensor 'IteratorGetNext:7' shape=(None, 12) dtype=float64>, <tf.Tensor 'IteratorGetNext:8' shape=(None, 12) dtype=float64>, <tf.Tensor 'IteratorGetNext:9' shape=(None, 12) dtype=float64>). Consider rewriting this model with the Functional API.\n",
      "626/626 [==============================] - 1s 1ms/step - loss: 0.1522 - mae: 0.1044\n"
     ]
    },
    {
     "data": {
      "text/plain": [
       "[0.15219347178936005, 0.10436119139194489]"
      ]
     },
     "execution_count": 8,
     "metadata": {},
     "output_type": "execute_result"
    }
   ],
   "source": [
    "model_3.evaluate(X_test, y_test)"
   ]
  },
  {
   "cell_type": "code",
   "execution_count": null,
   "metadata": {},
   "outputs": [],
   "source": []
  }
 ],
 "metadata": {
  "kernelspec": {
   "display_name": "Python 3 (ipykernel)",
   "language": "python",
   "name": "python3"
  },
  "language_info": {
   "codemirror_mode": {
    "name": "ipython",
    "version": 3
   },
   "file_extension": ".py",
   "mimetype": "text/x-python",
   "name": "python",
   "nbconvert_exporter": "python",
   "pygments_lexer": "ipython3",
   "version": "3.11.3"
  }
 },
 "nbformat": 4,
 "nbformat_minor": 2
}
