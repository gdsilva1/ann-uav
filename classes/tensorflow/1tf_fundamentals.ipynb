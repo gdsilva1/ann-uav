{
 "cells": [
  {
   "attachments": {},
   "cell_type": "markdown",
   "metadata": {},
   "source": [
    "## Class Notes"
   ]
  },
  {
   "cell_type": "code",
   "execution_count": 2,
   "metadata": {},
   "outputs": [
    {
     "name": "stderr",
     "output_type": "stream",
     "text": [
      "2023-05-25 06:10:37.701879: I tensorflow/tsl/cuda/cudart_stub.cc:28] Could not find cuda drivers on your machine, GPU will not be used.\n",
      "2023-05-25 06:10:37.780792: I tensorflow/tsl/cuda/cudart_stub.cc:28] Could not find cuda drivers on your machine, GPU will not be used.\n",
      "2023-05-25 06:10:37.781907: I tensorflow/core/platform/cpu_feature_guard.cc:182] This TensorFlow binary is optimized to use available CPU instructions in performance-critical operations.\n",
      "To enable the following instructions: AVX2 FMA, in other operations, rebuild TensorFlow with the appropriate compiler flags.\n",
      "2023-05-25 06:10:39.294491: W tensorflow/compiler/tf2tensorrt/utils/py_utils.cc:38] TF-TRT Warning: Could not find TensorRT\n"
     ]
    },
    {
     "name": "stdout",
     "output_type": "stream",
     "text": [
      "2.12.0\n"
     ]
    }
   ],
   "source": [
    "import tensorflow as tf\n",
    "import numpy as np\n",
    "print(tf.__version__)"
   ]
  },
  {
   "cell_type": "code",
   "execution_count": 3,
   "metadata": {},
   "outputs": [
    {
     "name": "stderr",
     "output_type": "stream",
     "text": [
      "2023-05-25 06:10:41.004517: I tensorflow/compiler/xla/stream_executor/cuda/cuda_gpu_executor.cc:996] successful NUMA node read from SysFS had negative value (-1), but there must be at least one NUMA node, so returning NUMA node zero. See more at https://github.com/torvalds/linux/blob/v6.0/Documentation/ABI/testing/sysfs-bus-pci#L344-L355\n",
      "2023-05-25 06:10:41.005284: W tensorflow/core/common_runtime/gpu/gpu_device.cc:1956] Cannot dlopen some GPU libraries. Please make sure the missing libraries mentioned above are installed properly if you would like to use GPU. Follow the guide at https://www.tensorflow.org/install/gpu for how to download and setup the required libraries for your platform.\n",
      "Skipping registering GPU devices...\n"
     ]
    },
    {
     "data": {
      "text/plain": [
       "<tf.Tensor: shape=(), dtype=int32, numpy=7>"
      ]
     },
     "execution_count": 3,
     "metadata": {},
     "output_type": "execute_result"
    }
   ],
   "source": [
    "scalar = tf.constant(7)\n",
    "scalar"
   ]
  },
  {
   "cell_type": "code",
   "execution_count": 4,
   "metadata": {},
   "outputs": [
    {
     "data": {
      "text/plain": [
       "0"
      ]
     },
     "execution_count": 4,
     "metadata": {},
     "output_type": "execute_result"
    }
   ],
   "source": [
    "scalar.ndim"
   ]
  },
  {
   "cell_type": "code",
   "execution_count": 5,
   "metadata": {},
   "outputs": [
    {
     "data": {
      "text/plain": [
       "<tf.Tensor: shape=(2,), dtype=int32, numpy=array([10, 10], dtype=int32)>"
      ]
     },
     "execution_count": 5,
     "metadata": {},
     "output_type": "execute_result"
    }
   ],
   "source": [
    "vector = tf.constant([10,10])\n",
    "vector"
   ]
  },
  {
   "cell_type": "code",
   "execution_count": 6,
   "metadata": {},
   "outputs": [
    {
     "data": {
      "text/plain": [
       "1"
      ]
     },
     "execution_count": 6,
     "metadata": {},
     "output_type": "execute_result"
    }
   ],
   "source": [
    "vector.ndim"
   ]
  },
  {
   "cell_type": "code",
   "execution_count": 7,
   "metadata": {},
   "outputs": [
    {
     "data": {
      "text/plain": [
       "<tf.Tensor: shape=(2, 2), dtype=int32, numpy=\n",
       "array([[10,  7],\n",
       "       [ 7, 10]], dtype=int32)>"
      ]
     },
     "execution_count": 7,
     "metadata": {},
     "output_type": "execute_result"
    }
   ],
   "source": [
    "matrix = tf.constant([[10,7],\n",
    "                     [7,10]])\n",
    "matrix"
   ]
  },
  {
   "cell_type": "code",
   "execution_count": 8,
   "metadata": {},
   "outputs": [
    {
     "data": {
      "text/plain": [
       "2"
      ]
     },
     "execution_count": 8,
     "metadata": {},
     "output_type": "execute_result"
    }
   ],
   "source": [
    "matrix.ndim"
   ]
  },
  {
   "cell_type": "code",
   "execution_count": 9,
   "metadata": {},
   "outputs": [
    {
     "data": {
      "text/plain": [
       "<tf.Tensor: shape=(3, 2), dtype=float16, numpy=\n",
       "array([[10.,  7.],\n",
       "       [ 3.,  2.],\n",
       "       [ 8.,  9.]], dtype=float16)>"
      ]
     },
     "execution_count": 9,
     "metadata": {},
     "output_type": "execute_result"
    }
   ],
   "source": [
    "another_matrix = tf.constant([[10.,7,],\n",
    "                              [3.,2.],\n",
    "                              [8.,9.]], dtype=tf.float16)\n",
    "another_matrix"
   ]
  },
  {
   "cell_type": "code",
   "execution_count": 10,
   "metadata": {},
   "outputs": [
    {
     "data": {
      "text/plain": [
       "2"
      ]
     },
     "execution_count": 10,
     "metadata": {},
     "output_type": "execute_result"
    }
   ],
   "source": [
    "another_matrix.ndim"
   ]
  },
  {
   "cell_type": "code",
   "execution_count": 11,
   "metadata": {},
   "outputs": [
    {
     "data": {
      "text/plain": [
       "<tf.Tensor: shape=(1, 1, 3), dtype=int32, numpy=array([[[1, 2, 3]]], dtype=int32)>"
      ]
     },
     "execution_count": 11,
     "metadata": {},
     "output_type": "execute_result"
    }
   ],
   "source": [
    "tensor = tf.constant([[[1,2,3]]])\n",
    "tensor"
   ]
  },
  {
   "cell_type": "code",
   "execution_count": 12,
   "metadata": {},
   "outputs": [
    {
     "data": {
      "text/plain": [
       "3"
      ]
     },
     "execution_count": 12,
     "metadata": {},
     "output_type": "execute_result"
    }
   ],
   "source": [
    "tensor.ndim"
   ]
  },
  {
   "cell_type": "code",
   "execution_count": 13,
   "metadata": {},
   "outputs": [
    {
     "data": {
      "text/plain": [
       "(<tf.Variable 'Variable:0' shape=(2,) dtype=int32, numpy=array([10,  7], dtype=int32)>,\n",
       " <tf.Tensor: shape=(2,), dtype=int32, numpy=array([10,  7], dtype=int32)>)"
      ]
     },
     "execution_count": 13,
     "metadata": {},
     "output_type": "execute_result"
    }
   ],
   "source": [
    "changeable_tensor = tf.Variable([10,7])\n",
    "unchangeable_tensor = tf.constant([10,7])\n",
    "changeable_tensor, unchangeable_tensor"
   ]
  },
  {
   "cell_type": "code",
   "execution_count": 14,
   "metadata": {},
   "outputs": [
    {
     "data": {
      "text/plain": [
       "<tf.Variable 'Variable:0' shape=(2,) dtype=int32, numpy=array([7, 7], dtype=int32)>"
      ]
     },
     "execution_count": 14,
     "metadata": {},
     "output_type": "execute_result"
    }
   ],
   "source": [
    "changeable_tensor[0].assign(7)\n",
    "changeable_tensor"
   ]
  },
  {
   "cell_type": "code",
   "execution_count": 15,
   "metadata": {},
   "outputs": [
    {
     "data": {
      "text/plain": [
       "<tf.Tensor: shape=(3, 2), dtype=bool, numpy=\n",
       "array([[ True,  True],\n",
       "       [ True,  True],\n",
       "       [ True,  True]])>"
      ]
     },
     "execution_count": 15,
     "metadata": {},
     "output_type": "execute_result"
    }
   ],
   "source": [
    "random_1 = tf.random.Generator.from_seed(42)\n",
    "random_1 = random_1.normal(shape=(3,2))\n",
    "random_2 = tf.random.Generator.from_seed(42)\n",
    "random_2 = random_2.normal(shape=(3,2))\n",
    "\n",
    "random_1 == random_2"
   ]
  },
  {
   "cell_type": "code",
   "execution_count": 16,
   "metadata": {},
   "outputs": [
    {
     "data": {
      "text/plain": [
       "<tf.Tensor: shape=(3, 2), dtype=int32, numpy=\n",
       "array([[10,  7],\n",
       "       [ 5,  2],\n",
       "       [ 3,  4]], dtype=int32)>"
      ]
     },
     "execution_count": 16,
     "metadata": {},
     "output_type": "execute_result"
    }
   ],
   "source": [
    "not_shuffled = tf.constant([[10,7],\n",
    "                            [3,4],\n",
    "                            [5,2]])\n",
    "\n",
    "tf.random.shuffle(not_shuffled)"
   ]
  },
  {
   "cell_type": "code",
   "execution_count": 17,
   "metadata": {},
   "outputs": [
    {
     "data": {
      "text/plain": [
       "<tf.Tensor: shape=(3, 3), dtype=float32, numpy=\n",
       "array([[1., 1., 1.],\n",
       "       [1., 1., 1.],\n",
       "       [1., 1., 1.]], dtype=float32)>"
      ]
     },
     "execution_count": 17,
     "metadata": {},
     "output_type": "execute_result"
    }
   ],
   "source": [
    "tf.ones([3,3])"
   ]
  },
  {
   "cell_type": "code",
   "execution_count": 18,
   "metadata": {},
   "outputs": [
    {
     "data": {
      "text/plain": [
       "<tf.Tensor: shape=(3, 3, 3), dtype=float32, numpy=\n",
       "array([[[0., 0., 0.],\n",
       "        [0., 0., 0.],\n",
       "        [0., 0., 0.]],\n",
       "\n",
       "       [[0., 0., 0.],\n",
       "        [0., 0., 0.],\n",
       "        [0., 0., 0.]],\n",
       "\n",
       "       [[0., 0., 0.],\n",
       "        [0., 0., 0.],\n",
       "        [0., 0., 0.]]], dtype=float32)>"
      ]
     },
     "execution_count": 18,
     "metadata": {},
     "output_type": "execute_result"
    }
   ],
   "source": [
    "tf.zeros([3,3,3])"
   ]
  },
  {
   "cell_type": "code",
   "execution_count": 19,
   "metadata": {},
   "outputs": [
    {
     "data": {
      "text/plain": [
       "array([ 1,  2,  3,  4,  5,  6,  7,  8,  9, 10, 11, 12, 13, 14, 15, 16, 17,\n",
       "       18, 19, 20, 21, 22, 23, 24])"
      ]
     },
     "execution_count": 19,
     "metadata": {},
     "output_type": "execute_result"
    }
   ],
   "source": [
    "A = np.arange(1,25)\n",
    "A"
   ]
  },
  {
   "cell_type": "code",
   "execution_count": 20,
   "metadata": {},
   "outputs": [
    {
     "data": {
      "text/plain": [
       "<tf.Tensor: shape=(2, 3, 4), dtype=int64, numpy=\n",
       "array([[[ 1,  2,  3,  4],\n",
       "        [ 5,  6,  7,  8],\n",
       "        [ 9, 10, 11, 12]],\n",
       "\n",
       "       [[13, 14, 15, 16],\n",
       "        [17, 18, 19, 20],\n",
       "        [21, 22, 23, 24]]])>"
      ]
     },
     "execution_count": 20,
     "metadata": {},
     "output_type": "execute_result"
    }
   ],
   "source": [
    "A = tf.constant(A, shape=(2,3,4))\n",
    "A"
   ]
  },
  {
   "cell_type": "code",
   "execution_count": 21,
   "metadata": {},
   "outputs": [
    {
     "data": {
      "text/plain": [
       "3"
      ]
     },
     "execution_count": 21,
     "metadata": {},
     "output_type": "execute_result"
    }
   ],
   "source": [
    "A.ndim"
   ]
  },
  {
   "cell_type": "code",
   "execution_count": 22,
   "metadata": {},
   "outputs": [
    {
     "data": {
      "text/plain": [
       "<tf.Tensor: shape=(2, 3, 4, 5), dtype=float32, numpy=\n",
       "array([[[[0., 0., 0., 0., 0.],\n",
       "         [0., 0., 0., 0., 0.],\n",
       "         [0., 0., 0., 0., 0.],\n",
       "         [0., 0., 0., 0., 0.]],\n",
       "\n",
       "        [[0., 0., 0., 0., 0.],\n",
       "         [0., 0., 0., 0., 0.],\n",
       "         [0., 0., 0., 0., 0.],\n",
       "         [0., 0., 0., 0., 0.]],\n",
       "\n",
       "        [[0., 0., 0., 0., 0.],\n",
       "         [0., 0., 0., 0., 0.],\n",
       "         [0., 0., 0., 0., 0.],\n",
       "         [0., 0., 0., 0., 0.]]],\n",
       "\n",
       "\n",
       "       [[[0., 0., 0., 0., 0.],\n",
       "         [0., 0., 0., 0., 0.],\n",
       "         [0., 0., 0., 0., 0.],\n",
       "         [0., 0., 0., 0., 0.]],\n",
       "\n",
       "        [[0., 0., 0., 0., 0.],\n",
       "         [0., 0., 0., 0., 0.],\n",
       "         [0., 0., 0., 0., 0.],\n",
       "         [0., 0., 0., 0., 0.]],\n",
       "\n",
       "        [[0., 0., 0., 0., 0.],\n",
       "         [0., 0., 0., 0., 0.],\n",
       "         [0., 0., 0., 0., 0.],\n",
       "         [0., 0., 0., 0., 0.]]]], dtype=float32)>"
      ]
     },
     "execution_count": 22,
     "metadata": {},
     "output_type": "execute_result"
    }
   ],
   "source": [
    "rank_4_tensor = tf.zeros(shape=[2,3,4,5])\n",
    "rank_4_tensor"
   ]
  },
  {
   "cell_type": "code",
   "execution_count": 23,
   "metadata": {},
   "outputs": [
    {
     "data": {
      "text/plain": [
       "120"
      ]
     },
     "execution_count": 23,
     "metadata": {},
     "output_type": "execute_result"
    }
   ],
   "source": [
    "2*3*4*5"
   ]
  },
  {
   "cell_type": "code",
   "execution_count": 24,
   "metadata": {},
   "outputs": [
    {
     "data": {
      "text/plain": [
       "(tf.float32, 4, TensorShape([2, 3, 4, 5]), 2, 5, 120)"
      ]
     },
     "execution_count": 24,
     "metadata": {},
     "output_type": "execute_result"
    }
   ],
   "source": [
    "rank_4_tensor.dtype, rank_4_tensor.ndim, rank_4_tensor.shape, rank_4_tensor.shape[0], rank_4_tensor.shape[-1], tf.size(rank_4_tensor).numpy()"
   ]
  },
  {
   "cell_type": "code",
   "execution_count": 25,
   "metadata": {},
   "outputs": [
    {
     "data": {
      "text/plain": [
       "<tf.Tensor: shape=(2, 2, 2, 2), dtype=float32, numpy=\n",
       "array([[[[0., 0.],\n",
       "         [0., 0.]],\n",
       "\n",
       "        [[0., 0.],\n",
       "         [0., 0.]]],\n",
       "\n",
       "\n",
       "       [[[0., 0.],\n",
       "         [0., 0.]],\n",
       "\n",
       "        [[0., 0.],\n",
       "         [0., 0.]]]], dtype=float32)>"
      ]
     },
     "execution_count": 25,
     "metadata": {},
     "output_type": "execute_result"
    }
   ],
   "source": [
    "rank_4_tensor[:2, :2, :2, :2]"
   ]
  },
  {
   "cell_type": "code",
   "execution_count": 26,
   "metadata": {},
   "outputs": [
    {
     "data": {
      "text/plain": [
       "(TensorShape([2, 2]), 2)"
      ]
     },
     "execution_count": 26,
     "metadata": {},
     "output_type": "execute_result"
    }
   ],
   "source": [
    "rank_2_tensor = tf.constant([[10,7],\n",
    "                             [3,4]])\n",
    "\n",
    "rank_2_tensor.shape, rank_2_tensor.ndim"
   ]
  },
  {
   "cell_type": "code",
   "execution_count": 27,
   "metadata": {},
   "outputs": [
    {
     "data": {
      "text/plain": [
       "<tf.Tensor: shape=(2, 2), dtype=int32, numpy=\n",
       "array([[10,  7],\n",
       "       [ 3,  4]], dtype=int32)>"
      ]
     },
     "execution_count": 27,
     "metadata": {},
     "output_type": "execute_result"
    }
   ],
   "source": [
    "rank_2_tensor"
   ]
  },
  {
   "cell_type": "code",
   "execution_count": 28,
   "metadata": {},
   "outputs": [
    {
     "data": {
      "text/plain": [
       "<tf.Tensor: shape=(2,), dtype=int32, numpy=array([7, 4], dtype=int32)>"
      ]
     },
     "execution_count": 28,
     "metadata": {},
     "output_type": "execute_result"
    }
   ],
   "source": [
    "rank_2_tensor[:,-1]"
   ]
  },
  {
   "cell_type": "code",
   "execution_count": 29,
   "metadata": {},
   "outputs": [
    {
     "data": {
      "text/plain": [
       "<tf.Tensor: shape=(2, 2), dtype=int32, numpy=\n",
       "array([[10,  7],\n",
       "       [ 3,  4]], dtype=int32)>"
      ]
     },
     "execution_count": 29,
     "metadata": {},
     "output_type": "execute_result"
    }
   ],
   "source": [
    "tensor = tf.constant([[10,7],\n",
    "                      [3,4]])\n",
    "tensor"
   ]
  },
  {
   "cell_type": "code",
   "execution_count": 30,
   "metadata": {},
   "outputs": [
    {
     "data": {
      "text/plain": [
       "<tf.Tensor: shape=(2, 2), dtype=int32, numpy=\n",
       "array([[20, 17],\n",
       "       [13, 14]], dtype=int32)>"
      ]
     },
     "execution_count": 30,
     "metadata": {},
     "output_type": "execute_result"
    }
   ],
   "source": [
    "tensor + 10"
   ]
  },
  {
   "cell_type": "code",
   "execution_count": 31,
   "metadata": {},
   "outputs": [
    {
     "data": {
      "text/plain": [
       "(<tf.Tensor: shape=(2, 2), dtype=int32, numpy=\n",
       " array([[100,  70],\n",
       "        [ 30,  40]], dtype=int32)>,\n",
       " <tf.Tensor: shape=(2, 2), dtype=int32, numpy=\n",
       " array([[100,  70],\n",
       "        [ 30,  40]], dtype=int32)>)"
      ]
     },
     "execution_count": 31,
     "metadata": {},
     "output_type": "execute_result"
    }
   ],
   "source": [
    "tensor * 10, tf.multiply(tensor,10)"
   ]
  },
  {
   "cell_type": "code",
   "execution_count": 32,
   "metadata": {},
   "outputs": [
    {
     "data": {
      "text/plain": [
       "(<tf.Tensor: shape=(2, 2), dtype=int32, numpy=\n",
       " array([[ 0, -3],\n",
       "        [-7, -6]], dtype=int32)>,\n",
       " <tf.Tensor: shape=(2, 2), dtype=int32, numpy=\n",
       " array([[ 0, -3],\n",
       "        [-7, -6]], dtype=int32)>)"
      ]
     },
     "execution_count": 32,
     "metadata": {},
     "output_type": "execute_result"
    }
   ],
   "source": [
    "tensor - 10, tf.add(tensor, -10)"
   ]
  },
  {
   "cell_type": "code",
   "execution_count": 33,
   "metadata": {},
   "outputs": [
    {
     "data": {
      "text/plain": [
       "(<tf.Tensor: shape=(2, 2), dtype=float64, numpy=\n",
       " array([[5. , 3.5],\n",
       "        [1.5, 2. ]])>,\n",
       " <tf.Tensor: shape=(2, 2), dtype=float64, numpy=\n",
       " array([[5. , 3.5],\n",
       "        [1.5, 2. ]])>)"
      ]
     },
     "execution_count": 33,
     "metadata": {},
     "output_type": "execute_result"
    }
   ],
   "source": [
    "tensor / 2, tf.divide(tensor, 2)"
   ]
  },
  {
   "cell_type": "code",
   "execution_count": 34,
   "metadata": {},
   "outputs": [
    {
     "data": {
      "text/plain": [
       "<tf.Tensor: shape=(2, 2), dtype=int32, numpy=\n",
       "array([[121,  98],\n",
       "       [ 42,  37]], dtype=int32)>"
      ]
     },
     "execution_count": 34,
     "metadata": {},
     "output_type": "execute_result"
    }
   ],
   "source": [
    "tf.matmul(tensor, tensor)"
   ]
  },
  {
   "cell_type": "code",
   "execution_count": 35,
   "metadata": {},
   "outputs": [
    {
     "data": {
      "text/plain": [
       "<tf.Tensor: shape=(2, 2), dtype=int32, numpy=\n",
       "array([[100,  49],\n",
       "       [  9,  16]], dtype=int32)>"
      ]
     },
     "execution_count": 35,
     "metadata": {},
     "output_type": "execute_result"
    }
   ],
   "source": [
    "tensor*tensor"
   ]
  },
  {
   "cell_type": "code",
   "execution_count": 36,
   "metadata": {},
   "outputs": [
    {
     "data": {
      "text/plain": [
       "<tf.Tensor: shape=(3, 2), dtype=int32, numpy=\n",
       "array([[20, 59],\n",
       "       [34, 57],\n",
       "       [30, 60]], dtype=int32)>"
      ]
     },
     "execution_count": 36,
     "metadata": {},
     "output_type": "execute_result"
    }
   ],
   "source": [
    "A1 = tf.constant([[1,2,5],\n",
    "                  [7,2,1],\n",
    "                  [3,3,3]])\n",
    "A2 = tf.constant([[3,5],\n",
    "                  [6,7],\n",
    "                  [1,8]])\n",
    "\n",
    "tf.matmul(A1,A2)"
   ]
  },
  {
   "cell_type": "code",
   "execution_count": 37,
   "metadata": {},
   "outputs": [
    {
     "data": {
      "text/plain": [
       "<tf.Tensor: shape=(3, 2), dtype=int32, numpy=\n",
       "array([[20, 59],\n",
       "       [34, 57],\n",
       "       [30, 60]], dtype=int32)>"
      ]
     },
     "execution_count": 37,
     "metadata": {},
     "output_type": "execute_result"
    }
   ],
   "source": [
    "A1 @ A2"
   ]
  },
  {
   "cell_type": "code",
   "execution_count": 38,
   "metadata": {},
   "outputs": [
    {
     "data": {
      "text/plain": [
       "tf.float32"
      ]
     },
     "execution_count": 38,
     "metadata": {},
     "output_type": "execute_result"
    }
   ],
   "source": [
    "B = tf.constant([1,2.])\n",
    "B.dtype"
   ]
  },
  {
   "cell_type": "code",
   "execution_count": 39,
   "metadata": {},
   "outputs": [
    {
     "data": {
      "text/plain": [
       "tf.int32"
      ]
     },
     "execution_count": 39,
     "metadata": {},
     "output_type": "execute_result"
    }
   ],
   "source": [
    "C = tf.constant([1,2])\n",
    "C.dtype"
   ]
  },
  {
   "cell_type": "code",
   "execution_count": 40,
   "metadata": {},
   "outputs": [
    {
     "data": {
      "text/plain": [
       "<tf.Tensor: shape=(2,), dtype=float16, numpy=array([1., 2.], dtype=float16)>"
      ]
     },
     "execution_count": 40,
     "metadata": {},
     "output_type": "execute_result"
    }
   ],
   "source": [
    "D = tf.cast(B, dtype=tf.float16)\n",
    "D\n"
   ]
  },
  {
   "cell_type": "code",
   "execution_count": 41,
   "metadata": {},
   "outputs": [
    {
     "data": {
      "text/plain": [
       "<tf.Tensor: shape=(2,), dtype=int32, numpy=array([ -7, -10], dtype=int32)>"
      ]
     },
     "execution_count": 41,
     "metadata": {},
     "output_type": "execute_result"
    }
   ],
   "source": [
    "D = tf.constant([-7,-10])\n",
    "D"
   ]
  },
  {
   "cell_type": "code",
   "execution_count": 42,
   "metadata": {},
   "outputs": [
    {
     "data": {
      "text/plain": [
       "<tf.Tensor: shape=(2,), dtype=int32, numpy=array([ 7, 10], dtype=int32)>"
      ]
     },
     "execution_count": 42,
     "metadata": {},
     "output_type": "execute_result"
    }
   ],
   "source": [
    "tf.abs(D)"
   ]
  },
  {
   "cell_type": "code",
   "execution_count": 43,
   "metadata": {},
   "outputs": [
    {
     "data": {
      "text/plain": [
       "<tf.Tensor: shape=(50,), dtype=int64, numpy=\n",
       "array([65, 23, 45, 29, 82, 59, 46, 60, 77, 22, 45, 21, 83, 73, 66, 97, 99,\n",
       "       89, 86, 59, 50, 33, 59, 41, 30, 23, 24, 69, 48, 38, 23, 61, 11, 66,\n",
       "       88, 88, 55, 81, 88, 42, 13, 20, 11, 82, 40,  6, 52, 55, 28, 70])>"
      ]
     },
     "execution_count": 43,
     "metadata": {},
     "output_type": "execute_result"
    }
   ],
   "source": [
    "E = tf.constant(np.random.randint(0,100, 50))\n",
    "E"
   ]
  },
  {
   "cell_type": "code",
   "execution_count": 44,
   "metadata": {},
   "outputs": [
    {
     "data": {
      "text/plain": [
       "(<tf.Tensor: shape=(), dtype=int32, numpy=50>, TensorShape([50]), 1)"
      ]
     },
     "execution_count": 44,
     "metadata": {},
     "output_type": "execute_result"
    }
   ],
   "source": [
    "tf.size(E), E.shape, E.ndim"
   ]
  },
  {
   "cell_type": "code",
   "execution_count": 45,
   "metadata": {},
   "outputs": [
    {
     "data": {
      "text/plain": [
       "<tf.Tensor: shape=(), dtype=int64, numpy=6>"
      ]
     },
     "execution_count": 45,
     "metadata": {},
     "output_type": "execute_result"
    }
   ],
   "source": [
    "tf.reduce_min(E)"
   ]
  },
  {
   "cell_type": "code",
   "execution_count": 46,
   "metadata": {},
   "outputs": [
    {
     "data": {
      "text/plain": [
       "<tf.Tensor: shape=(), dtype=int64, numpy=99>"
      ]
     },
     "execution_count": 46,
     "metadata": {},
     "output_type": "execute_result"
    }
   ],
   "source": [
    "tf.reduce_max(E)"
   ]
  },
  {
   "cell_type": "code",
   "execution_count": 47,
   "metadata": {},
   "outputs": [
    {
     "data": {
      "text/plain": [
       "<tf.Tensor: shape=(), dtype=int64, numpy=52>"
      ]
     },
     "execution_count": 47,
     "metadata": {},
     "output_type": "execute_result"
    }
   ],
   "source": [
    "tf.reduce_mean(E)"
   ]
  },
  {
   "cell_type": "code",
   "execution_count": 48,
   "metadata": {},
   "outputs": [
    {
     "data": {
      "text/plain": [
       "<tf.Tensor: shape=(), dtype=int64, numpy=2621>"
      ]
     },
     "execution_count": 48,
     "metadata": {},
     "output_type": "execute_result"
    }
   ],
   "source": [
    "tf.reduce_sum(E)"
   ]
  },
  {
   "cell_type": "code",
   "execution_count": 49,
   "metadata": {},
   "outputs": [
    {
     "data": {
      "text/plain": [
       "<tf.Tensor: shape=(), dtype=float32, numpy=25.55237>"
      ]
     },
     "execution_count": 49,
     "metadata": {},
     "output_type": "execute_result"
    }
   ],
   "source": [
    "tf.math.reduce_std(tf.cast(E, dtype=tf.float32))"
   ]
  },
  {
   "cell_type": "code",
   "execution_count": 50,
   "metadata": {},
   "outputs": [
    {
     "data": {
      "text/plain": [
       "<tf.Tensor: shape=(), dtype=float32, numpy=652.92365>"
      ]
     },
     "execution_count": 50,
     "metadata": {},
     "output_type": "execute_result"
    }
   ],
   "source": [
    "tf.math.reduce_variance(tf.cast(E, dtype=tf.float32))"
   ]
  },
  {
   "cell_type": "code",
   "execution_count": 51,
   "metadata": {},
   "outputs": [
    {
     "data": {
      "text/plain": [
       "<tf.Tensor: shape=(50,), dtype=float32, numpy=\n",
       "array([0.98645246, 0.8026147 , 0.64379585, 0.21752036, 0.6740328 ,\n",
       "       0.00151932, 0.5686053 , 0.52925825, 0.6132442 , 0.5054766 ,\n",
       "       0.13308132, 0.15047216, 0.8923489 , 0.51807535, 0.5251982 ,\n",
       "       0.8541939 , 0.1853615 , 0.42185533, 0.01468289, 0.36963916,\n",
       "       0.12192273, 0.5273558 , 0.08718944, 0.4706111 , 0.10413957,\n",
       "       0.14090407, 0.6771283 , 0.6251068 , 0.6361271 , 0.27575195,\n",
       "       0.8070278 , 0.37056112, 0.7410917 , 0.35795522, 0.8933526 ,\n",
       "       0.08088481, 0.37904084, 0.7118317 , 0.14265645, 0.47555637,\n",
       "       0.4648627 , 0.12672663, 0.16358864, 0.21623194, 0.2687949 ,\n",
       "       0.3474629 , 0.7245122 , 0.06202805, 0.80787516, 0.52376616],\n",
       "      dtype=float32)>"
      ]
     },
     "execution_count": 51,
     "metadata": {},
     "output_type": "execute_result"
    }
   ],
   "source": [
    "F = tf.random.uniform([50])\n",
    "F"
   ]
  },
  {
   "cell_type": "code",
   "execution_count": 52,
   "metadata": {},
   "outputs": [
    {
     "data": {
      "text/plain": [
       "<tf.Tensor: shape=(), dtype=int64, numpy=0>"
      ]
     },
     "execution_count": 52,
     "metadata": {},
     "output_type": "execute_result"
    }
   ],
   "source": [
    "tf.argmax(F) # index"
   ]
  },
  {
   "cell_type": "code",
   "execution_count": 53,
   "metadata": {},
   "outputs": [
    {
     "data": {
      "text/plain": [
       "<tf.Tensor: shape=(), dtype=float32, numpy=0.98645246>"
      ]
     },
     "execution_count": 53,
     "metadata": {},
     "output_type": "execute_result"
    }
   ],
   "source": [
    "F[tf.argmax(F)]"
   ]
  },
  {
   "cell_type": "code",
   "execution_count": 54,
   "metadata": {},
   "outputs": [
    {
     "data": {
      "text/plain": [
       "<tf.Tensor: shape=(), dtype=int64, numpy=5>"
      ]
     },
     "execution_count": 54,
     "metadata": {},
     "output_type": "execute_result"
    }
   ],
   "source": [
    "tf.argmin(F)"
   ]
  },
  {
   "cell_type": "code",
   "execution_count": 55,
   "metadata": {},
   "outputs": [
    {
     "data": {
      "text/plain": [
       "<tf.Tensor: shape=(), dtype=float32, numpy=0.0015193224>"
      ]
     },
     "execution_count": 55,
     "metadata": {},
     "output_type": "execute_result"
    }
   ],
   "source": [
    "F[tf.argmin(F)]"
   ]
  },
  {
   "cell_type": "code",
   "execution_count": 56,
   "metadata": {},
   "outputs": [
    {
     "data": {
      "text/plain": [
       "<tf.Tensor: shape=(1, 1, 1, 1, 50), dtype=float32, numpy=\n",
       "array([[[[[0.15179396, 0.8135382 , 0.08904672, 0.28517175, 0.27960074,\n",
       "           0.34819186, 0.5262877 , 0.01897049, 0.86589944, 0.54211926,\n",
       "           0.67142546, 0.8470634 , 0.82842004, 0.6417284 , 0.27203608,\n",
       "           0.21322477, 0.67729115, 0.02318716, 0.6502588 , 0.03439617,\n",
       "           0.61747503, 0.29355526, 0.06538796, 0.268569  , 0.66610456,\n",
       "           0.03512299, 0.11866367, 0.00933385, 0.51478744, 0.8327353 ,\n",
       "           0.69288945, 0.7871262 , 0.85071766, 0.5578188 , 0.7801784 ,\n",
       "           0.15803897, 0.2555821 , 0.33972943, 0.90536726, 0.88021874,\n",
       "           0.42193484, 0.15937638, 0.35667408, 0.88703465, 0.2715006 ,\n",
       "           0.9435257 , 0.25470722, 0.5150883 , 0.946069  , 0.1300416 ]]]]],\n",
       "      dtype=float32)>"
      ]
     },
     "execution_count": 56,
     "metadata": {},
     "output_type": "execute_result"
    }
   ],
   "source": [
    "G = tf.constant(tf.random.uniform([50]), shape=(1,1,1,1,50))\n",
    "G"
   ]
  },
  {
   "cell_type": "code",
   "execution_count": 57,
   "metadata": {},
   "outputs": [
    {
     "data": {
      "text/plain": [
       "<tf.Tensor: shape=(50,), dtype=float32, numpy=\n",
       "array([0.15179396, 0.8135382 , 0.08904672, 0.28517175, 0.27960074,\n",
       "       0.34819186, 0.5262877 , 0.01897049, 0.86589944, 0.54211926,\n",
       "       0.67142546, 0.8470634 , 0.82842004, 0.6417284 , 0.27203608,\n",
       "       0.21322477, 0.67729115, 0.02318716, 0.6502588 , 0.03439617,\n",
       "       0.61747503, 0.29355526, 0.06538796, 0.268569  , 0.66610456,\n",
       "       0.03512299, 0.11866367, 0.00933385, 0.51478744, 0.8327353 ,\n",
       "       0.69288945, 0.7871262 , 0.85071766, 0.5578188 , 0.7801784 ,\n",
       "       0.15803897, 0.2555821 , 0.33972943, 0.90536726, 0.88021874,\n",
       "       0.42193484, 0.15937638, 0.35667408, 0.88703465, 0.2715006 ,\n",
       "       0.9435257 , 0.25470722, 0.5150883 , 0.946069  , 0.1300416 ],\n",
       "      dtype=float32)>"
      ]
     },
     "execution_count": 57,
     "metadata": {},
     "output_type": "execute_result"
    }
   ],
   "source": [
    "G_squeezed = tf.squeeze(G)\n",
    "G_squeezed"
   ]
  },
  {
   "cell_type": "code",
   "execution_count": 58,
   "metadata": {},
   "outputs": [
    {
     "data": {
      "text/plain": [
       "<tf.Tensor: shape=(4, 4), dtype=float32, numpy=\n",
       "array([[1., 0., 0., 0.],\n",
       "       [0., 1., 0., 0.],\n",
       "       [0., 0., 1., 0.],\n",
       "       [0., 0., 0., 1.]], dtype=float32)>"
      ]
     },
     "execution_count": 58,
     "metadata": {},
     "output_type": "execute_result"
    }
   ],
   "source": [
    "some_list = [0,1,2,3]\n",
    "\n",
    "tf.one_hot(some_list, depth=4)"
   ]
  },
  {
   "cell_type": "code",
   "execution_count": 60,
   "metadata": {},
   "outputs": [
    {
     "data": {
      "text/plain": [
       "[PhysicalDevice(name='/physical_device:CPU:0', device_type='CPU')]"
      ]
     },
     "execution_count": 60,
     "metadata": {},
     "output_type": "execute_result"
    }
   ],
   "source": [
    "tf.config.list_physical_devices()"
   ]
  },
  {
   "attachments": {},
   "cell_type": "markdown",
   "metadata": {},
   "source": [
    "## Exercises"
   ]
  },
  {
   "cell_type": "code",
   "execution_count": 71,
   "metadata": {},
   "outputs": [
    {
     "data": {
      "text/plain": [
       "(<tf.Tensor: shape=(), dtype=int32, numpy=1>,\n",
       " <tf.Tensor: shape=(2,), dtype=int32, numpy=array([1, 2], dtype=int32)>,\n",
       " <tf.Tensor: shape=(2, 2), dtype=int32, numpy=\n",
       " array([[1, 2],\n",
       "        [3, 4]], dtype=int32)>,\n",
       " <tf.Tensor: shape=(1, 1, 3), dtype=int32, numpy=array([[[1, 2, 3]]], dtype=int32)>)"
      ]
     },
     "execution_count": 71,
     "metadata": {},
     "output_type": "execute_result"
    }
   ],
   "source": [
    "# 1\n",
    "x = tf.constant(1)\n",
    "y = tf.constant([1,2])\n",
    "A = tf.constant([[1,2],\n",
    "                 [3,4]])\n",
    "B = tf.constant([[[1,2,3]]])\n",
    "x,y,A,B"
   ]
  },
  {
   "cell_type": "code",
   "execution_count": 73,
   "metadata": {},
   "outputs": [
    {
     "data": {
      "text/plain": [
       "(<tf.Tensor: shape=(5, 300), dtype=float32, numpy=\n",
       " array([[0.16335738, 0.59199536, 0.8516946 , ..., 0.85067093, 0.52638686,\n",
       "         0.9038192 ],\n",
       "        [0.11971354, 0.12814689, 0.64742184, ..., 0.5904455 , 0.46501172,\n",
       "         0.09895682],\n",
       "        [0.7709359 , 0.74733305, 0.5088414 , ..., 0.977051  , 0.16843009,\n",
       "         0.33530986],\n",
       "        [0.8251699 , 0.15559328, 0.8796953 , ..., 0.9915842 , 0.23578787,\n",
       "         0.2807263 ],\n",
       "        [0.24246311, 0.21274722, 0.5286895 , ..., 0.753791  , 0.998762  ,\n",
       "         0.70588946]], dtype=float32)>,\n",
       " <tf.Tensor: shape=(5, 300), dtype=float32, numpy=\n",
       " array([[0.4055146 , 0.18717372, 0.0299654 , ..., 0.8768023 , 0.23256636,\n",
       "         0.44992995],\n",
       "        [0.10217452, 0.63725793, 0.3645202 , ..., 0.25892115, 0.8977351 ,\n",
       "         0.48402047],\n",
       "        [0.29817402, 0.92908704, 0.7023208 , ..., 0.25434732, 0.61014795,\n",
       "         0.4036157 ],\n",
       "        [0.9423368 , 0.9995794 , 0.2402699 , ..., 0.14439964, 0.23052621,\n",
       "         0.30144286],\n",
       "        [0.5247315 , 0.60775113, 0.72084415, ..., 0.43382633, 0.09605467,\n",
       "         0.60863626]], dtype=float32)>)"
      ]
     },
     "execution_count": 73,
     "metadata": {},
     "output_type": "execute_result"
    }
   ],
   "source": [
    "# 3\n",
    "A = tf.random.uniform(shape=(5,300))\n",
    "B = tf.random.uniform(shape=(5,300))\n",
    "A,B"
   ]
  },
  {
   "cell_type": "code",
   "execution_count": 75,
   "metadata": {},
   "outputs": [
    {
     "data": {
      "text/plain": [
       "<tf.Tensor: shape=(5, 5), dtype=float32, numpy=\n",
       "array([[72.20682 , 78.060074, 69.86621 , 74.794876, 78.29824 ],\n",
       "       [72.26962 , 79.53987 , 69.57124 , 72.64743 , 73.74693 ],\n",
       "       [74.84293 , 79.62022 , 72.364075, 78.06177 , 82.997116],\n",
       "       [77.65066 , 79.353745, 74.18196 , 78.223885, 78.43384 ],\n",
       "       [75.9274  , 78.55144 , 75.89819 , 78.51947 , 78.20623 ]],\n",
       "      dtype=float32)>"
      ]
     },
     "execution_count": 75,
     "metadata": {},
     "output_type": "execute_result"
    }
   ],
   "source": [
    "# 4\n",
    "tf.matmul(A,tf.transpose(B))"
   ]
  },
  {
   "cell_type": "code",
   "execution_count": 81,
   "metadata": {},
   "outputs": [
    {
     "data": {
      "text/plain": [
       "<tf.Tensor: shape=(5, 300, 5, 300), dtype=float32, numpy=\n",
       "array([[[[0.02668563, 0.09670681, 0.13913059, ..., 0.13896337,\n",
       "          0.08598918, 0.14764553],\n",
       "         [0.01955609, 0.02093374, 0.10576113, ..., 0.09645363,\n",
       "          0.07596309, 0.01616533],\n",
       "         [0.12593807, 0.12208237, 0.083123  , ..., 0.1596085 ,\n",
       "          0.0275143 , 0.05477534],\n",
       "         [0.13479759, 0.02541731, 0.14370471, ..., 0.1619826 ,\n",
       "          0.03851769, 0.04585871],\n",
       "         [0.03960814, 0.03475383, 0.08636533, ..., 0.12313732,\n",
       "          0.16315514, 0.11531225]],\n",
       "\n",
       "        [[0.09670681, 0.3504585 , 0.50419927, ..., 0.50359327,\n",
       "          0.31161857, 0.53505677],\n",
       "         [0.07086986, 0.07586236, 0.3832707 , ..., 0.349541  ,\n",
       "          0.27528477, 0.05858198],\n",
       "         [0.45639047, 0.4424177 , 0.30123174, ..., 0.5784097 ,\n",
       "          0.09970983, 0.19850188],\n",
       "         [0.48849675, 0.0921105 , 0.52077556, ..., 0.58701324,\n",
       "          0.13958533, 0.16618867],\n",
       "         [0.14353703, 0.12594536, 0.31298172, ..., 0.44624075,\n",
       "          0.59126246, 0.41788328]],\n",
       "\n",
       "        [[0.13913059, 0.50419927, 0.72538364, ..., 0.7245118 ,\n",
       "          0.44832084, 0.7697779 ],\n",
       "         [0.10195938, 0.10914201, 0.55140567, ..., 0.50287926,\n",
       "          0.39604795, 0.08428099],\n",
       "         [0.6566019 , 0.6364995 , 0.43337747, ..., 0.8321491 ,\n",
       "          0.14345099, 0.2855816 ],\n",
       "         [0.70279276, 0.13251795, 0.7492317 , ..., 0.8445269 ,\n",
       "          0.20081925, 0.23909308],\n",
       "         [0.20650452, 0.18119565, 0.45028198, ..., 0.64199966,\n",
       "          0.8506402 , 0.60120225]],\n",
       "\n",
       "        ...,\n",
       "\n",
       "        [[0.13896337, 0.50359327, 0.7245118 , ..., 0.72364104,\n",
       "          0.447782  , 0.7688527 ],\n",
       "         [0.10183683, 0.10901083, 0.5507429 , ..., 0.5022748 ,\n",
       "          0.39557195, 0.08417969],\n",
       "         [0.65581274, 0.6357345 , 0.4328566 , ..., 0.8311489 ,\n",
       "          0.14327858, 0.28523836],\n",
       "         [0.70194805, 0.13235867, 0.74833125, ..., 0.8435118 ,\n",
       "          0.20057788, 0.23880571],\n",
       "         [0.20625632, 0.18097787, 0.4497408 , ..., 0.6412281 ,\n",
       "          0.84961784, 0.60047966]],\n",
       "\n",
       "        [[0.08598918, 0.31161857, 0.44832084, ..., 0.447782  ,\n",
       "          0.27708313, 0.47575855],\n",
       "         [0.06301564, 0.06745484, 0.34079435, ..., 0.31080276,\n",
       "          0.24477606, 0.05208957],\n",
       "         [0.40581053, 0.3933863 , 0.26784742, ..., 0.51430684,\n",
       "          0.08865938, 0.1765027 ],\n",
       "         [0.4343586 , 0.08190226, 0.46306005, ..., 0.52195686,\n",
       "          0.12411564, 0.14777064],\n",
       "         [0.1276294 , 0.11198734, 0.27829522, ..., 0.39678568,\n",
       "          0.5257352 , 0.37157094]],\n",
       "\n",
       "        [[0.14764553, 0.53505677, 0.7697779 , ..., 0.7688527 ,\n",
       "          0.47575855, 0.81688917],\n",
       "         [0.1081994 , 0.11582161, 0.58515227, ..., 0.533656  ,\n",
       "          0.4202865 , 0.08943908],\n",
       "         [0.69678664, 0.67545396, 0.45990062, ..., 0.8830775 ,\n",
       "          0.15223035, 0.3030595 ],\n",
       "         [0.7458044 , 0.14062819, 0.7950855 , ..., 0.8962128 ,\n",
       "          0.2131096 , 0.25372583],\n",
       "         [0.21914281, 0.19228502, 0.47783974, ..., 0.68129075,\n",
       "          0.9027003 , 0.63799644]]],\n",
       "\n",
       "\n",
       "       [[[0.01955609, 0.07086986, 0.10195938, ..., 0.10183683,\n",
       "          0.06301564, 0.1081994 ],\n",
       "         [0.01433133, 0.01534092, 0.07750516, ..., 0.07068433,\n",
       "          0.0556682 , 0.01184647],\n",
       "         [0.09229147, 0.08946589, 0.06091521, ..., 0.11696624,\n",
       "          0.02016336, 0.04014113],\n",
       "         [0.09878401, 0.01862662, 0.10531145, ..., 0.11870605,\n",
       "          0.028227  , 0.03360674],\n",
       "         [0.02902612, 0.02546872, 0.0632913 , ..., 0.09023899,\n",
       "          0.11956534, 0.08450453]],\n",
       "\n",
       "        [[0.02093374, 0.07586236, 0.10914201, ..., 0.10901083,\n",
       "          0.06745484, 0.11582161],\n",
       "         [0.01534092, 0.01642163, 0.08296509, ..., 0.07566375,\n",
       "          0.0595898 , 0.01268101],\n",
       "         [0.09879304, 0.09576841, 0.06520644, ..., 0.12520605,\n",
       "          0.02158379, 0.04296891],\n",
       "         [0.10574295, 0.01993879, 0.11273021, ..., 0.12706843,\n",
       "          0.03021548, 0.0359742 ],\n",
       "         [0.03107089, 0.02726289, 0.06774992, ..., 0.09659597,\n",
       "          0.12798825, 0.09045754]],\n",
       "\n",
       "        [[0.10576113, 0.3832707 , 0.55140567, ..., 0.5507429 ,\n",
       "          0.34079435, 0.58515227],\n",
       "         [0.07750516, 0.08296509, 0.41915503, ..., 0.38226733,\n",
       "          0.30105874, 0.0640668 ],\n",
       "         [0.49912074, 0.48383975, 0.32943502, ..., 0.6325642 ,\n",
       "          0.10904532, 0.21708693],\n",
       "         [0.53423303, 0.10073449, 0.56953394, ..., 0.64197326,\n",
       "          0.15265422, 0.18174835],\n",
       "         [0.15697591, 0.1377372 , 0.34228513, ..., 0.48802075,\n",
       "          0.64662033, 0.45700824]],\n",
       "\n",
       "        ...,\n",
       "\n",
       "        [[0.09645363, 0.349541  , 0.50287926, ..., 0.5022748 ,\n",
       "          0.31080276, 0.533656  ],\n",
       "         [0.07068433, 0.07566375, 0.38226733, ..., 0.3486259 ,\n",
       "          0.2745641 , 0.05842861],\n",
       "         [0.45519564, 0.44125944, 0.3004431 , ..., 0.5768954 ,\n",
       "          0.09944879, 0.1979822 ],\n",
       "         [0.48721787, 0.09186935, 0.51941216, ..., 0.58547646,\n",
       "          0.1392199 , 0.16575359],\n",
       "         [0.14316125, 0.12561564, 0.31216234, ..., 0.4450725 ,\n",
       "          0.5897145 , 0.41678926]],\n",
       "\n",
       "        [[0.07596309, 0.27528477, 0.39604795, ..., 0.39557195,\n",
       "          0.24477606, 0.4202865 ],\n",
       "         [0.0556682 , 0.0595898 , 0.30105874, ..., 0.2745641 ,\n",
       "          0.21623589, 0.04601608],\n",
       "         [0.35849422, 0.34751862, 0.23661721, ..., 0.45434016,\n",
       "          0.07832196, 0.15592301],\n",
       "         [0.3837137 , 0.0723527 , 0.4090686 , ..., 0.46109825,\n",
       "          0.10964412, 0.13054103],\n",
       "         [0.11274819, 0.09892995, 0.24584681, ..., 0.35052162,\n",
       "          0.46443602, 0.32824686]],\n",
       "\n",
       "        [[0.01616533, 0.05858198, 0.08428099, ..., 0.08417969,\n",
       "          0.05208957, 0.08943908],\n",
       "         [0.01184647, 0.01268101, 0.0640668 , ..., 0.05842861,\n",
       "          0.04601608, 0.00979245],\n",
       "         [0.07628937, 0.0739537 , 0.05035333, ..., 0.09668586,\n",
       "          0.01666731, 0.0331812 ],\n",
       "         [0.0816562 , 0.01539702, 0.08705185, ..., 0.09812402,\n",
       "          0.02333282, 0.02777978],\n",
       "         [0.02399338, 0.02105279, 0.05231743, ..., 0.07459276,\n",
       "          0.09883431, 0.06985258]]],\n",
       "\n",
       "\n",
       "       [[[0.12593807, 0.45639047, 0.6566019 , ..., 0.65581274,\n",
       "          0.40581053, 0.69678664],\n",
       "         [0.09229147, 0.09879304, 0.49912074, ..., 0.45519564,\n",
       "          0.35849422, 0.07628937],\n",
       "         [0.5943422 , 0.5761459 , 0.3922841 , ..., 0.7532437 ,\n",
       "          0.12984881, 0.2585024 ],\n",
       "         [0.6361531 , 0.11995244, 0.6781887 , ..., 0.7644478 ,\n",
       "          0.18177733, 0.21642199],\n",
       "         [0.18692352, 0.16401446, 0.4075857 , ..., 0.58112454,\n",
       "          0.7699815 , 0.54419553]],\n",
       "\n",
       "        [[0.12208237, 0.4424177 , 0.6364995 , ..., 0.6357345 ,\n",
       "          0.3933863 , 0.67545396],\n",
       "         [0.08946589, 0.09576841, 0.48383975, ..., 0.44125944,\n",
       "          0.34751862, 0.0739537 ],\n",
       "         [0.5761459 , 0.55850667, 0.380274  , ..., 0.7301825 ,\n",
       "          0.12587337, 0.25058815],\n",
       "         [0.61667675, 0.11628   , 0.65742534, ..., 0.7410436 ,\n",
       "          0.17621207, 0.20979606],\n",
       "         [0.1812007 , 0.15899302, 0.39510715, ..., 0.5633329 ,\n",
       "          0.74640787, 0.52753454]],\n",
       "\n",
       "        [[0.083123  , 0.30123174, 0.43337747, ..., 0.4328566 ,\n",
       "          0.26784742, 0.45990062],\n",
       "         [0.06091521, 0.06520644, 0.32943502, ..., 0.3004431 ,\n",
       "          0.23661721, 0.05035333],\n",
       "         [0.3922841 , 0.380274  , 0.25891957, ..., 0.497164  ,\n",
       "          0.0857042 , 0.17061953],\n",
       "         [0.41988063, 0.0791723 , 0.44762537, ..., 0.5045591 ,\n",
       "          0.11997863, 0.14284517],\n",
       "         [0.12337527, 0.10825459, 0.2690191 , ..., 0.38356006,\n",
       "          0.50821143, 0.35918579]],\n",
       "\n",
       "        ...,\n",
       "\n",
       "        [[0.1596085 , 0.5784097 , 0.8321491 , ..., 0.8311489 ,\n",
       "          0.51430684, 0.8830775 ],\n",
       "         [0.11696624, 0.12520605, 0.6325642 , ..., 0.5768954 ,\n",
       "          0.45434016, 0.09668586],\n",
       "         [0.7532437 , 0.7301825 , 0.497164  , ..., 0.9546287 ,\n",
       "          0.16456479, 0.32761484],\n",
       "         [0.8062331 , 0.15202257, 0.8595072 , ..., 0.9688283 ,\n",
       "          0.23037678, 0.27428395],\n",
       "         [0.23689882, 0.20786488, 0.5165566 , ..., 0.7364922 ,\n",
       "          0.97584146, 0.68969   ]],\n",
       "\n",
       "        [[0.0275143 , 0.09970983, 0.14345099, ..., 0.14327858,\n",
       "          0.08865938, 0.15223035],\n",
       "         [0.02016336, 0.02158379, 0.10904532, ..., 0.09944879,\n",
       "          0.07832196, 0.01666731],\n",
       "         [0.12984881, 0.12587337, 0.0857042 , ..., 0.16456479,\n",
       "          0.02836869, 0.05647627],\n",
       "         [0.13898344, 0.02620659, 0.14816716, ..., 0.16701262,\n",
       "          0.03971377, 0.04728276],\n",
       "         [0.04083809, 0.03583303, 0.08904722, ..., 0.12696108,\n",
       "          0.16822158, 0.11889303]],\n",
       "\n",
       "        [[0.05477534, 0.19850188, 0.2855816 , ..., 0.28523836,\n",
       "          0.1765027 , 0.3030595 ],\n",
       "         [0.04014113, 0.04296891, 0.21708693, ..., 0.1979822 ,\n",
       "          0.15592301, 0.0331812 ],\n",
       "         [0.2585024 , 0.25058815, 0.17061953, ..., 0.32761484,\n",
       "          0.05647627, 0.1124327 ],\n",
       "         [0.27668762, 0.05217196, 0.2949705 , ..., 0.33248797,\n",
       "          0.079062  , 0.0941303 ],\n",
       "         [0.08130027, 0.07133624, 0.17727481, ..., 0.25275356,\n",
       "          0.33489475, 0.2366917 ]]],\n",
       "\n",
       "\n",
       "       [[[0.13479759, 0.48849675, 0.70279276, ..., 0.70194805,\n",
       "          0.4343586 , 0.7458044 ],\n",
       "         [0.09878401, 0.10574295, 0.53423303, ..., 0.48721787,\n",
       "          0.3837137 , 0.0816562 ],\n",
       "         [0.6361531 , 0.61667675, 0.41988063, ..., 0.8062331 ,\n",
       "          0.13898344, 0.27668762],\n",
       "         [0.6809054 , 0.1283909 , 0.7258981 , ..., 0.81822544,\n",
       "          0.19456506, 0.23164691],\n",
       "         [0.20007327, 0.1755526 , 0.43625867, ..., 0.62200564,\n",
       "          0.82414836, 0.58247876]],\n",
       "\n",
       "        [[0.02541731, 0.0921105 , 0.13251795, ..., 0.13235867,\n",
       "          0.08190226, 0.14062819],\n",
       "         [0.01862662, 0.01993879, 0.10073449, ..., 0.09186935,\n",
       "          0.0723527 , 0.01539702],\n",
       "         [0.11995244, 0.11628   , 0.0791723 , ..., 0.15202257,\n",
       "          0.02620659, 0.05217196],\n",
       "         [0.1283909 , 0.02420927, 0.13687468, ..., 0.15428384,\n",
       "          0.03668701, 0.04367913],\n",
       "         [0.03772563, 0.03310204, 0.08226053, ..., 0.1172848 ,\n",
       "          0.15540065, 0.10983165]],\n",
       "\n",
       "        [[0.14370471, 0.52077556, 0.7492317 , ..., 0.74833125,\n",
       "          0.46306005, 0.7950855 ],\n",
       "         [0.10531145, 0.11273021, 0.56953394, ..., 0.51941216,\n",
       "          0.4090686 , 0.08705185],\n",
       "         [0.6781887 , 0.65742534, 0.44762537, ..., 0.8595072 ,\n",
       "          0.14816716, 0.2949705 ],\n",
       "         [0.7258981 , 0.13687468, 0.7738638 , ..., 0.8722919 ,\n",
       "          0.20742148, 0.24695362],\n",
       "         [0.21329366, 0.18715273, 0.46508566, ..., 0.6631064 ,\n",
       "          0.87860626, 0.6209676 ]],\n",
       "\n",
       "        ...,\n",
       "\n",
       "        [[0.1619826 , 0.58701324, 0.8445269 , ..., 0.8435118 ,\n",
       "          0.52195686, 0.8962128 ],\n",
       "         [0.11870605, 0.12706843, 0.64197326, ..., 0.58547646,\n",
       "          0.46109825, 0.09812402],\n",
       "         [0.7644478 , 0.7410436 , 0.5045591 , ..., 0.9688283 ,\n",
       "          0.16701262, 0.33248797],\n",
       "         [0.81822544, 0.15428384, 0.8722919 , ..., 0.9832392 ,\n",
       "          0.23380353, 0.27836376],\n",
       "         [0.24042259, 0.21095677, 0.52424014, ..., 0.7474472 ,\n",
       "          0.9903566 , 0.69994885]],\n",
       "\n",
       "        [[0.03851769, 0.13958533, 0.20081925, ..., 0.20057788,\n",
       "          0.12411564, 0.2131096 ],\n",
       "         [0.028227  , 0.03021548, 0.15265422, ..., 0.1392199 ,\n",
       "          0.10964412, 0.02333282],\n",
       "         [0.18177733, 0.17621207, 0.11997863, ..., 0.23037678,\n",
       "          0.03971377, 0.079062  ],\n",
       "         [0.19456506, 0.03668701, 0.20742148, ..., 0.23380353,\n",
       "          0.05559592, 0.06619186],\n",
       "         [0.05716986, 0.05016321, 0.12465857, ..., 0.17773476,\n",
       "          0.23549597, 0.16644017]],\n",
       "\n",
       "        [[0.04585871, 0.16618867, 0.23909308, ..., 0.23880571,\n",
       "          0.14777064, 0.25372583],\n",
       "         [0.03360674, 0.0359742 , 0.18174835, ..., 0.16575359,\n",
       "          0.13054103, 0.02777978],\n",
       "         [0.21642199, 0.20979606, 0.14284517, ..., 0.27428395,\n",
       "          0.04728276, 0.0941303 ],\n",
       "         [0.23164691, 0.04367913, 0.24695362, ..., 0.27836376,\n",
       "          0.06619186, 0.07880726],\n",
       "         [0.06806578, 0.05972374, 0.14841706, ..., 0.21160896,\n",
       "          0.2803788 , 0.19816175]]],\n",
       "\n",
       "\n",
       "       [[[0.03960814, 0.14353703, 0.20650452, ..., 0.20625632,\n",
       "          0.1276294 , 0.21914281],\n",
       "         [0.02902612, 0.03107089, 0.15697591, ..., 0.14316125,\n",
       "          0.11274819, 0.02399338],\n",
       "         [0.18692352, 0.1812007 , 0.12337527, ..., 0.23689882,\n",
       "          0.04083809, 0.08130027],\n",
       "         [0.20007327, 0.03772563, 0.21329366, ..., 0.24042259,\n",
       "          0.05716986, 0.06806578],\n",
       "         [0.05878836, 0.05158335, 0.1281877 , ..., 0.18276651,\n",
       "          0.24216294, 0.17115216]],\n",
       "\n",
       "        [[0.03475383, 0.12594536, 0.18119565, ..., 0.18097787,\n",
       "          0.11198734, 0.19228502],\n",
       "         [0.02546872, 0.02726289, 0.1377372 , ..., 0.12561564,\n",
       "          0.09892995, 0.02105279],\n",
       "         [0.16401446, 0.15899302, 0.10825459, ..., 0.20786488,\n",
       "          0.03583303, 0.07133624],\n",
       "         [0.1755526 , 0.03310204, 0.18715273, ..., 0.21095677,\n",
       "          0.05016321, 0.05972374],\n",
       "         [0.05158335, 0.04526138, 0.11247722, ..., 0.16036694,\n",
       "          0.21248384, 0.15017602]],\n",
       "\n",
       "        [[0.08636533, 0.31298172, 0.45028198, ..., 0.4497408 ,\n",
       "          0.27829522, 0.47783974],\n",
       "         [0.0632913 , 0.06774992, 0.34228513, ..., 0.31216234,\n",
       "          0.24584681, 0.05231743],\n",
       "         [0.4075857 , 0.39510715, 0.2690191 , ..., 0.5165566 ,\n",
       "          0.08904722, 0.17727481],\n",
       "         [0.43625867, 0.08226053, 0.46508566, ..., 0.52424014,\n",
       "          0.12465857, 0.14841706],\n",
       "         [0.1281877 , 0.11247722, 0.27951258, ..., 0.39852136,\n",
       "          0.528035  , 0.37319636]],\n",
       "\n",
       "        ...,\n",
       "\n",
       "        [[0.12313732, 0.44624075, 0.64199966, ..., 0.6412281 ,\n",
       "          0.39678568, 0.68129075],\n",
       "         [0.09023899, 0.09659597, 0.48802075, ..., 0.4450725 ,\n",
       "          0.35052162, 0.07459276],\n",
       "         [0.58112454, 0.5633329 , 0.38356006, ..., 0.7364922 ,\n",
       "          0.12696108, 0.25275356],\n",
       "         [0.62200564, 0.1172848 , 0.6631064 , ..., 0.7474472 ,\n",
       "          0.17773476, 0.21160896],\n",
       "         [0.18276651, 0.16036694, 0.39852136, ..., 0.5682008 ,\n",
       "          0.7528578 , 0.5320931 ]],\n",
       "\n",
       "        [[0.16315514, 0.59126246, 0.8506402 , ..., 0.84961784,\n",
       "          0.5257352 , 0.9027003 ],\n",
       "         [0.11956534, 0.12798825, 0.64662033, ..., 0.5897145 ,\n",
       "          0.46443602, 0.09883431],\n",
       "         [0.7699815 , 0.74640787, 0.50821143, ..., 0.97584146,\n",
       "          0.16822158, 0.33489475],\n",
       "         [0.82414836, 0.15540065, 0.87860626, ..., 0.9903566 ,\n",
       "          0.23549597, 0.2803788 ],\n",
       "         [0.24216294, 0.21248384, 0.528035  , ..., 0.7528578 ,\n",
       "          0.9975256 , 0.7050156 ]],\n",
       "\n",
       "        [[0.11531225, 0.41788328, 0.60120225, ..., 0.60047966,\n",
       "          0.37157094, 0.63799644],\n",
       "         [0.08450453, 0.09045754, 0.45700824, ..., 0.41678926,\n",
       "          0.32824686, 0.06985258],\n",
       "         [0.54419553, 0.52753454, 0.35918579, ..., 0.68969   ,\n",
       "          0.11889303, 0.2366917 ],\n",
       "         [0.58247876, 0.10983165, 0.6209676 , ..., 0.69994885,\n",
       "          0.16644017, 0.19816175],\n",
       "         [0.17115216, 0.15017602, 0.37319636, ..., 0.5320931 ,\n",
       "          0.7050156 , 0.49827993]]]], dtype=float32)>"
      ]
     },
     "execution_count": 81,
     "metadata": {},
     "output_type": "execute_result"
    }
   ],
   "source": [
    "tf.tensordot(A, A, axes=0)"
   ]
  },
  {
   "cell_type": "code",
   "execution_count": 82,
   "metadata": {},
   "outputs": [
    {
     "data": {
      "text/plain": [
       "<tf.Tensor: shape=(224, 224, 3), dtype=float32, numpy=\n",
       "array([[[0.54037714, 0.95120025, 0.95399   ],\n",
       "        [0.6467757 , 0.48521233, 0.64364755],\n",
       "        [0.27196133, 0.84357405, 0.5411366 ],\n",
       "        ...,\n",
       "        [0.9613178 , 0.47182584, 0.87803376],\n",
       "        [0.04718602, 0.20706773, 0.00316632],\n",
       "        [0.4804598 , 0.8646816 , 0.0931716 ]],\n",
       "\n",
       "       [[0.9438642 , 0.03180563, 0.62332964],\n",
       "        [0.13434994, 0.8573054 , 0.77857697],\n",
       "        [0.1116327 , 0.95606995, 0.3790021 ],\n",
       "        ...,\n",
       "        [0.7250663 , 0.11856782, 0.09808278],\n",
       "        [0.08598197, 0.68951154, 0.37495434],\n",
       "        [0.8401302 , 0.08692443, 0.747406  ]],\n",
       "\n",
       "       [[0.90810657, 0.5486295 , 0.90293133],\n",
       "        [0.86452544, 0.74577296, 0.39832163],\n",
       "        [0.3070612 , 0.61025715, 0.25765598],\n",
       "        ...,\n",
       "        [0.24572694, 0.17337883, 0.23270547],\n",
       "        [0.9823624 , 0.41343737, 0.00487185],\n",
       "        [0.5514375 , 0.7449944 , 0.6183759 ]],\n",
       "\n",
       "       ...,\n",
       "\n",
       "       [[0.0094465 , 0.08500791, 0.7482455 ],\n",
       "        [0.9787444 , 0.7786584 , 0.01071107],\n",
       "        [0.1558435 , 0.28672922, 0.33610594],\n",
       "        ...,\n",
       "        [0.5140698 , 0.8184556 , 0.9193078 ],\n",
       "        [0.07857764, 0.79742265, 0.6482513 ],\n",
       "        [0.8999404 , 0.08802998, 0.04198611]],\n",
       "\n",
       "       [[0.7422061 , 0.5353124 , 0.5150368 ],\n",
       "        [0.56157553, 0.5296079 , 0.8320179 ],\n",
       "        [0.6108097 , 0.20623362, 0.8924202 ],\n",
       "        ...,\n",
       "        [0.8830446 , 0.4185592 , 0.7466512 ],\n",
       "        [0.06298268, 0.8908073 , 0.08253706],\n",
       "        [0.79809415, 0.8569889 , 0.5230212 ]],\n",
       "\n",
       "       [[0.88527465, 0.24271274, 0.9573376 ],\n",
       "        [0.8635149 , 0.9903203 , 0.42879558],\n",
       "        [0.13909936, 0.18214619, 0.6695187 ],\n",
       "        ...,\n",
       "        [0.28386748, 0.33938253, 0.47236347],\n",
       "        [0.25690484, 0.6085079 , 0.5109596 ],\n",
       "        [0.9189372 , 0.8032855 , 0.7388438 ]]], dtype=float32)>"
      ]
     },
     "execution_count": 82,
     "metadata": {},
     "output_type": "execute_result"
    }
   ],
   "source": [
    "# 6\n",
    "A = tf.random.uniform(shape=(224,224,3))\n",
    "A"
   ]
  },
  {
   "cell_type": "code",
   "execution_count": 84,
   "metadata": {},
   "outputs": [
    {
     "data": {
      "text/plain": [
       "(<tf.Tensor: shape=(), dtype=float32, numpy=5.9604645e-07>,\n",
       " <tf.Tensor: shape=(), dtype=float32, numpy=0.99999917>)"
      ]
     },
     "execution_count": 84,
     "metadata": {},
     "output_type": "execute_result"
    }
   ],
   "source": [
    "# 7\n",
    "tf.reduce_min(A), tf.reduce_max(A)"
   ]
  },
  {
   "cell_type": "code",
   "execution_count": 85,
   "metadata": {},
   "outputs": [
    {
     "data": {
      "text/plain": [
       "(<tf.Tensor: shape=(1, 224, 224, 3), dtype=float32, numpy=\n",
       " array([[[[0.8581666 , 0.44649184, 0.9317241 ],\n",
       "          [0.02510226, 0.6485437 , 0.13660705],\n",
       "          [0.94095397, 0.3847338 , 0.8646208 ],\n",
       "          ...,\n",
       "          [0.09569287, 0.9931985 , 0.17487276],\n",
       "          [0.21844053, 0.7054652 , 0.79532564],\n",
       "          [0.36999834, 0.6441492 , 0.11775267]],\n",
       " \n",
       "         [[0.69922435, 0.5801791 , 0.87869227],\n",
       "          [0.02418411, 0.42442822, 0.8696997 ],\n",
       "          [0.6419182 , 0.6303208 , 0.58338773],\n",
       "          ...,\n",
       "          [0.6997907 , 0.91809034, 0.50157106],\n",
       "          [0.6423228 , 0.10376549, 0.5488192 ],\n",
       "          [0.9604647 , 0.19490612, 0.94285274]],\n",
       " \n",
       "         [[0.06515884, 0.61697805, 0.26114023],\n",
       "          [0.81418455, 0.6559005 , 0.6128646 ],\n",
       "          [0.3859161 , 0.70112085, 0.64312506],\n",
       "          ...,\n",
       "          [0.32510233, 0.24205446, 0.5802387 ],\n",
       "          [0.20863402, 0.70431554, 0.22972405],\n",
       "          [0.9870937 , 0.8736162 , 0.8985667 ]],\n",
       " \n",
       "         ...,\n",
       " \n",
       "         [[0.95330334, 0.77447283, 0.6703409 ],\n",
       "          [0.83356273, 0.8824595 , 0.71025   ],\n",
       "          [0.11596107, 0.5777813 , 0.77256453],\n",
       "          ...,\n",
       "          [0.49948502, 0.96130073, 0.4241475 ],\n",
       "          [0.64546716, 0.90906453, 0.53101087],\n",
       "          [0.40039992, 0.8492465 , 0.77627456]],\n",
       " \n",
       "         [[0.9638617 , 0.28514576, 0.628899  ],\n",
       "          [0.48059022, 0.5477382 , 0.65296113],\n",
       "          [0.5511687 , 0.7638917 , 0.57058966],\n",
       "          ...,\n",
       "          [0.8588499 , 0.94141316, 0.42517185],\n",
       "          [0.04928637, 0.21530557, 0.2280606 ],\n",
       "          [0.5098511 , 0.04085672, 0.20703864]],\n",
       " \n",
       "         [[0.43600368, 0.6480845 , 0.09723282],\n",
       "          [0.87032866, 0.47058594, 0.43287945],\n",
       "          [0.522336  , 0.95730484, 0.7575704 ],\n",
       "          ...,\n",
       "          [0.70979404, 0.0713973 , 0.6155317 ],\n",
       "          [0.08926022, 0.40665329, 0.9191525 ],\n",
       "          [0.64123046, 0.24500942, 0.74559414]]]], dtype=float32)>,\n",
       " <tf.Tensor: shape=(224, 224, 3), dtype=float32, numpy=\n",
       " array([[[0.8581666 , 0.44649184, 0.9317241 ],\n",
       "         [0.02510226, 0.6485437 , 0.13660705],\n",
       "         [0.94095397, 0.3847338 , 0.8646208 ],\n",
       "         ...,\n",
       "         [0.09569287, 0.9931985 , 0.17487276],\n",
       "         [0.21844053, 0.7054652 , 0.79532564],\n",
       "         [0.36999834, 0.6441492 , 0.11775267]],\n",
       " \n",
       "        [[0.69922435, 0.5801791 , 0.87869227],\n",
       "         [0.02418411, 0.42442822, 0.8696997 ],\n",
       "         [0.6419182 , 0.6303208 , 0.58338773],\n",
       "         ...,\n",
       "         [0.6997907 , 0.91809034, 0.50157106],\n",
       "         [0.6423228 , 0.10376549, 0.5488192 ],\n",
       "         [0.9604647 , 0.19490612, 0.94285274]],\n",
       " \n",
       "        [[0.06515884, 0.61697805, 0.26114023],\n",
       "         [0.81418455, 0.6559005 , 0.6128646 ],\n",
       "         [0.3859161 , 0.70112085, 0.64312506],\n",
       "         ...,\n",
       "         [0.32510233, 0.24205446, 0.5802387 ],\n",
       "         [0.20863402, 0.70431554, 0.22972405],\n",
       "         [0.9870937 , 0.8736162 , 0.8985667 ]],\n",
       " \n",
       "        ...,\n",
       " \n",
       "        [[0.95330334, 0.77447283, 0.6703409 ],\n",
       "         [0.83356273, 0.8824595 , 0.71025   ],\n",
       "         [0.11596107, 0.5777813 , 0.77256453],\n",
       "         ...,\n",
       "         [0.49948502, 0.96130073, 0.4241475 ],\n",
       "         [0.64546716, 0.90906453, 0.53101087],\n",
       "         [0.40039992, 0.8492465 , 0.77627456]],\n",
       " \n",
       "        [[0.9638617 , 0.28514576, 0.628899  ],\n",
       "         [0.48059022, 0.5477382 , 0.65296113],\n",
       "         [0.5511687 , 0.7638917 , 0.57058966],\n",
       "         ...,\n",
       "         [0.8588499 , 0.94141316, 0.42517185],\n",
       "         [0.04928637, 0.21530557, 0.2280606 ],\n",
       "         [0.5098511 , 0.04085672, 0.20703864]],\n",
       " \n",
       "        [[0.43600368, 0.6480845 , 0.09723282],\n",
       "         [0.87032866, 0.47058594, 0.43287945],\n",
       "         [0.522336  , 0.95730484, 0.7575704 ],\n",
       "         ...,\n",
       "         [0.70979404, 0.0713973 , 0.6155317 ],\n",
       "         [0.08926022, 0.40665329, 0.9191525 ],\n",
       "         [0.64123046, 0.24500942, 0.74559414]]], dtype=float32)>)"
      ]
     },
     "execution_count": 85,
     "metadata": {},
     "output_type": "execute_result"
    }
   ],
   "source": [
    "# 8\n",
    "A = tf.random.uniform(shape=(1,224,224,3))\n",
    "B = tf.squeeze(A,axis=0)\n",
    "A,B\n"
   ]
  },
  {
   "cell_type": "code",
   "execution_count": 87,
   "metadata": {},
   "outputs": [
    {
     "name": "stdout",
     "output_type": "stream",
     "text": [
      "tf.Tensor(\n",
      "[0.1979078  0.53682876 0.77903605 0.42222726 0.43294215 0.64012706\n",
      " 0.26359963 0.02488887 0.04056084 0.2947656 ], shape=(10,), dtype=float32)\n"
     ]
    },
    {
     "data": {
      "text/plain": [
       "(<tf.Tensor: shape=(), dtype=int64, numpy=2>,\n",
       " <tf.Tensor: shape=(), dtype=float32, numpy=0.77903605>)"
      ]
     },
     "execution_count": 87,
     "metadata": {},
     "output_type": "execute_result"
    }
   ],
   "source": [
    "# 9\n",
    "A = tf.random.uniform(shape=[10])\n",
    "print(A)\n",
    "tf.argmax(A), A[tf.argmax(A)]"
   ]
  },
  {
   "cell_type": "code",
   "execution_count": 92,
   "metadata": {},
   "outputs": [
    {
     "data": {
      "text/plain": [
       "<tf.Tensor: shape=(10, 10, 10), dtype=float32, numpy=\n",
       "array([[[0., 1., 0., 0., 0., 0., 0., 0., 0., 0.],\n",
       "        [1., 0., 0., 0., 0., 0., 0., 0., 0., 0.],\n",
       "        [1., 0., 0., 0., 0., 0., 0., 0., 0., 0.],\n",
       "        [1., 0., 0., 0., 0., 0., 0., 0., 0., 0.],\n",
       "        [1., 0., 0., 0., 0., 0., 0., 0., 0., 0.],\n",
       "        [1., 0., 0., 0., 0., 0., 0., 0., 0., 0.],\n",
       "        [1., 0., 0., 0., 0., 0., 0., 0., 0., 0.],\n",
       "        [1., 0., 0., 0., 0., 0., 0., 0., 0., 0.],\n",
       "        [1., 0., 0., 0., 0., 0., 0., 0., 0., 0.],\n",
       "        [1., 0., 0., 0., 0., 0., 0., 0., 0., 0.]],\n",
       "\n",
       "       [[0., 1., 0., 0., 0., 0., 0., 0., 0., 0.],\n",
       "        [1., 0., 0., 0., 0., 0., 0., 0., 0., 0.],\n",
       "        [1., 0., 0., 0., 0., 0., 0., 0., 0., 0.],\n",
       "        [1., 0., 0., 0., 0., 0., 0., 0., 0., 0.],\n",
       "        [1., 0., 0., 0., 0., 0., 0., 0., 0., 0.],\n",
       "        [1., 0., 0., 0., 0., 0., 0., 0., 0., 0.],\n",
       "        [1., 0., 0., 0., 0., 0., 0., 0., 0., 0.],\n",
       "        [1., 0., 0., 0., 0., 0., 0., 0., 0., 0.],\n",
       "        [1., 0., 0., 0., 0., 0., 0., 0., 0., 0.],\n",
       "        [1., 0., 0., 0., 0., 0., 0., 0., 0., 0.]],\n",
       "\n",
       "       [[0., 1., 0., 0., 0., 0., 0., 0., 0., 0.],\n",
       "        [1., 0., 0., 0., 0., 0., 0., 0., 0., 0.],\n",
       "        [1., 0., 0., 0., 0., 0., 0., 0., 0., 0.],\n",
       "        [1., 0., 0., 0., 0., 0., 0., 0., 0., 0.],\n",
       "        [1., 0., 0., 0., 0., 0., 0., 0., 0., 0.],\n",
       "        [1., 0., 0., 0., 0., 0., 0., 0., 0., 0.],\n",
       "        [1., 0., 0., 0., 0., 0., 0., 0., 0., 0.],\n",
       "        [1., 0., 0., 0., 0., 0., 0., 0., 0., 0.],\n",
       "        [1., 0., 0., 0., 0., 0., 0., 0., 0., 0.],\n",
       "        [1., 0., 0., 0., 0., 0., 0., 0., 0., 0.]],\n",
       "\n",
       "       [[0., 1., 0., 0., 0., 0., 0., 0., 0., 0.],\n",
       "        [1., 0., 0., 0., 0., 0., 0., 0., 0., 0.],\n",
       "        [1., 0., 0., 0., 0., 0., 0., 0., 0., 0.],\n",
       "        [1., 0., 0., 0., 0., 0., 0., 0., 0., 0.],\n",
       "        [1., 0., 0., 0., 0., 0., 0., 0., 0., 0.],\n",
       "        [1., 0., 0., 0., 0., 0., 0., 0., 0., 0.],\n",
       "        [1., 0., 0., 0., 0., 0., 0., 0., 0., 0.],\n",
       "        [1., 0., 0., 0., 0., 0., 0., 0., 0., 0.],\n",
       "        [1., 0., 0., 0., 0., 0., 0., 0., 0., 0.],\n",
       "        [1., 0., 0., 0., 0., 0., 0., 0., 0., 0.]],\n",
       "\n",
       "       [[0., 1., 0., 0., 0., 0., 0., 0., 0., 0.],\n",
       "        [1., 0., 0., 0., 0., 0., 0., 0., 0., 0.],\n",
       "        [1., 0., 0., 0., 0., 0., 0., 0., 0., 0.],\n",
       "        [1., 0., 0., 0., 0., 0., 0., 0., 0., 0.],\n",
       "        [1., 0., 0., 0., 0., 0., 0., 0., 0., 0.],\n",
       "        [1., 0., 0., 0., 0., 0., 0., 0., 0., 0.],\n",
       "        [1., 0., 0., 0., 0., 0., 0., 0., 0., 0.],\n",
       "        [1., 0., 0., 0., 0., 0., 0., 0., 0., 0.],\n",
       "        [1., 0., 0., 0., 0., 0., 0., 0., 0., 0.],\n",
       "        [1., 0., 0., 0., 0., 0., 0., 0., 0., 0.]],\n",
       "\n",
       "       [[0., 1., 0., 0., 0., 0., 0., 0., 0., 0.],\n",
       "        [1., 0., 0., 0., 0., 0., 0., 0., 0., 0.],\n",
       "        [1., 0., 0., 0., 0., 0., 0., 0., 0., 0.],\n",
       "        [1., 0., 0., 0., 0., 0., 0., 0., 0., 0.],\n",
       "        [1., 0., 0., 0., 0., 0., 0., 0., 0., 0.],\n",
       "        [1., 0., 0., 0., 0., 0., 0., 0., 0., 0.],\n",
       "        [1., 0., 0., 0., 0., 0., 0., 0., 0., 0.],\n",
       "        [1., 0., 0., 0., 0., 0., 0., 0., 0., 0.],\n",
       "        [1., 0., 0., 0., 0., 0., 0., 0., 0., 0.],\n",
       "        [1., 0., 0., 0., 0., 0., 0., 0., 0., 0.]],\n",
       "\n",
       "       [[0., 1., 0., 0., 0., 0., 0., 0., 0., 0.],\n",
       "        [1., 0., 0., 0., 0., 0., 0., 0., 0., 0.],\n",
       "        [1., 0., 0., 0., 0., 0., 0., 0., 0., 0.],\n",
       "        [1., 0., 0., 0., 0., 0., 0., 0., 0., 0.],\n",
       "        [1., 0., 0., 0., 0., 0., 0., 0., 0., 0.],\n",
       "        [1., 0., 0., 0., 0., 0., 0., 0., 0., 0.],\n",
       "        [1., 0., 0., 0., 0., 0., 0., 0., 0., 0.],\n",
       "        [1., 0., 0., 0., 0., 0., 0., 0., 0., 0.],\n",
       "        [1., 0., 0., 0., 0., 0., 0., 0., 0., 0.],\n",
       "        [1., 0., 0., 0., 0., 0., 0., 0., 0., 0.]],\n",
       "\n",
       "       [[0., 1., 0., 0., 0., 0., 0., 0., 0., 0.],\n",
       "        [1., 0., 0., 0., 0., 0., 0., 0., 0., 0.],\n",
       "        [1., 0., 0., 0., 0., 0., 0., 0., 0., 0.],\n",
       "        [1., 0., 0., 0., 0., 0., 0., 0., 0., 0.],\n",
       "        [1., 0., 0., 0., 0., 0., 0., 0., 0., 0.],\n",
       "        [1., 0., 0., 0., 0., 0., 0., 0., 0., 0.],\n",
       "        [1., 0., 0., 0., 0., 0., 0., 0., 0., 0.],\n",
       "        [1., 0., 0., 0., 0., 0., 0., 0., 0., 0.],\n",
       "        [1., 0., 0., 0., 0., 0., 0., 0., 0., 0.],\n",
       "        [1., 0., 0., 0., 0., 0., 0., 0., 0., 0.]],\n",
       "\n",
       "       [[0., 1., 0., 0., 0., 0., 0., 0., 0., 0.],\n",
       "        [1., 0., 0., 0., 0., 0., 0., 0., 0., 0.],\n",
       "        [1., 0., 0., 0., 0., 0., 0., 0., 0., 0.],\n",
       "        [1., 0., 0., 0., 0., 0., 0., 0., 0., 0.],\n",
       "        [1., 0., 0., 0., 0., 0., 0., 0., 0., 0.],\n",
       "        [1., 0., 0., 0., 0., 0., 0., 0., 0., 0.],\n",
       "        [1., 0., 0., 0., 0., 0., 0., 0., 0., 0.],\n",
       "        [1., 0., 0., 0., 0., 0., 0., 0., 0., 0.],\n",
       "        [1., 0., 0., 0., 0., 0., 0., 0., 0., 0.],\n",
       "        [1., 0., 0., 0., 0., 0., 0., 0., 0., 0.]],\n",
       "\n",
       "       [[0., 1., 0., 0., 0., 0., 0., 0., 0., 0.],\n",
       "        [1., 0., 0., 0., 0., 0., 0., 0., 0., 0.],\n",
       "        [1., 0., 0., 0., 0., 0., 0., 0., 0., 0.],\n",
       "        [1., 0., 0., 0., 0., 0., 0., 0., 0., 0.],\n",
       "        [1., 0., 0., 0., 0., 0., 0., 0., 0., 0.],\n",
       "        [1., 0., 0., 0., 0., 0., 0., 0., 0., 0.],\n",
       "        [1., 0., 0., 0., 0., 0., 0., 0., 0., 0.],\n",
       "        [1., 0., 0., 0., 0., 0., 0., 0., 0., 0.],\n",
       "        [1., 0., 0., 0., 0., 0., 0., 0., 0., 0.],\n",
       "        [1., 0., 0., 0., 0., 0., 0., 0., 0., 0.]]], dtype=float32)>"
      ]
     },
     "execution_count": 92,
     "metadata": {},
     "output_type": "execute_result"
    }
   ],
   "source": [
    "# 10\n",
    "A = tf.one_hot(tf.cast(A, dtype=tf.int32), depth=10)\n",
    "A"
   ]
  },
  {
   "cell_type": "code",
   "execution_count": null,
   "metadata": {},
   "outputs": [],
   "source": []
  }
 ],
 "metadata": {
  "kernelspec": {
   "display_name": "Python 3",
   "language": "python",
   "name": "python3"
  },
  "language_info": {
   "codemirror_mode": {
    "name": "ipython",
    "version": 3
   },
   "file_extension": ".py",
   "mimetype": "text/x-python",
   "name": "python",
   "nbconvert_exporter": "python",
   "pygments_lexer": "ipython3",
   "version": "3.11.3"
  },
  "orig_nbformat": 4
 },
 "nbformat": 4,
 "nbformat_minor": 2
}
